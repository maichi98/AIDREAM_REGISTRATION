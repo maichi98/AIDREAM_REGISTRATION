{
 "cells": [
  {
   "cell_type": "code",
   "id": "initial_id",
   "metadata": {
    "collapsed": true,
    "ExecuteTime": {
     "end_time": "2025-01-20T14:10:31.966131Z",
     "start_time": "2025-01-20T14:10:31.046783Z"
    }
   },
   "source": [
    "from rt_utils import RTStructBuilder\n",
    "import ants\n",
    "import SimpleITK as sitk\n",
    "import numpy as np\n",
    "\n",
    "from aidream_registration.utils.cohort_utils import get_perfusion_patients"
   ],
   "outputs": [],
   "execution_count": 1
  },
  {
   "metadata": {
    "ExecuteTime": {
     "end_time": "2025-01-20T08:36:56.850194Z",
     "start_time": "2025-01-20T08:36:56.848531Z"
    }
   },
   "cell_type": "code",
   "source": "dir_dicom = \"/home/maichi/work/my_projects/AIDREAM/AIDREAM_REGISTRATION/data/DICOM HAMMERSMITH\"\n",
   "id": "7f694203eb28001",
   "outputs": [],
   "execution_count": 10
  },
  {
   "metadata": {
    "ExecuteTime": {
     "end_time": "2025-01-20T08:36:57.651717Z",
     "start_time": "2025-01-20T08:36:57.562550Z"
    }
   },
   "cell_type": "code",
   "source": "rtstruct = RTStructBuilder.create_new(dicom_series_path=dir_dicom)",
   "id": "b2b4fd877d29d913",
   "outputs": [],
   "execution_count": 11
  },
  {
   "metadata": {
    "ExecuteTime": {
     "end_time": "2025-01-20T08:36:58.267207Z",
     "start_time": "2025-01-20T08:36:58.265444Z"
    }
   },
   "cell_type": "code",
   "source": [
    "# Flip along a specific axis\n",
    "def flip_axis(mask, axis):\n",
    "    return np.flip(mask, axis=axis)\n",
    "\n",
    "# Permute axes\n",
    "def permute_axes(mask, order):\n",
    "    return np.transpose(mask, axes=order)"
   ],
   "id": "32aff2a9d558e4ab",
   "outputs": [],
   "execution_count": 12
  },
  {
   "metadata": {
    "ExecuteTime": {
     "end_time": "2025-01-20T08:36:58.787637Z",
     "start_time": "2025-01-20T08:36:58.755651Z"
    }
   },
   "cell_type": "code",
   "source": [
    "mask = ants.image_read(str(\"/home/maichi/work/my_projects/AIDREAM/AIDREAM_REGISTRATION/data/hammersmith/custom/ventricles.nii.gz\"))\n",
    "mask = mask.numpy() > 0"
   ],
   "id": "d53e2768709c5eb3",
   "outputs": [],
   "execution_count": 13
  },
  {
   "metadata": {
    "ExecuteTime": {
     "end_time": "2025-01-20T08:36:59.173440Z",
     "start_time": "2025-01-20T08:36:59.171456Z"
    }
   },
   "cell_type": "code",
   "source": "mask = permute_axes(mask, (1, 0, 2))",
   "id": "6d2a675bdd9e4c62",
   "outputs": [],
   "execution_count": 14
  },
  {
   "metadata": {
    "ExecuteTime": {
     "end_time": "2025-01-20T08:36:59.638306Z",
     "start_time": "2025-01-20T08:36:59.571647Z"
    }
   },
   "cell_type": "code",
   "source": "rtstruct.add_roi(mask, name=\"Ventricles\")",
   "id": "e7bd4dd581c54836",
   "outputs": [],
   "execution_count": 15
  },
  {
   "metadata": {
    "ExecuteTime": {
     "end_time": "2025-01-20T08:21:42.701620Z",
     "start_time": "2025-01-20T08:21:42.675999Z"
    }
   },
   "cell_type": "code",
   "source": [
    "\n",
    "rtstruct.save(\"/home/maichi/work/my_projects/AIDREAM/AIDREAM_REGISTRATION/data/hammersmith/custom/ventricles.dcm\")"
   ],
   "id": "15eef61625215ef",
   "outputs": [
    {
     "name": "stdout",
     "output_type": "stream",
     "text": [
      "Writing file to /home/maichi/work/my_projects/AIDREAM/AIDREAM_REGISTRATION/data/hammersmith/custom/ventricles.dcm\n"
     ]
    }
   ],
   "execution_count": 8
  },
  {
   "metadata": {
    "ExecuteTime": {
     "end_time": "2025-01-20T14:10:33.939476Z",
     "start_time": "2025-01-20T14:10:33.937306Z"
    }
   },
   "cell_type": "code",
   "source": "list_patients = get_perfusion_patients()\n",
   "id": "c4fd7addf447372a",
   "outputs": [],
   "execution_count": 2
  },
  {
   "metadata": {
    "ExecuteTime": {
     "end_time": "2025-01-20T14:12:25.873938Z",
     "start_time": "2025-01-20T14:12:23.108150Z"
    }
   },
   "cell_type": "code",
   "source": [
    "import shutil\n",
    "from pathlib import Path\n",
    "\n",
    "for patient in list_patients:\n",
    "\n",
    "    path_t1 = Path(\"/media/maichi/T7/AIDREAM DATA/MRI DATA/REGISTERED MRI BY PIPELINE/pre_RT/OUTPUT_DIR\") / patient / \"skullstripping\" / \"image_n4_register_ss_t1.nii.gz\"\n",
    "    assert path_t1.exists(), f\"File {path_t1} does not exist\"\n",
    "\n",
    "    path_dst = Path(\"/media/maichi/T7/freesurfer\") / fr\"{patient}_t1.nii.gz\"\n",
    "\n",
    "    shutil.copy(path_t1, path_dst)\n"
   ],
   "id": "6b95b8aa25f48c8a",
   "outputs": [],
   "execution_count": 5
  },
  {
   "metadata": {},
   "cell_type": "code",
   "outputs": [],
   "execution_count": null,
   "source": "",
   "id": "266c22d9dbbef97e"
  }
 ],
 "metadata": {
  "kernelspec": {
   "display_name": "Python 3",
   "language": "python",
   "name": "python3"
  },
  "language_info": {
   "codemirror_mode": {
    "name": "ipython",
    "version": 2
   },
   "file_extension": ".py",
   "mimetype": "text/x-python",
   "name": "python",
   "nbconvert_exporter": "python",
   "pygments_lexer": "ipython2",
   "version": "2.7.6"
  }
 },
 "nbformat": 4,
 "nbformat_minor": 5
}
