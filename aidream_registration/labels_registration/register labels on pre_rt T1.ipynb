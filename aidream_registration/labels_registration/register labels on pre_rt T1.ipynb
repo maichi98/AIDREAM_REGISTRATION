{
 "cells": [
  {
   "cell_type": "code",
   "id": "initial_id",
   "metadata": {
    "collapsed": true,
    "ExecuteTime": {
     "end_time": "2025-04-28T18:32:28.812959Z",
     "start_time": "2025-04-28T18:32:27.869409Z"
    }
   },
   "source": [
    "from aidream_registration import constants\n",
    "import aidream_registration.utils.cohort_utils as cu\n",
    "\n",
    "from aidream_registration.labels_registration.native_label_registration import NativeLabelRegistration\n",
    "from aidream_registration.labels_registration.processed_label_registration import ProcessedLabelRegistration\n"
   ],
   "outputs": [],
   "execution_count": 1
  },
  {
   "metadata": {
    "ExecuteTime": {
     "end_time": "2025-04-28T18:33:25.561617Z",
     "start_time": "2025-04-28T18:33:25.559433Z"
    }
   },
   "cell_type": "code",
   "source": [
    "# the list of perfusion patients :\n",
    "list_patients = cu.get_perfusion_patients()\n",
    "print(fr\"Number of patients: {len(list_patients)}\")\n"
   ],
   "id": "7cc96c9a610114ef",
   "outputs": [
    {
     "name": "stdout",
     "output_type": "stream",
     "text": [
      "Number of patients: 186\n"
     ]
    }
   ],
   "execution_count": 5
  },
  {
   "metadata": {
    "ExecuteTime": {
     "end_time": "2025-04-28T18:51:07.256510Z",
     "start_time": "2025-04-28T18:51:07.253569Z"
    }
   },
   "cell_type": "code",
   "source": "len(df_ref)",
   "id": "b8d73decb5eb659c",
   "outputs": [
    {
     "data": {
      "text/plain": [
       "186"
      ]
     },
     "execution_count": 28,
     "metadata": {},
     "output_type": "execute_result"
    }
   ],
   "execution_count": 28
  },
  {
   "metadata": {
    "ExecuteTime": {
     "end_time": "2025-04-28T18:54:35.822645Z",
     "start_time": "2025-04-28T18:54:35.815658Z"
    }
   },
   "cell_type": "code",
   "source": [
    "# the referential table :\n",
    "df_ref = cu.get_referential_table(list_patients)\n",
    "df_ref.head(5)\n"
   ],
   "id": "3389c60308ba1569",
   "outputs": [
    {
     "data": {
      "text/plain": [
       "    AIDREAM_ID     cohort_ID     local_ID perfusion  complete_validation  \\\n",
       "0    AIDREAM_1  MMI-PROB_140  201211519BP       yes                    1   \n",
       "1   AIDREAM_10  MMI-PROB_050  201002036RR       yes                    1   \n",
       "2  AIDREAM_100  MMI-PROB_139  201210738EE       yes                    1   \n",
       "3  AIDREAM_102  MMI-PROB_085  201101726ZB       yes                    1   \n",
       "4  AIDREAM_103  MMI-PROB_166  201311898RR       yes                    1   \n",
       "\n",
       "   surgery_type    pre_RT_reference pre_RT_TPS  \\\n",
       "0           2.0         AC_repATLAS         RS   \n",
       "1           2.0  AC_repATLAS native         RS   \n",
       "2           0.0         AC_repATLAS         RS   \n",
       "3           2.0         AC_repATLAS         RS   \n",
       "4           2.0         AC_repATLAS         RS   \n",
       "\n",
       "  valid_pre_RT_segmentation_model valid_pre_RT_perfusion_model  \\\n",
       "0                             yes                          yes   \n",
       "1                             yes                          yes   \n",
       "2                             yes                          yes   \n",
       "3                             yes                          yes   \n",
       "4                             yes                          yes   \n",
       "\n",
       "  Rechute_reference Rechute_TPS valid_Rechute_segmentation_model  \\\n",
       "0       AC_repATLAS          RS                              yes   \n",
       "1       AC_repATLAS          RS                              yes   \n",
       "2       AC_repATLAS          RS                              yes   \n",
       "3       AC_repATLAS          RS                              yes   \n",
       "4       AC_repATLAS          RS                              yes   \n",
       "\n",
       "  valid_Rechute_perfusion_model FREESURFER STATUS  \n",
       "0                           yes              ASEG  \n",
       "1                           yes              ASEG  \n",
       "2                            no              ASEG  \n",
       "3                           yes              ASEG  \n",
       "4                           yes              ASEG  "
      ],
      "text/html": [
       "<div>\n",
       "<style scoped>\n",
       "    .dataframe tbody tr th:only-of-type {\n",
       "        vertical-align: middle;\n",
       "    }\n",
       "\n",
       "    .dataframe tbody tr th {\n",
       "        vertical-align: top;\n",
       "    }\n",
       "\n",
       "    .dataframe thead th {\n",
       "        text-align: right;\n",
       "    }\n",
       "</style>\n",
       "<table border=\"1\" class=\"dataframe\">\n",
       "  <thead>\n",
       "    <tr style=\"text-align: right;\">\n",
       "      <th></th>\n",
       "      <th>AIDREAM_ID</th>\n",
       "      <th>cohort_ID</th>\n",
       "      <th>local_ID</th>\n",
       "      <th>perfusion</th>\n",
       "      <th>complete_validation</th>\n",
       "      <th>surgery_type</th>\n",
       "      <th>pre_RT_reference</th>\n",
       "      <th>pre_RT_TPS</th>\n",
       "      <th>valid_pre_RT_segmentation_model</th>\n",
       "      <th>valid_pre_RT_perfusion_model</th>\n",
       "      <th>Rechute_reference</th>\n",
       "      <th>Rechute_TPS</th>\n",
       "      <th>valid_Rechute_segmentation_model</th>\n",
       "      <th>valid_Rechute_perfusion_model</th>\n",
       "      <th>FREESURFER STATUS</th>\n",
       "    </tr>\n",
       "  </thead>\n",
       "  <tbody>\n",
       "    <tr>\n",
       "      <th>0</th>\n",
       "      <td>AIDREAM_1</td>\n",
       "      <td>MMI-PROB_140</td>\n",
       "      <td>201211519BP</td>\n",
       "      <td>yes</td>\n",
       "      <td>1</td>\n",
       "      <td>2.0</td>\n",
       "      <td>AC_repATLAS</td>\n",
       "      <td>RS</td>\n",
       "      <td>yes</td>\n",
       "      <td>yes</td>\n",
       "      <td>AC_repATLAS</td>\n",
       "      <td>RS</td>\n",
       "      <td>yes</td>\n",
       "      <td>yes</td>\n",
       "      <td>ASEG</td>\n",
       "    </tr>\n",
       "    <tr>\n",
       "      <th>1</th>\n",
       "      <td>AIDREAM_10</td>\n",
       "      <td>MMI-PROB_050</td>\n",
       "      <td>201002036RR</td>\n",
       "      <td>yes</td>\n",
       "      <td>1</td>\n",
       "      <td>2.0</td>\n",
       "      <td>AC_repATLAS native</td>\n",
       "      <td>RS</td>\n",
       "      <td>yes</td>\n",
       "      <td>yes</td>\n",
       "      <td>AC_repATLAS</td>\n",
       "      <td>RS</td>\n",
       "      <td>yes</td>\n",
       "      <td>yes</td>\n",
       "      <td>ASEG</td>\n",
       "    </tr>\n",
       "    <tr>\n",
       "      <th>2</th>\n",
       "      <td>AIDREAM_100</td>\n",
       "      <td>MMI-PROB_139</td>\n",
       "      <td>201210738EE</td>\n",
       "      <td>yes</td>\n",
       "      <td>1</td>\n",
       "      <td>0.0</td>\n",
       "      <td>AC_repATLAS</td>\n",
       "      <td>RS</td>\n",
       "      <td>yes</td>\n",
       "      <td>yes</td>\n",
       "      <td>AC_repATLAS</td>\n",
       "      <td>RS</td>\n",
       "      <td>yes</td>\n",
       "      <td>no</td>\n",
       "      <td>ASEG</td>\n",
       "    </tr>\n",
       "    <tr>\n",
       "      <th>3</th>\n",
       "      <td>AIDREAM_102</td>\n",
       "      <td>MMI-PROB_085</td>\n",
       "      <td>201101726ZB</td>\n",
       "      <td>yes</td>\n",
       "      <td>1</td>\n",
       "      <td>2.0</td>\n",
       "      <td>AC_repATLAS</td>\n",
       "      <td>RS</td>\n",
       "      <td>yes</td>\n",
       "      <td>yes</td>\n",
       "      <td>AC_repATLAS</td>\n",
       "      <td>RS</td>\n",
       "      <td>yes</td>\n",
       "      <td>yes</td>\n",
       "      <td>ASEG</td>\n",
       "    </tr>\n",
       "    <tr>\n",
       "      <th>4</th>\n",
       "      <td>AIDREAM_103</td>\n",
       "      <td>MMI-PROB_166</td>\n",
       "      <td>201311898RR</td>\n",
       "      <td>yes</td>\n",
       "      <td>1</td>\n",
       "      <td>2.0</td>\n",
       "      <td>AC_repATLAS</td>\n",
       "      <td>RS</td>\n",
       "      <td>yes</td>\n",
       "      <td>yes</td>\n",
       "      <td>AC_repATLAS</td>\n",
       "      <td>RS</td>\n",
       "      <td>yes</td>\n",
       "      <td>yes</td>\n",
       "      <td>ASEG</td>\n",
       "    </tr>\n",
       "  </tbody>\n",
       "</table>\n",
       "</div>"
      ]
     },
     "execution_count": 42,
     "metadata": {},
     "output_type": "execute_result"
    }
   ],
   "execution_count": 42
  },
  {
   "metadata": {
    "ExecuteTime": {
     "end_time": "2025-03-03T08:28:15.580287Z",
     "start_time": "2025-03-03T08:28:15.578525Z"
    }
   },
   "cell_type": "code",
   "source": [
    "# The Native label registerer :\n",
    "native_label_registerer = NativeLabelRegistration(overwrite=True)\n",
    "\n",
    "# The Processed label registerer :\n",
    "processed_label_registerer = ProcessedLabelRegistration(overwrite=True)\n"
   ],
   "id": "a3fc483744c1fba8",
   "outputs": [],
   "execution_count": 4
  },
  {
   "metadata": {
    "ExecuteTime": {
     "end_time": "2025-04-28T18:38:21.614356Z",
     "start_time": "2025-04-28T18:38:21.611672Z"
    }
   },
   "cell_type": "code",
   "source": [
    "# Pre rt :\n",
    "\n",
    "### 1.1. AC_repATLAS patients :\n",
    "list_processed = [\"AC_repATLAS\", \"GE_repNativAXIALISEDnew\", \"GE_repNativnew\", \"JBD : Quel repère ? Pas de crâne, jcomprends pas\",\n",
    "                  \"skullstripaxialized RS recalé sur GE\", \"skullstripaxialized RS recalé sur GE\"\n",
    "                  ]\n",
    "\n",
    "list_native = [\"AC_repATLAS native\", \"GE_repNATIV\", \"GE_repNativnew\", \"Repère natif\", ]\n",
    "\n",
    "n_processed = len(df_ref.loc[df_ref[\"pre_RT_reference\"].isin(list_processed), \"AIDREAM_ID\"].tolist())\n",
    "print(fr\"Number of patients with processed reference: {n_processed}\")\n",
    "\n",
    "n_native = len(df_ref.loc[df_ref[\"pre_RT_reference\"].isin(list_native), \"AIDREAM_ID\"].tolist())\n",
    "print(fr\"Number of patients with native reference: {n_native}\")\n",
    "\n",
    "# Rechute :\n",
    "\n",
    "\n"
   ],
   "id": "3ac9e78c9d0ec51f",
   "outputs": [
    {
     "name": "stdout",
     "output_type": "stream",
     "text": [
      "Number of patients with processed reference: 146\n",
      "Number of patients with native reference: 52\n"
     ]
    }
   ],
   "execution_count": 8
  },
  {
   "metadata": {},
   "cell_type": "markdown",
   "source": "# 1. First, register pre_RT labels : #",
   "id": "1a8dacc5f120fc8e"
  },
  {
   "metadata": {
    "ExecuteTime": {
     "end_time": "2025-02-26T15:15:06.063900Z",
     "start_time": "2025-02-26T15:15:06.062179Z"
    }
   },
   "cell_type": "code",
   "outputs": [],
   "execution_count": 5,
   "source": [
    "dir_workspace = constants.DIR_DEFAULT_HARD_DRIVE / \"AIDREAM DATA\" / \"LABELS DATA\" / \"REGISTERED LABELS ON PRE_RT T1\"\n",
    "dir_workspace.mkdir(parents=True, exist_ok=True)\n",
    "\n",
    "list_pre_rt_labels = [\"L1\", \"L2\", \"L3\", \"L4\", \"L5\"]\n"
   ],
   "id": "f36d6ea3a2415f57"
  },
  {
   "metadata": {
    "ExecuteTime": {
     "end_time": "2025-02-26T15:15:06.644079Z",
     "start_time": "2025-02-26T15:15:06.639672Z"
    }
   },
   "cell_type": "code",
   "outputs": [
    {
     "data": {
      "text/plain": [
       "                         AIDREAM_ID  cohort_ID  local_ID  perfusion  \\\n",
       "pre_RT_reference                                                      \n",
       "GE_repNativAXIALISEDnew           2          2         2          2   \n",
       "GE_repNativnew                    1          1         1          1   \n",
       "\n",
       "                         complete_validation  surgery_type  pre_RT_TPS  \\\n",
       "pre_RT_reference                                                         \n",
       "GE_repNativAXIALISEDnew                    2             2           2   \n",
       "GE_repNativnew                             1             1           1   \n",
       "\n",
       "                         valid_pre_RT_segmentation_model  \\\n",
       "pre_RT_reference                                           \n",
       "GE_repNativAXIALISEDnew                                2   \n",
       "GE_repNativnew                                         1   \n",
       "\n",
       "                         valid_pre_RT_perfusion_model  Rechute_reference  \\\n",
       "pre_RT_reference                                                           \n",
       "GE_repNativAXIALISEDnew                             2                  1   \n",
       "GE_repNativnew                                      1                  1   \n",
       "\n",
       "                         Rechute_TPS  valid_Rechute_segmentation_model  \\\n",
       "pre_RT_reference                                                         \n",
       "GE_repNativAXIALISEDnew            2                                 2   \n",
       "GE_repNativnew                     1                                 1   \n",
       "\n",
       "                         valid_Rechute_perfusion_model  FREESURFER STATUS  \n",
       "pre_RT_reference                                                           \n",
       "GE_repNativAXIALISEDnew                              2                  2  \n",
       "GE_repNativnew                                       1                  1  "
      ],
      "text/html": [
       "<div>\n",
       "<style scoped>\n",
       "    .dataframe tbody tr th:only-of-type {\n",
       "        vertical-align: middle;\n",
       "    }\n",
       "\n",
       "    .dataframe tbody tr th {\n",
       "        vertical-align: top;\n",
       "    }\n",
       "\n",
       "    .dataframe thead th {\n",
       "        text-align: right;\n",
       "    }\n",
       "</style>\n",
       "<table border=\"1\" class=\"dataframe\">\n",
       "  <thead>\n",
       "    <tr style=\"text-align: right;\">\n",
       "      <th></th>\n",
       "      <th>AIDREAM_ID</th>\n",
       "      <th>cohort_ID</th>\n",
       "      <th>local_ID</th>\n",
       "      <th>perfusion</th>\n",
       "      <th>complete_validation</th>\n",
       "      <th>surgery_type</th>\n",
       "      <th>pre_RT_TPS</th>\n",
       "      <th>valid_pre_RT_segmentation_model</th>\n",
       "      <th>valid_pre_RT_perfusion_model</th>\n",
       "      <th>Rechute_reference</th>\n",
       "      <th>Rechute_TPS</th>\n",
       "      <th>valid_Rechute_segmentation_model</th>\n",
       "      <th>valid_Rechute_perfusion_model</th>\n",
       "      <th>FREESURFER STATUS</th>\n",
       "    </tr>\n",
       "    <tr>\n",
       "      <th>pre_RT_reference</th>\n",
       "      <th></th>\n",
       "      <th></th>\n",
       "      <th></th>\n",
       "      <th></th>\n",
       "      <th></th>\n",
       "      <th></th>\n",
       "      <th></th>\n",
       "      <th></th>\n",
       "      <th></th>\n",
       "      <th></th>\n",
       "      <th></th>\n",
       "      <th></th>\n",
       "      <th></th>\n",
       "      <th></th>\n",
       "    </tr>\n",
       "  </thead>\n",
       "  <tbody>\n",
       "    <tr>\n",
       "      <th>GE_repNativAXIALISEDnew</th>\n",
       "      <td>2</td>\n",
       "      <td>2</td>\n",
       "      <td>2</td>\n",
       "      <td>2</td>\n",
       "      <td>2</td>\n",
       "      <td>2</td>\n",
       "      <td>2</td>\n",
       "      <td>2</td>\n",
       "      <td>2</td>\n",
       "      <td>1</td>\n",
       "      <td>2</td>\n",
       "      <td>2</td>\n",
       "      <td>2</td>\n",
       "      <td>2</td>\n",
       "    </tr>\n",
       "    <tr>\n",
       "      <th>GE_repNativnew</th>\n",
       "      <td>1</td>\n",
       "      <td>1</td>\n",
       "      <td>1</td>\n",
       "      <td>1</td>\n",
       "      <td>1</td>\n",
       "      <td>1</td>\n",
       "      <td>1</td>\n",
       "      <td>1</td>\n",
       "      <td>1</td>\n",
       "      <td>1</td>\n",
       "      <td>1</td>\n",
       "      <td>1</td>\n",
       "      <td>1</td>\n",
       "      <td>1</td>\n",
       "    </tr>\n",
       "  </tbody>\n",
       "</table>\n",
       "</div>"
      ]
     },
     "execution_count": 6,
     "metadata": {},
     "output_type": "execute_result"
    }
   ],
   "execution_count": 6,
   "source": "df_ref.groupby(\"pre_RT_reference\").count()",
   "id": "c4d1f0a9f749d53"
  },
  {
   "metadata": {},
   "cell_type": "markdown",
   "source": "### 1.1. AC_repATLAS patients :",
   "id": "a7c67a7a838d24f5"
  },
  {
   "metadata": {
    "ExecuteTime": {
     "end_time": "2025-04-28T18:51:15.006872Z",
     "start_time": "2025-04-28T18:51:15.003818Z"
    }
   },
   "cell_type": "code",
   "source": [
    "# First, the patients with AC_repATLAS reference :\n",
    "ref = \"AC_repATLAS\"\n",
    "list_patients = df_ref.loc[df_ref[\"pre_RT_reference\"] == ref, \"AIDREAM_ID\"].tolist()\n",
    "\n",
    "print(fr\"Number of patients with {ref} reference: {len(list_patients)}\")\n",
    "\n",
    "# for i, patient in enumerate(list_patients):\n",
    "#\n",
    "#     print(fr\"Processing {i + 1}/{len(list_patients)}: {patient} .........\")\n",
    "#\n",
    "#     processed_label_registerer.apply_affine_transformation_to_labels(patient=patient,\n",
    "#                                                                      stage=\"pre_RT\",\n",
    "#                                                                      reference=ref,\n",
    "#                                                                      list_labels=list_pre_rt_labels)\n",
    "#\n",
    "#     processed_label_registerer.apply_syn_transformation_to_labels(patient=patient,\n",
    "#                                                                   stage=\"pre_RT\",\n",
    "#                                                                   reference=ref,\n",
    "#                                                                   list_labels=list_pre_rt_labels)\n"
   ],
   "id": "6cdbad4754b7be38",
   "outputs": [
    {
     "name": "stdout",
     "output_type": "stream",
     "text": [
      "Number of patients with AC_repATLAS reference: 119\n"
     ]
    }
   ],
   "execution_count": 29
  },
  {
   "metadata": {},
   "cell_type": "markdown",
   "source": "### 1.2. AC_repATLAS native patients :",
   "id": "f6623d8b4e987f08"
  },
  {
   "metadata": {
    "ExecuteTime": {
     "end_time": "2025-04-28T18:51:21.955568Z",
     "start_time": "2025-04-28T18:51:21.952658Z"
    }
   },
   "cell_type": "code",
   "source": [
    "# For the AC_repATLAS native patients, we apply native label registration :\n",
    "ref = \"AC_repATLAS native\"\n",
    "list_patients = df_ref.loc[df_ref[\"pre_RT_reference\"] == ref, \"AIDREAM_ID\"].tolist()\n",
    "\n",
    "print(fr\"Number of patients with {ref} reference: {len(list_patients)}\")\n",
    "\n",
    "# for i, patient in enumerate(list_patients):\n",
    "#\n",
    "#     print(fr\"Processing {i + 1}/{len(list_patients)}: {patient} .........\")\n",
    "#\n",
    "#     native_label_registerer.apply_affine_transformation_to_labels(patient=patient,\n",
    "#                                                                   stage=\"pre_RT\",\n",
    "#                                                                   reference=ref,\n",
    "#                                                                   list_labels=list_pre_rt_labels)\n"
   ],
   "id": "137cf4ae5f12b7ef",
   "outputs": [
    {
     "name": "stdout",
     "output_type": "stream",
     "text": [
      "Number of patients with AC_repATLAS native reference: 1\n"
     ]
    }
   ],
   "execution_count": 30
  },
  {
   "metadata": {},
   "cell_type": "markdown",
   "source": "### 1.3. GE_repNATIV native patients :",
   "id": "5c9a005eeaf73991"
  },
  {
   "metadata": {
    "ExecuteTime": {
     "end_time": "2025-04-28T18:51:30.466452Z",
     "start_time": "2025-04-28T18:51:30.464192Z"
    }
   },
   "cell_type": "code",
   "source": [
    "# For the GE_repNATIV patients, we apply native label registration :\n",
    "ref = \"GE_repNATIV\"\n",
    "list_patients = df_ref.loc[df_ref[\"pre_RT_reference\"] == ref, \"AIDREAM_ID\"].tolist()\n",
    "\n",
    "print(fr\"Number of patients with {ref} reference: {len(list_patients)}\")\n",
    "\n",
    "# for i, patient in enumerate(list_patients):\n",
    "#\n",
    "#     print(fr\"Processing {i + 1}/{len(list_patients)}: {patient} .........\")\n",
    "#\n",
    "#     native_label_registerer.apply_affine_transformation_to_labels(patient=patient,\n",
    "#                                                                   stage=\"pre_RT\",\n",
    "#                                                                   reference=ref,\n",
    "#                                                                   list_labels=list_pre_rt_labels)\n"
   ],
   "id": "4f62fd30426ae26d",
   "outputs": [
    {
     "name": "stdout",
     "output_type": "stream",
     "text": [
      "Number of patients with GE_repNATIV reference: 38\n"
     ]
    }
   ],
   "execution_count": 31
  },
  {
   "metadata": {},
   "cell_type": "markdown",
   "source": "### 1.4 GE_repNativAXIALISEDnew patients :\n",
   "id": "116eaa640b1d6432"
  },
  {
   "metadata": {
    "ExecuteTime": {
     "end_time": "2025-04-28T18:51:40.153406Z",
     "start_time": "2025-04-28T18:51:40.150734Z"
    }
   },
   "cell_type": "code",
   "source": [
    "ref = \"GE_repNativAXIALISEDnew\"\n",
    "list_patients = df_ref.loc[df_ref[\"pre_RT_reference\"] == ref, \"AIDREAM_ID\"].tolist()\n",
    "\n",
    "print(fr\"Number of patients with {ref} reference: {len(list_patients)}\")\n",
    "\n",
    "# for i, patient in enumerate(list_patients):\n",
    "#\n",
    "#     print(fr\"Processing {i + 1}/{len(list_patients)}: {patient} .........\")\n",
    "#\n",
    "#     processed_label_registerer.apply_affine_transformation_to_labels(patient=patient,\n",
    "#                                                                      stage=\"pre_RT\",\n",
    "#                                                                      reference=ref,\n",
    "#                                                                      list_labels=list_pre_rt_labels)\n",
    "#\n",
    "#     processed_label_registerer.apply_syn_transformation_to_labels(patient=patient,\n",
    "#                                                                   stage=\"pre_RT\",\n",
    "#                                                                   reference=ref,\n",
    "#                                                                   list_labels=list_pre_rt_labels)\n",
    "\n"
   ],
   "id": "69044a340585954c",
   "outputs": [
    {
     "name": "stdout",
     "output_type": "stream",
     "text": [
      "Number of patients with GE_repNativAXIALISEDnew reference: 9\n"
     ]
    }
   ],
   "execution_count": 32
  },
  {
   "metadata": {},
   "cell_type": "markdown",
   "source": "### 1.5. GE_repNativnew patients :",
   "id": "c5ef415861cead88"
  },
  {
   "metadata": {
    "ExecuteTime": {
     "end_time": "2025-04-28T18:51:47.963075Z",
     "start_time": "2025-04-28T18:51:47.959896Z"
    }
   },
   "cell_type": "code",
   "source": [
    "ref = \"GE_repNativnew\"\n",
    "list_patients = df_ref.loc[df_ref[\"pre_RT_reference\"] == ref, \"AIDREAM_ID\"].tolist()\n",
    "\n",
    "print(fr\"Number of patients with {ref} reference: {len(list_patients)}\")\n",
    "\n",
    "# for i, patient in enumerate(list_patients):\n",
    "#\n",
    "#     print(fr\"Processing {i + 1}/{len(list_patients)}: {patient} .........\")\n",
    "#\n",
    "#     processed_label_registerer.apply_affine_transformation_to_labels(patient=patient,\n",
    "#                                                                      stage=\"pre_RT\",\n",
    "#                                                                      reference=ref,\n",
    "#                                                                      list_labels=list_pre_rt_labels)\n",
    "#\n",
    "#     processed_label_registerer.apply_syn_transformation_to_labels(patient=patient,\n",
    "#                                                                   stage=\"pre_RT\",\n",
    "#                                                                   reference=ref,\n",
    "#                                                                   list_labels=list_pre_rt_labels)\n"
   ],
   "id": "7a604c5d6a7b0310",
   "outputs": [
    {
     "name": "stdout",
     "output_type": "stream",
     "text": [
      "Number of patients with GE_repNativnew reference: 12\n"
     ]
    }
   ],
   "execution_count": 33
  },
  {
   "metadata": {},
   "cell_type": "markdown",
   "source": "### 1.6. JBD : Quel repère ? Pas de crâne, jcomprends pas  patients :",
   "id": "e084dd40295c20aa"
  },
  {
   "metadata": {
    "ExecuteTime": {
     "end_time": "2025-04-28T18:52:02.870310Z",
     "start_time": "2025-04-28T18:52:02.867105Z"
    }
   },
   "cell_type": "code",
   "source": [
    "ref = \"JBD : Quel repère ? Pas de crâne, jcomprends pas\"\n",
    "list_patients = df_ref.loc[df_ref[\"pre_RT_reference\"] == ref, \"AIDREAM_ID\"].tolist()\n",
    "\n",
    "ref = \"JBD\"\n",
    "\n",
    "print(fr\"Number of patients with {ref} reference: {len(list_patients)}\")\n",
    "\n",
    "# for i, patient in enumerate(list_patients):\n",
    "#\n",
    "#     print(fr\"Processing {i + 1}/{len(list_patients)}: {patient} .........\")\n",
    "#\n",
    "#     processed_label_registerer.apply_affine_transformation_to_labels(patient=patient,\n",
    "#                                                                      stage=\"pre_RT\",\n",
    "#                                                                      reference=ref,\n",
    "#                                                                      list_labels=list_pre_rt_labels)\n",
    "#\n",
    "#     processed_label_registerer.apply_syn_transformation_to_labels(patient=patient,\n",
    "#                                                                   stage=\"pre_RT\",\n",
    "#                                                                   reference=ref,\n",
    "#                                                                   list_labels=list_pre_rt_labels)\n"
   ],
   "id": "ffc0d5a12ed0b75f",
   "outputs": [
    {
     "name": "stdout",
     "output_type": "stream",
     "text": [
      "Number of patients with JBD reference: 1\n"
     ]
    }
   ],
   "execution_count": 34
  },
  {
   "metadata": {},
   "cell_type": "markdown",
   "source": "### 1.7 repère natif patients :",
   "id": "b94bf2af84d18b8e"
  },
  {
   "metadata": {
    "ExecuteTime": {
     "end_time": "2025-04-28T18:52:07.989523Z",
     "start_time": "2025-04-28T18:52:07.986340Z"
    }
   },
   "cell_type": "code",
   "source": [
    "ref = \"Repère natif\"\n",
    "list_patients = df_ref.loc[df_ref[\"pre_RT_reference\"] == ref, \"AIDREAM_ID\"].tolist()\n",
    "\n",
    "ref = \"Repere natif\"\n",
    "print(fr\"Number of patients with {ref} reference: {len(list_patients)}\")\n",
    "\n",
    "# for i, patient in enumerate(list_patients):\n",
    "#\n",
    "#     print(fr\"Processing {i + 1}/{len(list_patients)}: {patient} .........\")\n",
    "#\n",
    "#     native_label_registerer.apply_affine_transformation_to_labels(patient=patient,\n",
    "#                                                                   stage=\"pre_RT\",\n",
    "#                                                                   reference=ref,\n",
    "#                                                                   list_labels=list_pre_rt_labels)\n"
   ],
   "id": "ff5f829b3838e9de",
   "outputs": [
    {
     "name": "stdout",
     "output_type": "stream",
     "text": [
      "Number of patients with Repere natif reference: 1\n"
     ]
    }
   ],
   "execution_count": 35
  },
  {
   "metadata": {},
   "cell_type": "markdown",
   "source": "### 1.8. skullstripaxialized RS recalé sur GE patients :",
   "id": "5d07070010e6dd41"
  },
  {
   "metadata": {
    "ExecuteTime": {
     "end_time": "2025-04-28T18:52:14.981805Z",
     "start_time": "2025-04-28T18:52:14.978599Z"
    }
   },
   "cell_type": "code",
   "source": [
    "ref = \"skullstripaxialized RS recalé sur GE\"\n",
    "list_patients = df_ref.loc[df_ref[\"pre_RT_reference\"] == ref, \"AIDREAM_ID\"].tolist()\n",
    "\n",
    "ref = \"skullstripaxialized RS recale sur GE\"\n",
    "\n",
    "print(fr\"Number of patients with {ref} reference: {len(list_patients)}\")\n",
    "\n",
    "# for i, patient in enumerate(list_patients):\n",
    "#\n",
    "#     print(fr\"Processing {i + 1}/{len(list_patients)}: {patient} .........\")\n",
    "#\n",
    "#     processed_label_registerer.apply_affine_transformation_to_labels(patient=patient,\n",
    "#                                                                      stage=\"pre_RT\",\n",
    "#                                                                      reference=ref,\n",
    "#                                                                      list_labels=list_pre_rt_labels)\n",
    "#\n",
    "#     processed_label_registerer.apply_syn_transformation_to_labels(patient=patient,\n",
    "#                                                                   stage=\"pre_RT\",\n",
    "#                                                                   reference=ref,\n",
    "#                                                                   list_labels=list_pre_rt_labels)\n"
   ],
   "id": "1ade2c798426d546",
   "outputs": [
    {
     "name": "stdout",
     "output_type": "stream",
     "text": [
      "Number of patients with skullstripaxialized RS recale sur GE reference: 5\n"
     ]
    }
   ],
   "execution_count": 36
  },
  {
   "metadata": {},
   "cell_type": "markdown",
   "source": "# 2. Second, register Rechute labels :",
   "id": "bae2e34aa5b1d244"
  },
  {
   "metadata": {
    "ExecuteTime": {
     "end_time": "2025-03-03T08:28:25.108850Z",
     "start_time": "2025-03-03T08:28:25.107208Z"
    }
   },
   "cell_type": "code",
   "source": [
    "dir_workspace = constants.DIR_DEFAULT_HARD_DRIVE / \"AIDREAM DATA\" / \"LABELS DATA\" / \"REGISTERED LABELS ON PRE_RT T1\"\n",
    "dir_workspace.mkdir(parents=True, exist_ok=True)\n",
    "\n",
    "list_rechute_labels = [\"L1R\", \"L2R\", \"L3R\", \"L4R\", \"L5R\"]\n"
   ],
   "id": "bc8f1060bc8ead39",
   "outputs": [],
   "execution_count": 5
  },
  {
   "metadata": {
    "ExecuteTime": {
     "end_time": "2025-04-28T18:46:52.099532Z",
     "start_time": "2025-04-28T18:46:52.096422Z"
    }
   },
   "cell_type": "code",
   "source": [
    "list_patients = cu.get_perfusion_patients()\n",
    "\n",
    "print(fr\"Number of patients: {len(list_patients)}\")\n"
   ],
   "id": "ccde7e3a97713061",
   "outputs": [
    {
     "name": "stdout",
     "output_type": "stream",
     "text": [
      "Number of patients: 186\n"
     ]
    }
   ],
   "execution_count": 17
  },
  {
   "metadata": {
    "ExecuteTime": {
     "end_time": "2025-03-03T08:28:42.951513Z",
     "start_time": "2025-03-03T08:28:42.948253Z"
    }
   },
   "cell_type": "code",
   "source": "df_ref = cu.get_referential_table(list_patients)",
   "id": "d2596a2ed57c6cd5",
   "outputs": [],
   "execution_count": 7
  },
  {
   "metadata": {
    "ExecuteTime": {
     "end_time": "2025-03-03T08:28:43.569770Z",
     "start_time": "2025-03-03T08:28:43.565012Z"
    }
   },
   "cell_type": "code",
   "source": "df_ref.groupby(\"Rechute_reference\").count()\n",
   "id": "937076e0c23db047",
   "outputs": [
    {
     "data": {
      "text/plain": [
       "                         AIDREAM_ID  cohort_ID  local_ID  perfusion  \\\n",
       "Rechute_reference                                                     \n",
       "GE_repNativAXIALISEDnew           1          1         1          1   \n",
       "\n",
       "                         complete_validation  surgery_type  pre_RT_reference  \\\n",
       "Rechute_reference                                                              \n",
       "GE_repNativAXIALISEDnew                    1             1                 1   \n",
       "\n",
       "                         pre_RT_TPS  valid_pre_RT_segmentation_model  \\\n",
       "Rechute_reference                                                      \n",
       "GE_repNativAXIALISEDnew           1                                1   \n",
       "\n",
       "                         valid_pre_RT_perfusion_model  Rechute_TPS  \\\n",
       "Rechute_reference                                                    \n",
       "GE_repNativAXIALISEDnew                             1            1   \n",
       "\n",
       "                         valid_Rechute_segmentation_model  \\\n",
       "Rechute_reference                                           \n",
       "GE_repNativAXIALISEDnew                                 1   \n",
       "\n",
       "                         valid_Rechute_perfusion_model  FREESURFER STATUS  \n",
       "Rechute_reference                                                          \n",
       "GE_repNativAXIALISEDnew                              1                  1  "
      ],
      "text/html": [
       "<div>\n",
       "<style scoped>\n",
       "    .dataframe tbody tr th:only-of-type {\n",
       "        vertical-align: middle;\n",
       "    }\n",
       "\n",
       "    .dataframe tbody tr th {\n",
       "        vertical-align: top;\n",
       "    }\n",
       "\n",
       "    .dataframe thead th {\n",
       "        text-align: right;\n",
       "    }\n",
       "</style>\n",
       "<table border=\"1\" class=\"dataframe\">\n",
       "  <thead>\n",
       "    <tr style=\"text-align: right;\">\n",
       "      <th></th>\n",
       "      <th>AIDREAM_ID</th>\n",
       "      <th>cohort_ID</th>\n",
       "      <th>local_ID</th>\n",
       "      <th>perfusion</th>\n",
       "      <th>complete_validation</th>\n",
       "      <th>surgery_type</th>\n",
       "      <th>pre_RT_reference</th>\n",
       "      <th>pre_RT_TPS</th>\n",
       "      <th>valid_pre_RT_segmentation_model</th>\n",
       "      <th>valid_pre_RT_perfusion_model</th>\n",
       "      <th>Rechute_TPS</th>\n",
       "      <th>valid_Rechute_segmentation_model</th>\n",
       "      <th>valid_Rechute_perfusion_model</th>\n",
       "      <th>FREESURFER STATUS</th>\n",
       "    </tr>\n",
       "    <tr>\n",
       "      <th>Rechute_reference</th>\n",
       "      <th></th>\n",
       "      <th></th>\n",
       "      <th></th>\n",
       "      <th></th>\n",
       "      <th></th>\n",
       "      <th></th>\n",
       "      <th></th>\n",
       "      <th></th>\n",
       "      <th></th>\n",
       "      <th></th>\n",
       "      <th></th>\n",
       "      <th></th>\n",
       "      <th></th>\n",
       "      <th></th>\n",
       "    </tr>\n",
       "  </thead>\n",
       "  <tbody>\n",
       "    <tr>\n",
       "      <th>GE_repNativAXIALISEDnew</th>\n",
       "      <td>1</td>\n",
       "      <td>1</td>\n",
       "      <td>1</td>\n",
       "      <td>1</td>\n",
       "      <td>1</td>\n",
       "      <td>1</td>\n",
       "      <td>1</td>\n",
       "      <td>1</td>\n",
       "      <td>1</td>\n",
       "      <td>1</td>\n",
       "      <td>1</td>\n",
       "      <td>1</td>\n",
       "      <td>1</td>\n",
       "      <td>1</td>\n",
       "    </tr>\n",
       "  </tbody>\n",
       "</table>\n",
       "</div>"
      ]
     },
     "execution_count": 8,
     "metadata": {},
     "output_type": "execute_result"
    }
   ],
   "execution_count": 8
  },
  {
   "metadata": {
    "ExecuteTime": {
     "end_time": "2025-04-28T18:53:47.824245Z",
     "start_time": "2025-04-28T18:53:47.821864Z"
    }
   },
   "cell_type": "code",
   "source": [
    "# df_ref.loc[df_ref[\"AIDREAM_ID\"].isin([\"AIDREAM_145\", \"AIDREAM_61\", \"AIDREAM_306\", \"AIDREAM_307\", \"AIDREAM_308\", \"AIDREAM_348\"])]\n",
    "path_list = \"/home/maichi/work/my_projects/AIDREAM/RELAPSE_PREDICTION/data/perfusion_patients.txt\"\n",
    "with open(path_list, \"r\") as f:\n",
    "    list_patients = f.readlines()\n",
    "    list_patients = [patient.strip() for patient in list_patients]\n",
    "\n"
   ],
   "id": "e9fec861b4533b84",
   "outputs": [],
   "execution_count": 38
  },
  {
   "metadata": {
    "ExecuteTime": {
     "end_time": "2025-04-28T18:53:48.134162Z",
     "start_time": "2025-04-28T18:53:48.132150Z"
    }
   },
   "cell_type": "code",
   "source": "len(list_patients)",
   "id": "947f7aaf3e095be5",
   "outputs": [
    {
     "data": {
      "text/plain": [
       "186"
      ]
     },
     "execution_count": 39,
     "metadata": {},
     "output_type": "execute_result"
    }
   ],
   "execution_count": 39
  },
  {
   "metadata": {
    "ExecuteTime": {
     "end_time": "2025-04-28T18:55:22.523743Z",
     "start_time": "2025-04-28T18:55:22.519229Z"
    }
   },
   "cell_type": "code",
   "source": [
    "# Pre rt :\n",
    "\n",
    "### 1.1. AC_repATLAS patients :\n",
    "list_processed = [\"AC_repATLAS\", \"GE_repNativAXIALISEDnew\", \"GE_repNativnew\", \"JBD : Quel repère ? Pas de crâne, jcomprends pas\",\n",
    "                  \"skullstripaxialized RS recalé sur GE\", \"skullstripaxialized RS recalé sur GE\"\n",
    "                  ]\n",
    "\n",
    "list_native = [\"AC_repATLAS native\", \"GE_repNATIV\", \"Repère natif\", ]\n",
    "\n",
    "df_ref = df_ref.loc[df_ref[\"AIDREAM_ID\"].isin(list_patients), :]\n",
    "\n",
    "\n",
    "n_processed = len(df_ref.loc[df_ref[\"pre_RT_reference\"].isin(list_processed), \"AIDREAM_ID\"].tolist())\n",
    "prert_processed = df_ref.loc[df_ref[\"pre_RT_reference\"].isin(list_processed), \"AIDREAM_ID\"].tolist()\n",
    "print(fr\"Number of patients with pre-RT processed reference: {n_processed}\")\n",
    "\n",
    "n_native = len(df_ref.loc[df_ref[\"pre_RT_reference\"].isin(list_native), \"AIDREAM_ID\"].tolist())\n",
    "prert_native = df_ref.loc[df_ref[\"pre_RT_reference\"].isin(list_native), \"AIDREAM_ID\"].tolist()\n",
    "print(fr\"Number of patients with pre_RT native reference: {n_native}\")\n",
    "\n",
    "# Rechute :\n",
    "list_processed = [\"AC_repATLAS\", \"GE_repNativAXIALISEDnew\", \"skullstripaxialized RS recalé sur GE\", ]\n",
    "list_native = [\"Repère natif\"]\n",
    "\n",
    "n_processed = len(df_ref.loc[df_ref[\"Rechute_reference\"].isin(list_processed), \"AIDREAM_ID\"].tolist())\n",
    "rechute_processed = df_ref.loc[df_ref[\"Rechute_reference\"].isin(list_processed), \"AIDREAM_ID\"].tolist()\n",
    "print(fr\"Number of patients with Rechute processed reference: {n_processed}\")\n",
    "\n",
    "n_native = len(df_ref.loc[df_ref[\"Rechute_reference\"].isin(list_native), \"AIDREAM_ID\"].tolist()) + len(df_ref.loc[df_ref[\"Rechute_reference\"].isna(), \"AIDREAM_ID\"].tolist())\n",
    "rechute_native = df_ref.loc[df_ref[\"Rechute_reference\"].isin(list_native), \"AIDREAM_ID\"].tolist() + df_ref.loc[df_ref[\"Rechute_reference\"].isna(), \"AIDREAM_ID\"].tolist()\n",
    "print(fr\"Number of patients with Rechute native reference: {n_native}\")\n"
   ],
   "id": "51a23ea169436b5f",
   "outputs": [
    {
     "name": "stdout",
     "output_type": "stream",
     "text": [
      "Number of patients with pre-RT processed reference: 146\n",
      "Number of patients with pre_RT native reference: 40\n",
      "Number of patients with Rechute processed reference: 176\n",
      "Number of patients with Rechute native reference: 10\n"
     ]
    }
   ],
   "execution_count": 44
  },
  {
   "metadata": {
    "ExecuteTime": {
     "end_time": "2025-04-28T18:55:48.234533Z",
     "start_time": "2025-04-28T18:55:48.232416Z"
    }
   },
   "cell_type": "code",
   "source": "with_syn = [p for p in rechute_processed if p in prert_processed]",
   "id": "76a16d91818c166a",
   "outputs": [],
   "execution_count": 45
  },
  {
   "metadata": {
    "ExecuteTime": {
     "end_time": "2025-04-28T18:55:54.439806Z",
     "start_time": "2025-04-28T18:55:54.437299Z"
    }
   },
   "cell_type": "code",
   "source": "len(with_syn)",
   "id": "f834db18a2619fa8",
   "outputs": [
    {
     "data": {
      "text/plain": [
       "141"
      ]
     },
     "execution_count": 46,
     "metadata": {},
     "output_type": "execute_result"
    }
   ],
   "execution_count": 46
  },
  {
   "metadata": {
    "ExecuteTime": {
     "end_time": "2025-04-28T18:54:17.121884Z",
     "start_time": "2025-04-28T18:54:17.119591Z"
    }
   },
   "cell_type": "code",
   "source": "df_ref.loc[df_ref[\"pre_RT_reference\"].isin(list_processed), \"AIDREAM_ID\"].tolist()",
   "id": "af77d58a1ac32119",
   "outputs": [
    {
     "data": {
      "text/plain": [
       "['AIDREAM_226', 'AIDREAM_349', 'AIDREAM_356', 'AIDREAM_362', 'AIDREAM_367']"
      ]
     },
     "execution_count": 41,
     "metadata": {},
     "output_type": "execute_result"
    }
   ],
   "execution_count": 41
  },
  {
   "metadata": {},
   "cell_type": "markdown",
   "source": "### 2.1. AC_repATLAS patients :",
   "id": "3d9e3e52808f437b"
  },
  {
   "metadata": {
    "ExecuteTime": {
     "end_time": "2025-04-28T18:49:37.776825Z",
     "start_time": "2025-04-28T18:49:37.774265Z"
    }
   },
   "cell_type": "code",
   "source": [
    "# First, the patients with AC_repATLAS reference :\n",
    "ref = \"AC_repATLAS\"\n",
    "list_patients = df_ref.loc[df_ref[\"Rechute_reference\"] == ref, \"AIDREAM_ID\"].tolist()\n",
    "\n",
    "print(fr\"Number of patients with {ref} reference: {len(list_patients)}\")\n",
    "\n",
    "# for i, patient in enumerate(list_patients):\n",
    "#\n",
    "#     print(fr\"Processing {i + 1}/{len(list_patients)}: {patient} .........\")\n",
    "\n",
    "    # processed_label_registerer.apply_affine_transformation_to_labels(patient=patient,\n",
    "    #                                                                  stage=\"Rechute\",\n",
    "    #                                                                  reference=ref,\n",
    "    #                                                                  list_labels=list_rechute_labels)\n",
    "    #\n",
    "    # processed_label_registerer.apply_syn_transformation_to_labels(patient=patient,\n",
    "    #                                                               stage=\"Rechute\",\n",
    "    #                                                               reference=ref,\n",
    "    #                                                               list_labels=list_rechute_labels)\n"
   ],
   "id": "71f8dcabd60d385c",
   "outputs": [
    {
     "name": "stdout",
     "output_type": "stream",
     "text": [
      "Number of patients with AC_repATLAS reference: 101\n"
     ]
    }
   ],
   "execution_count": 23
  },
  {
   "metadata": {},
   "cell_type": "markdown",
   "source": "### 2.2. GE_repNativAXIALISEDnew patients :",
   "id": "361dfb58baeaba7"
  },
  {
   "metadata": {
    "ExecuteTime": {
     "end_time": "2025-04-28T18:49:47.868744Z",
     "start_time": "2025-04-28T18:49:47.865872Z"
    }
   },
   "cell_type": "code",
   "source": [
    "# First, the patients with AC_repATLAS reference :\n",
    "ref = \"GE_repNativAXIALISEDnew\"\n",
    "list_patients = df_ref.loc[df_ref[\"Rechute_reference\"] == ref, \"AIDREAM_ID\"].tolist()\n",
    "\n",
    "print(fr\"Number of patients with {ref} reference: {len(list_patients)}\")\n",
    "\n",
    "# for i, patient in enumerate(list_patients):\n",
    "#\n",
    "#     print(fr\"Processing {i + 1}/{len(list_patients)}: {patient} .........\")\n",
    "#\n",
    "#     processed_label_registerer.apply_affine_transformation_to_labels(patient=patient,\n",
    "#                                                                      stage=\"Rechute\",\n",
    "#                                                                      reference=ref,\n",
    "#                                                                      list_labels=list_rechute_labels)\n",
    "#\n",
    "#     processed_label_registerer.apply_syn_transformation_to_labels(patient=patient,\n",
    "#                                                                   stage=\"Rechute\",\n",
    "#                                                                   reference=ref,\n",
    "#                                                                   list_labels=list_rechute_labels)"
   ],
   "id": "78fea9679b7c22c6",
   "outputs": [
    {
     "name": "stdout",
     "output_type": "stream",
     "text": [
      "Number of patients with GE_repNativAXIALISEDnew reference: 68\n"
     ]
    }
   ],
   "execution_count": 24
  },
  {
   "metadata": {},
   "cell_type": "markdown",
   "source": "### 2.3. Repère natif patients :",
   "id": "eff5a40b67fbed5f"
  },
  {
   "metadata": {
    "ExecuteTime": {
     "end_time": "2025-04-28T18:50:05.684372Z",
     "start_time": "2025-04-28T18:50:05.680885Z"
    }
   },
   "cell_type": "code",
   "source": [
    "ref = \"Repère natif\"\n",
    "list_patients = df_ref.loc[df_ref[\"Rechute_reference\"] == ref, \"AIDREAM_ID\"].tolist()\n",
    "\n",
    "ref = \"Repere natif\"\n",
    "print(fr\"Number of patients with {ref} reference: {len(list_patients)}\")\n",
    "\n",
    "# for i, patient in enumerate(list_patients):\n",
    "#\n",
    "#     print(fr\"Processing {i + 1}/{len(list_patients)}: {patient} .........\")\n",
    "#\n",
    "#     native_label_registerer.apply_affine_transformation_to_labels(patient=patient,\n",
    "#                                                                   stage=\"Rechute\",\n",
    "#                                                                   reference=ref,\n",
    "#                                                                   list_labels=list_rechute_labels)\n"
   ],
   "id": "5462c3fb311386bd",
   "outputs": [
    {
     "name": "stdout",
     "output_type": "stream",
     "text": [
      "Number of patients with Repere natif reference: 4\n"
     ]
    }
   ],
   "execution_count": 25
  },
  {
   "metadata": {},
   "cell_type": "markdown",
   "source": "## 2.4. skullstripaxialized RS recalé sur GE patients :",
   "id": "2e24870b6bb40b5d"
  },
  {
   "metadata": {
    "ExecuteTime": {
     "end_time": "2025-04-28T18:50:15.180195Z",
     "start_time": "2025-04-28T18:50:15.176964Z"
    }
   },
   "cell_type": "code",
   "source": [
    "ref = \"skullstripaxialized RS recalé sur GE\"\n",
    "\n",
    "list_patients = df_ref.loc[df_ref[\"Rechute_reference\"] == ref, \"AIDREAM_ID\"].tolist()\n",
    "\n",
    "print(fr\"Number of patients with {ref} reference: {len(list_patients)}\")\n",
    "\n",
    "ref = \"skullstripaxialized RS recale sur GE\"\n",
    "\n",
    "# for i, patient in enumerate(list_patients):\n",
    "#\n",
    "#     print(fr\"Processing {i + 1}/{len(list_patients)}: {patient} .........\")\n",
    "#\n",
    "#     processed_label_registerer.apply_affine_transformation_to_labels(patient=patient,\n",
    "#                                                                      stage=\"Rechute\",\n",
    "#                                                                      reference=ref,\n",
    "#                                                                      list_labels=list_rechute_labels)\n",
    "#\n",
    "#     processed_label_registerer.apply_syn_transformation_to_labels(patient=patient,\n",
    "#                                                                   stage=\"Rechute\",\n",
    "#                                                                   reference=ref,\n",
    "#                                                                   list_labels=list_rechute_labels)\n",
    "\n"
   ],
   "id": "2f39b6077168a107",
   "outputs": [
    {
     "name": "stdout",
     "output_type": "stream",
     "text": [
      "Number of patients with skullstripaxialized RS recalé sur GE reference: 7\n"
     ]
    }
   ],
   "execution_count": 26
  },
  {
   "metadata": {},
   "cell_type": "markdown",
   "source": "## 2.4. NaN patients :",
   "id": "70909141ee1adbcc"
  },
  {
   "metadata": {
    "ExecuteTime": {
     "end_time": "2025-04-28T18:50:24.694569Z",
     "start_time": "2025-04-28T18:50:24.691448Z"
    }
   },
   "cell_type": "code",
   "source": [
    "ref = \"NaN\"\n",
    "\n",
    "list_patients = df_ref.loc[df_ref[\"Rechute_reference\"].isna(), \"AIDREAM_ID\"].tolist()\n",
    "\n",
    "print(fr\"Number of patients with {ref} reference: {len(list_patients)}\")\n",
    "\n",
    "# for i, patient in enumerate(list_patients):\n",
    "#\n",
    "#     print(fr\"Processing {i + 1}/{len(list_patients)}: {patient} .........\")\n",
    "#\n",
    "#     native_label_registerer.apply_affine_transformation_to_labels(patient=patient,\n",
    "#                                                                   stage=\"Rechute\",\n",
    "#                                                                   reference=ref,\n",
    "#                                                                   list_labels=list_rechute_labels)\n"
   ],
   "id": "16890819753c9b1d",
   "outputs": [
    {
     "name": "stdout",
     "output_type": "stream",
     "text": [
      "Number of patients with NaN reference: 6\n"
     ]
    }
   ],
   "execution_count": 27
  },
  {
   "metadata": {},
   "cell_type": "code",
   "outputs": [],
   "execution_count": null,
   "source": "",
   "id": "ed30069b3b46169a"
  }
 ],
 "metadata": {
  "kernelspec": {
   "display_name": "Python 3",
   "language": "python",
   "name": "python3"
  },
  "language_info": {
   "codemirror_mode": {
    "name": "ipython",
    "version": 2
   },
   "file_extension": ".py",
   "mimetype": "text/x-python",
   "name": "python",
   "nbconvert_exporter": "python",
   "pygments_lexer": "ipython2",
   "version": "2.7.6"
  }
 },
 "nbformat": 4,
 "nbformat_minor": 5
}
