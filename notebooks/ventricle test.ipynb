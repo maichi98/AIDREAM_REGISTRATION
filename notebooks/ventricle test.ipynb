{
 "cells": [
  {
   "cell_type": "code",
   "id": "initial_id",
   "metadata": {
    "collapsed": true,
    "ExecuteTime": {
     "end_time": "2025-01-15T16:01:52.101748Z",
     "start_time": "2025-01-15T16:01:52.100061Z"
    }
   },
   "source": [
    "from aidream_registration import constants\n",
    "from aidream_registration.utils.cohort_utils import get_perfusion_patients\n",
    "\n",
    "from pathlib import Path\n",
    "import  shutil"
   ],
   "outputs": [],
   "execution_count": 3
  },
  {
   "metadata": {
    "ExecuteTime": {
     "end_time": "2025-01-15T16:02:19.425650Z",
     "start_time": "2025-01-15T16:02:19.423899Z"
    }
   },
   "cell_type": "code",
   "source": [
    "DIR_SRC = constants.DIR_DEFAULT_HARD_DRIVE / \"AIDREAM DATA\" / \"MRI DATA\" / \"NIFTI 2\"\n",
    "DIR_DST = constants.DIR_DEFAULT_HARD_DRIVE / \"AIDREAM DATA\" / \"MRI DATA\" / \"NIFTI\""
   ],
   "id": "37cc4f3878524feb",
   "outputs": [],
   "execution_count": 5
  },
  {
   "metadata": {
    "ExecuteTime": {
     "end_time": "2025-01-15T16:02:34.358721Z",
     "start_time": "2025-01-15T16:02:34.356918Z"
    }
   },
   "cell_type": "code",
   "source": [
    "list_patients = get_perfusion_patients()"
   ],
   "id": "eab01f02c4574504",
   "outputs": [],
   "execution_count": 6
  },
  {
   "metadata": {
    "ExecuteTime": {
     "end_time": "2025-01-15T16:11:48.115820Z",
     "start_time": "2025-01-15T16:03:29.748398Z"
    }
   },
   "cell_type": "code",
   "source": [
    "for patient in list_patients:\n",
    "    for stage in [\"pre_RT\", \"Rechute\"]:\n",
    "        for imaging in constants.LIST_MRI_MAPS:\n",
    "\n",
    "            path_src = DIR_SRC / patient / stage / imaging / f\"{patient}_{stage}_{imaging}.nii.gz\"\n",
    "            path_dst = DIR_DST / patient / stage / f\"{patient}_{stage}_{imaging}.nii.gz\"\n",
    "\n",
    "            if path_src.exists():\n",
    "                path_dst.parent.mkdir(parents=True, exist_ok=True)\n",
    "                shutil.copy(path_src, path_dst)\n",
    "            else:\n",
    "                print(f\"Failed to find {imaging} maps for {patient} {stage}\")"
   ],
   "id": "8fb2162c76b61a2",
   "outputs": [],
   "execution_count": 7
  },
  {
   "metadata": {
    "ExecuteTime": {
     "end_time": "2025-01-20T06:29:34.352312Z",
     "start_time": "2025-01-20T06:29:34.220140Z"
    }
   },
   "cell_type": "code",
   "source": [
    "import rt_utils"
   ],
   "id": "5f7834a2e748ab5a",
   "outputs": [],
   "execution_count": 2
  },
  {
   "metadata": {},
   "cell_type": "code",
   "outputs": [],
   "execution_count": null,
   "source": [],
   "id": "effb2410df863af4"
  }
 ],
 "metadata": {
  "kernelspec": {
   "display_name": "Python 3",
   "language": "python",
   "name": "python3"
  },
  "language_info": {
   "codemirror_mode": {
    "name": "ipython",
    "version": 2
   },
   "file_extension": ".py",
   "mimetype": "text/x-python",
   "name": "python",
   "nbconvert_exporter": "python",
   "pygments_lexer": "ipython2",
   "version": "2.7.6"
  }
 },
 "nbformat": 4,
 "nbformat_minor": 5
}
