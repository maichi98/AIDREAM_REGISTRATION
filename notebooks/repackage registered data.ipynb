{
 "cells": [
  {
   "cell_type": "code",
   "id": "initial_id",
   "metadata": {
    "collapsed": true,
    "ExecuteTime": {
     "end_time": "2025-03-03T12:09:24.915043Z",
     "start_time": "2025-03-03T12:09:24.913292Z"
    }
   },
   "source": [
    "from aidream_registration import constants\n",
    "import aidream_registration.utils.cohort_utils as cu"
   ],
   "outputs": [],
   "execution_count": 8
  },
  {
   "metadata": {
    "ExecuteTime": {
     "end_time": "2025-03-03T12:09:25.482606Z",
     "start_time": "2025-03-03T12:09:25.480677Z"
    }
   },
   "cell_type": "code",
   "source": [
    "from tqdm import tqdm\n",
    "import shutil\n",
    "import os"
   ],
   "id": "13cd970498774811",
   "outputs": [],
   "execution_count": 9
  },
  {
   "metadata": {
    "ExecuteTime": {
     "end_time": "2025-03-03T12:09:25.980752Z",
     "start_time": "2025-03-03T12:09:25.978485Z"
    }
   },
   "cell_type": "code",
   "source": [
    "# the list of perfusion patients :\n",
    "list_patients = cu.get_perfusion_patients()\n",
    "print(fr\"Number of patients: {len(list_patients)}\")\n"
   ],
   "id": "f3489fba5dd03400",
   "outputs": [
    {
     "name": "stdout",
     "output_type": "stream",
     "text": [
      "Number of patients: 186\n"
     ]
    }
   ],
   "execution_count": 10
  },
  {
   "metadata": {
    "ExecuteTime": {
     "end_time": "2025-03-03T12:09:26.434237Z",
     "start_time": "2025-03-03T12:09:26.427775Z"
    }
   },
   "cell_type": "code",
   "source": [
    "# the referential table :\n",
    "df_ref = cu.get_referential_table(list_patients)\n",
    "df_ref.head(5)\n"
   ],
   "id": "b4d994c8896f266f",
   "outputs": [
    {
     "data": {
      "text/plain": [
       "    AIDREAM_ID     cohort_ID     local_ID perfusion  complete_validation  \\\n",
       "0    AIDREAM_1  MMI-PROB_140  201211519BP       yes                    1   \n",
       "1   AIDREAM_10  MMI-PROB_050  201002036RR       yes                    1   \n",
       "2  AIDREAM_100  MMI-PROB_139  201210738EE       yes                    1   \n",
       "3  AIDREAM_102  MMI-PROB_085  201101726ZB       yes                    1   \n",
       "4  AIDREAM_103  MMI-PROB_166  201311898RR       yes                    1   \n",
       "\n",
       "   surgery_type    pre_RT_reference pre_RT_TPS  \\\n",
       "0           2.0         AC_repATLAS         RS   \n",
       "1           2.0  AC_repATLAS native         RS   \n",
       "2           0.0         AC_repATLAS         RS   \n",
       "3           2.0         AC_repATLAS         RS   \n",
       "4           2.0         AC_repATLAS         RS   \n",
       "\n",
       "  valid_pre_RT_segmentation_model valid_pre_RT_perfusion_model  \\\n",
       "0                             yes                          yes   \n",
       "1                             yes                          yes   \n",
       "2                             yes                          yes   \n",
       "3                             yes                          yes   \n",
       "4                             yes                          yes   \n",
       "\n",
       "  Rechute_reference Rechute_TPS valid_Rechute_segmentation_model  \\\n",
       "0       AC_repATLAS          RS                              yes   \n",
       "1       AC_repATLAS          RS                              yes   \n",
       "2       AC_repATLAS          RS                              yes   \n",
       "3       AC_repATLAS          RS                              yes   \n",
       "4       AC_repATLAS          RS                              yes   \n",
       "\n",
       "  valid_Rechute_perfusion_model FREESURFER STATUS  \n",
       "0                           yes              ASEG  \n",
       "1                           yes              ASEG  \n",
       "2                            no              ASEG  \n",
       "3                           yes              ASEG  \n",
       "4                           yes              ASEG  "
      ],
      "text/html": [
       "<div>\n",
       "<style scoped>\n",
       "    .dataframe tbody tr th:only-of-type {\n",
       "        vertical-align: middle;\n",
       "    }\n",
       "\n",
       "    .dataframe tbody tr th {\n",
       "        vertical-align: top;\n",
       "    }\n",
       "\n",
       "    .dataframe thead th {\n",
       "        text-align: right;\n",
       "    }\n",
       "</style>\n",
       "<table border=\"1\" class=\"dataframe\">\n",
       "  <thead>\n",
       "    <tr style=\"text-align: right;\">\n",
       "      <th></th>\n",
       "      <th>AIDREAM_ID</th>\n",
       "      <th>cohort_ID</th>\n",
       "      <th>local_ID</th>\n",
       "      <th>perfusion</th>\n",
       "      <th>complete_validation</th>\n",
       "      <th>surgery_type</th>\n",
       "      <th>pre_RT_reference</th>\n",
       "      <th>pre_RT_TPS</th>\n",
       "      <th>valid_pre_RT_segmentation_model</th>\n",
       "      <th>valid_pre_RT_perfusion_model</th>\n",
       "      <th>Rechute_reference</th>\n",
       "      <th>Rechute_TPS</th>\n",
       "      <th>valid_Rechute_segmentation_model</th>\n",
       "      <th>valid_Rechute_perfusion_model</th>\n",
       "      <th>FREESURFER STATUS</th>\n",
       "    </tr>\n",
       "  </thead>\n",
       "  <tbody>\n",
       "    <tr>\n",
       "      <th>0</th>\n",
       "      <td>AIDREAM_1</td>\n",
       "      <td>MMI-PROB_140</td>\n",
       "      <td>201211519BP</td>\n",
       "      <td>yes</td>\n",
       "      <td>1</td>\n",
       "      <td>2.0</td>\n",
       "      <td>AC_repATLAS</td>\n",
       "      <td>RS</td>\n",
       "      <td>yes</td>\n",
       "      <td>yes</td>\n",
       "      <td>AC_repATLAS</td>\n",
       "      <td>RS</td>\n",
       "      <td>yes</td>\n",
       "      <td>yes</td>\n",
       "      <td>ASEG</td>\n",
       "    </tr>\n",
       "    <tr>\n",
       "      <th>1</th>\n",
       "      <td>AIDREAM_10</td>\n",
       "      <td>MMI-PROB_050</td>\n",
       "      <td>201002036RR</td>\n",
       "      <td>yes</td>\n",
       "      <td>1</td>\n",
       "      <td>2.0</td>\n",
       "      <td>AC_repATLAS native</td>\n",
       "      <td>RS</td>\n",
       "      <td>yes</td>\n",
       "      <td>yes</td>\n",
       "      <td>AC_repATLAS</td>\n",
       "      <td>RS</td>\n",
       "      <td>yes</td>\n",
       "      <td>yes</td>\n",
       "      <td>ASEG</td>\n",
       "    </tr>\n",
       "    <tr>\n",
       "      <th>2</th>\n",
       "      <td>AIDREAM_100</td>\n",
       "      <td>MMI-PROB_139</td>\n",
       "      <td>201210738EE</td>\n",
       "      <td>yes</td>\n",
       "      <td>1</td>\n",
       "      <td>0.0</td>\n",
       "      <td>AC_repATLAS</td>\n",
       "      <td>RS</td>\n",
       "      <td>yes</td>\n",
       "      <td>yes</td>\n",
       "      <td>AC_repATLAS</td>\n",
       "      <td>RS</td>\n",
       "      <td>yes</td>\n",
       "      <td>no</td>\n",
       "      <td>ASEG</td>\n",
       "    </tr>\n",
       "    <tr>\n",
       "      <th>3</th>\n",
       "      <td>AIDREAM_102</td>\n",
       "      <td>MMI-PROB_085</td>\n",
       "      <td>201101726ZB</td>\n",
       "      <td>yes</td>\n",
       "      <td>1</td>\n",
       "      <td>2.0</td>\n",
       "      <td>AC_repATLAS</td>\n",
       "      <td>RS</td>\n",
       "      <td>yes</td>\n",
       "      <td>yes</td>\n",
       "      <td>AC_repATLAS</td>\n",
       "      <td>RS</td>\n",
       "      <td>yes</td>\n",
       "      <td>yes</td>\n",
       "      <td>ASEG</td>\n",
       "    </tr>\n",
       "    <tr>\n",
       "      <th>4</th>\n",
       "      <td>AIDREAM_103</td>\n",
       "      <td>MMI-PROB_166</td>\n",
       "      <td>201311898RR</td>\n",
       "      <td>yes</td>\n",
       "      <td>1</td>\n",
       "      <td>2.0</td>\n",
       "      <td>AC_repATLAS</td>\n",
       "      <td>RS</td>\n",
       "      <td>yes</td>\n",
       "      <td>yes</td>\n",
       "      <td>AC_repATLAS</td>\n",
       "      <td>RS</td>\n",
       "      <td>yes</td>\n",
       "      <td>yes</td>\n",
       "      <td>ASEG</td>\n",
       "    </tr>\n",
       "  </tbody>\n",
       "</table>\n",
       "</div>"
      ]
     },
     "execution_count": 11,
     "metadata": {},
     "output_type": "execute_result"
    }
   ],
   "execution_count": 11
  },
  {
   "metadata": {
    "ExecuteTime": {
     "end_time": "2025-03-03T12:09:27.828586Z",
     "start_time": "2025-03-03T12:09:27.826836Z"
    }
   },
   "cell_type": "code",
   "source": [
    "# Config dictionary to map where each file should be copied :\n",
    "dict_config = {}\n",
    "\n",
    "# PROCESSED directory where data should be stored :\n",
    "dir_processed = constants.DIR_DEFAULT_HARD_DRIVE / \"PERFUSION_DATA\" / \"PROCESSED\"\n",
    "dir_processed.mkdir(parents=True, exist_ok=True)\n",
    "\n",
    "# SRC directory where data is stored :\n",
    "DIR_SRC = constants.DIR_DEFAULT_HARD_DRIVE / \"AIDREAM DATA\"\n",
    "assert DIR_SRC.exists(), fr\"{DIR_SRC} does not exist !\"\n",
    "\n",
    "# List bad patients :\n",
    "list_bad_patients = set()\n"
   ],
   "id": "de6f332e675fc6d3",
   "outputs": [],
   "execution_count": 12
  },
  {
   "metadata": {
    "ExecuteTime": {
     "end_time": "2025-03-03T08:38:23.636973Z",
     "start_time": "2025-03-03T08:38:23.618852Z"
    }
   },
   "cell_type": "code",
   "source": [
    "# Step 1 : add the MRI pre_RT images :\n",
    "\n",
    "for patient in list_patients:\n",
    "    for imaging in [\"T1\", \"T1CE\", \"FLAIR\"]:\n",
    "\n",
    "        path_src = (DIR_SRC\n",
    "                    / \"MRI DATA\"\n",
    "                    / \"REGISTERED MRI BY PIPELINE\"\n",
    "                    / \"pre_RT\"\n",
    "                    / \"OUTPUT_DIR\"\n",
    "                    / patient\n",
    "                    / \"skullstripping\"\n",
    "                    / fr\"image_n4_register_ss_{imaging.lower()}.nii.gz\")\n",
    "\n",
    "        if not path_src.exists():\n",
    "            list_bad_patients.add(patient)\n",
    "            continue\n",
    "\n",
    "        path_dst = (dir_processed\n",
    "                    / patient\n",
    "                    / \"MRI\"\n",
    "                    / fr\"{patient}_pre_RT_{imaging}.nii.gz\")\n",
    "\n",
    "        dict_config[path_src] = path_dst\n",
    "\n",
    "print(fr\"Number of bad patients after MRI step {len(list_bad_patients)}\")\n"
   ],
   "id": "fdf1213a13fe1678",
   "outputs": [
    {
     "name": "stdout",
     "output_type": "stream",
     "text": [
      "Number of bad patients after MRI step 0\n"
     ]
    }
   ],
   "execution_count": 18
  },
  {
   "metadata": {
    "ExecuteTime": {
     "end_time": "2025-03-03T08:38:24.292408Z",
     "start_time": "2025-03-03T08:38:24.287775Z"
    }
   },
   "cell_type": "code",
   "source": [
    "# Step 2 : add the pre_RT T1 mask :\n",
    "for patient in list_patients:\n",
    "\n",
    "    path_src = (DIR_SRC\n",
    "                / \"MRI DATA\"\n",
    "                / \"REGISTERED MRI BY PIPELINE\"\n",
    "                / \"pre_RT\"\n",
    "                / \"OUTPUT_DIR\"\n",
    "                / patient\n",
    "                / \"skullstripping\"\n",
    "                / fr\"image_n4_register_brain_mask_t1.nii.gz\")\n",
    "\n",
    "    if not path_src.exists():\n",
    "        list_bad_patients.add(patient)\n",
    "        continue\n",
    "\n",
    "    path_dst = (dir_processed\n",
    "                / patient\n",
    "                / \"MRI\"\n",
    "                / fr\"{patient}_pre_RT_T1_mask.nii.gz\")\n",
    "\n",
    "    dict_config[path_src] = path_dst\n",
    "\n",
    "print(fr\"Number of bad patients after T1 mask step {len(list_bad_patients)}\")\n"
   ],
   "id": "c883fa2fdf46f6de",
   "outputs": [
    {
     "name": "stdout",
     "output_type": "stream",
     "text": [
      "Number of bad patients after T1 mask step 0\n"
     ]
    }
   ],
   "execution_count": 19
  },
  {
   "metadata": {
    "ExecuteTime": {
     "end_time": "2025-03-03T08:38:25.100428Z",
     "start_time": "2025-03-03T08:38:24.999749Z"
    }
   },
   "cell_type": "code",
   "source": [
    "# Step 3 : add the CERCARE biomarker maps :\n",
    "for patient in list_patients:\n",
    "    for interpolator in constants.LIST_INTERPOLATORS:\n",
    "        for biomarker in [\"COV\", \"CTH\", \"Delay\", \"rCBV\", \"rLeakage\", \"OEF\", \"rCMRO2\"]:\n",
    "\n",
    "            path_src = (DIR_SRC\n",
    "                        / \"CERCARE DATA\"\n",
    "                        / \"REGISTERED CERCARE BY PADDING\"\n",
    "                        / patient\n",
    "                        / interpolator\n",
    "                        / fr\"{patient}_{biomarker}_registered_by_padding_{interpolator}.nii.gz\")\n",
    "\n",
    "            if not path_src.exists():\n",
    "                list_bad_patients.add(patient)\n",
    "                continue\n",
    "\n",
    "            path_dst = (dir_processed\n",
    "                        / patient\n",
    "                        / \"CERCARE\"\n",
    "                        / interpolator\n",
    "                        / fr\"{patient}_{biomarker}_{interpolator}.nii.gz\")\n",
    "\n",
    "            dict_config[path_src] = path_dst\n",
    "\n",
    "print(fr\"Number of bad patients after CERCARE step {len(list_bad_patients)}\")\n"
   ],
   "id": "8ea9e9632d443449",
   "outputs": [
    {
     "name": "stdout",
     "output_type": "stream",
     "text": [
      "Number of bad patients after CERCARE step 0\n"
     ]
    }
   ],
   "execution_count": 20
  },
  {
   "metadata": {
    "ExecuteTime": {
     "end_time": "2025-03-03T08:38:25.846326Z",
     "start_time": "2025-03-03T08:38:25.840245Z"
    }
   },
   "cell_type": "code",
   "source": [
    "# Step 3 : add the cercare brainmask :\n",
    "for patient in list_patients:\n",
    "\n",
    "    path_src = (DIR_SRC\n",
    "                / \"CERCARE DATA\"\n",
    "                / \"REGISTERED CERCARE BY PADDING\"\n",
    "                / patient\n",
    "                / \"genericLabel\"\n",
    "                / fr\"{patient}_brainmask_registered_by_padding_genericLabel.nii.gz\")\n",
    "\n",
    "    if not path_src.exists():\n",
    "        list_bad_patients.add(patient)\n",
    "        continue\n",
    "\n",
    "    path_dst = (dir_processed\n",
    "                / patient\n",
    "                / \"CERCARE\"\n",
    "                / fr\"{patient}_CERCARE_brainmask_genericLabel.nii.gz\")\n",
    "\n",
    "    dict_config[path_src] = path_dst\n",
    "\n",
    "print(fr\"Number of bad patients after CERCARE brainmask step {len(list_bad_patients)}\")\n"
   ],
   "id": "de8708e08aa938cc",
   "outputs": [
    {
     "name": "stdout",
     "output_type": "stream",
     "text": [
      "Number of bad patients after CERCARE brainmask step 0\n"
     ]
    }
   ],
   "execution_count": 21
  },
  {
   "metadata": {
    "ExecuteTime": {
     "end_time": "2025-03-03T08:38:26.738719Z",
     "start_time": "2025-03-03T08:38:26.716838Z"
    }
   },
   "cell_type": "code",
   "source": [
    "# Step 4 : add the Affine labels :\n",
    "list_patients_not_visited_per_stage = {\"pre_RT\": set(list_patients), \"Rechute\": set(list_patients)}\n",
    "\n",
    "dict_labels = {\"pre_RT\": [\"L1\", \"L2\", \"L3\", \"L4\", \"L5\"],\n",
    "               \"Rechute\": [\"L1R\", \"L2R\", \"L3R\", \"L4R\", \"L5R\"]}\n",
    "\n",
    "for stage in [\"pre_RT\", \"Rechute\"]:\n",
    "    dir_stage = (DIR_SRC / \"LABELS DATA\" / \"REGISTERED LABELS ON PRE_RT T1\" / stage)\n",
    "    for subfolder in os.listdir(dir_stage):\n",
    "\n",
    "        dir_subfolder = dir_stage / subfolder\n",
    "\n",
    "        if not dir_subfolder.is_dir():\n",
    "            continue\n",
    "\n",
    "        for patient in os.listdir(dir_subfolder):\n",
    "\n",
    "            list_patients_not_visited_per_stage[stage] = list_patients_not_visited_per_stage[stage] - {patient}\n",
    "\n",
    "            for label in dict_labels[stage]:\n",
    "\n",
    "                path_src = dir_subfolder / patient / \"Affine\" / fr\"{patient}_{stage}_{label}_Affine.nii.gz\"\n",
    "\n",
    "                if not path_src.exists():\n",
    "                    list_bad_patients.add(patient)\n",
    "                    continue\n",
    "\n",
    "                path_dst = (dir_processed\n",
    "                            / patient\n",
    "                            / \"LABELS\"\n",
    "                            / stage\n",
    "                            / \"Affine\"\n",
    "                            / fr\"{patient}_{stage}_{label}_Affine.nii.gz\")\n",
    "\n",
    "                dict_config[path_src] = path_dst\n",
    "\n",
    "list_bad_patients = list_bad_patients.union(list_patients_not_visited_per_stage[\"pre_RT\"])\n",
    "list_bad_patients = list_bad_patients.union(list_patients_not_visited_per_stage[\"Rechute\"])\n",
    "\n",
    "print(fr\"Number of bad patients after labels step {len(list_bad_patients)}\")\n"
   ],
   "id": "661820a7879a07c2",
   "outputs": [
    {
     "name": "stdout",
     "output_type": "stream",
     "text": [
      "Number of bad patients after labels step 0\n"
     ]
    }
   ],
   "execution_count": 22
  },
  {
   "metadata": {
    "ExecuteTime": {
     "end_time": "2025-03-03T08:38:27.871556Z",
     "start_time": "2025-03-03T08:38:27.865078Z"
    }
   },
   "cell_type": "code",
   "source": [
    "# Step 5 : add Affine registered SOURCE IMAGING :\n",
    "\n",
    "list_patients_not_visited_per_stage = {\"pre_RT\": set(list_patients), \"Rechute\": set(list_patients)}\n",
    "\n",
    "for stage in [\"pre_RT\", \"Rechute\"]:\n",
    "    dir_stage = (DIR_SRC / \"LABELS DATA\" / \"REGISTERED LABELS ON PRE_RT T1\" / stage)\n",
    "    for subfolder in os.listdir(dir_stage):\n",
    "\n",
    "        dir_subfolder = dir_stage / subfolder\n",
    "\n",
    "        if not dir_subfolder.is_dir():\n",
    "            continue\n",
    "\n",
    "        for patient in os.listdir(dir_subfolder):\n",
    "\n",
    "            list_patients_not_visited_per_stage[stage] = list_patients_not_visited_per_stage[stage] - {patient}\n",
    "            path_src = dir_subfolder / patient / \"REGISTERED SOURCE IMAGING\"  / fr\"{patient}_{stage}_T1CE_Affine.nii.gz\"\n",
    "\n",
    "            if path_src.exists():\n",
    "                path_dst = (dir_processed\n",
    "                            / patient\n",
    "                            / \"SOURCE IMAGING\"\n",
    "                            / fr\"{patient}_{stage}_T1CE_Affine.nii.gz\")\n",
    "\n",
    "                dict_config[path_src] = path_dst\n",
    "\n",
    "list_bad_patients = list_bad_patients.union(list_patients_not_visited_per_stage[\"pre_RT\"])\n",
    "list_bad_patients = list_bad_patients.union(list_patients_not_visited_per_stage[\"Rechute\"])\n",
    "\n",
    "print(fr\"Number of bad patients after Affine source imaging step {len(list_bad_patients)}\")\n"
   ],
   "id": "a4f85502416ad40e",
   "outputs": [
    {
     "name": "stdout",
     "output_type": "stream",
     "text": [
      "Number of bad patients after Affine source imaging step 0\n"
     ]
    }
   ],
   "execution_count": 23
  },
  {
   "metadata": {
    "ExecuteTime": {
     "end_time": "2025-03-03T08:52:37.229146Z",
     "start_time": "2025-03-03T08:38:30.776047Z"
    }
   },
   "cell_type": "code",
   "source": [
    "for path_src, path_dst in tqdm(dict_config.items()):\n",
    "    path_dst.parent.mkdir(parents=True, exist_ok=True)\n",
    "\n",
    "    shutil.copyfile(path_src, path_dst)\n"
   ],
   "id": "9ddc890852128b8c",
   "outputs": [
    {
     "name": "stderr",
     "output_type": "stream",
     "text": [
      "100%|██████████| 9622/9622 [14:06<00:00, 11.37it/s] \n"
     ]
    }
   ],
   "execution_count": 24
  },
  {
   "metadata": {
    "ExecuteTime": {
     "end_time": "2025-03-03T08:52:51.507710Z",
     "start_time": "2025-03-03T08:52:46.075074Z"
    }
   },
   "cell_type": "code",
   "source": [
    "# Step 5 : add SyN labels :\n",
    "dict_config = {}\n",
    "list_patients_not_visited_per_stage = {\"pre_RT\": set(list_patients), \"Rechute\": set(list_patients)}\n",
    "\n",
    "dict_labels = {\"pre_RT\": [\"L1\", \"L2\", \"L3\", \"L4\", \"L5\"],\n",
    "               \"Rechute\": [\"L1R\", \"L2R\", \"L3R\", \"L4R\", \"L5R\"]}\n",
    "\n",
    "for stage in [\"pre_RT\", \"Rechute\"]:\n",
    "    dir_stage = (DIR_SRC / \"LABELS DATA\" / \"REGISTERED LABELS ON PRE_RT T1\" / stage)\n",
    "    for subfolder in os.listdir(dir_stage):\n",
    "\n",
    "        dir_subfolder = dir_stage / subfolder\n",
    "\n",
    "        if not dir_subfolder.is_dir():\n",
    "            continue\n",
    "\n",
    "        for patient in os.listdir(dir_subfolder):\n",
    "\n",
    "\n",
    "\n",
    "            for label in dict_labels[stage]:\n",
    "\n",
    "                path_src = dir_subfolder / patient / \"SyN\" / fr\"{patient}_{stage}_{label}_SyN.nii.gz\"\n",
    "\n",
    "                if  path_src.exists():\n",
    "                    list_patients_not_visited_per_stage[stage] = list_patients_not_visited_per_stage[stage] - {patient}\n",
    "                    path_dst = (dir_processed\n",
    "                                / patient\n",
    "                                / \"LABELS\"\n",
    "                                / stage\n",
    "                                / \"SyN\"\n",
    "                                / fr\"{patient}_{stage}_{label}_SyN.nii.gz\")\n",
    "\n",
    "                    dict_config[path_src] = path_dst\n",
    "\n",
    "list_bad_patients = list_bad_patients.union(list_patients_not_visited_per_stage[\"pre_RT\"])\n",
    "list_bad_patients = list_bad_patients.union(list_patients_not_visited_per_stage[\"Rechute\"])\n",
    "\n",
    "print(fr\"Number of bad patients after Affine source imaging step {len(list_bad_patients)}\")\n",
    "\n"
   ],
   "id": "ed2e83c54e06d71e",
   "outputs": [
    {
     "name": "stdout",
     "output_type": "stream",
     "text": [
      "Number of bad patients after Affine source imaging step 45\n"
     ]
    }
   ],
   "execution_count": 25
  },
  {
   "metadata": {
    "ExecuteTime": {
     "end_time": "2025-03-03T08:53:01.175677Z",
     "start_time": "2025-03-03T08:52:56.792454Z"
    }
   },
   "cell_type": "code",
   "source": [
    "# Step 6 : add SyN registered SOURCE IMAGING :\n",
    "\n",
    "list_patients_not_visited_per_stage = {\"pre_RT\": set(list_patients), \"Rechute\": set(list_patients)}\n",
    "\n",
    "for stage in [\"pre_RT\", \"Rechute\"]:\n",
    "    dir_stage = (DIR_SRC / \"LABELS DATA\" / \"REGISTERED LABELS ON PRE_RT T1\" / stage)\n",
    "    for subfolder in os.listdir(dir_stage):\n",
    "\n",
    "        dir_subfolder = dir_stage / subfolder\n",
    "\n",
    "        if not dir_subfolder.is_dir():\n",
    "            continue\n",
    "\n",
    "        for patient in os.listdir(dir_subfolder):\n",
    "\n",
    "\n",
    "            path_src = dir_subfolder / patient / \"REGISTERED SOURCE IMAGING\"  / fr\"{patient}_{stage}_T1CE_SyN.nii.gz\"\n",
    "\n",
    "            if path_src.exists():\n",
    "                list_patients_not_visited_per_stage[stage] = list_patients_not_visited_per_stage[stage] - {patient}\n",
    "                path_dst = (dir_processed\n",
    "                            / patient\n",
    "                            / \"SOURCE IMAGING\"\n",
    "                            / fr\"{patient}_{stage}_T1CE_SyN.nii.gz\")\n",
    "\n",
    "                dict_config[path_src] = path_dst\n",
    "\n",
    "list_bad_patients = list_bad_patients.union(list_patients_not_visited_per_stage[\"pre_RT\"])\n",
    "list_bad_patients = list_bad_patients.union(list_patients_not_visited_per_stage[\"Rechute\"])\n",
    "\n",
    "print(fr\"Number of bad patients after Affine source imaging step {len(list_bad_patients)}\")\n"
   ],
   "id": "a214cb59c6c7d918",
   "outputs": [
    {
     "name": "stdout",
     "output_type": "stream",
     "text": [
      "Number of bad patients after Affine source imaging step 45\n"
     ]
    }
   ],
   "execution_count": 26
  },
  {
   "metadata": {
    "ExecuteTime": {
     "end_time": "2025-03-03T08:54:19.439277Z",
     "start_time": "2025-03-03T08:53:02.431328Z"
    }
   },
   "cell_type": "code",
   "source": [
    "for path_src, path_dst in tqdm(dict_config.items()):\n",
    "    path_dst.parent.mkdir(parents=True, exist_ok=True)\n",
    "\n",
    "    shutil.copyfile(path_src, path_dst)\n"
   ],
   "id": "61e0d1ea00f09c30",
   "outputs": [
    {
     "name": "stderr",
     "output_type": "stream",
     "text": [
      "100%|██████████| 1932/1932 [01:17<00:00, 25.09it/s] \n"
     ]
    }
   ],
   "execution_count": 27
  },
  {
   "metadata": {
    "ExecuteTime": {
     "end_time": "2025-03-03T12:09:36.772939Z",
     "start_time": "2025-03-03T12:09:36.771159Z"
    }
   },
   "cell_type": "code",
   "source": "list_bad_patients = set()",
   "id": "19b2ef51317d349a",
   "outputs": [],
   "execution_count": 13
  },
  {
   "metadata": {
    "ExecuteTime": {
     "end_time": "2025-03-03T12:09:37.405955Z",
     "start_time": "2025-03-03T12:09:37.400022Z"
    }
   },
   "cell_type": "code",
   "source": [
    "# Step 7 : add the ventricle segmentation :\n",
    "\n",
    "dict_config = {}\n",
    "\n",
    "for patient in list_patients:\n",
    "\n",
    "    path_src = (DIR_SRC\n",
    "                / \"VENTRICLES SEGMENTATION\"\n",
    "                / \"SEGMENTED VENTRICLES\"\n",
    "                / fr\"{patient}_pre_RT_T1_ventricle_seg.nii.gz\")\n",
    "\n",
    "    if not path_src.exists():\n",
    "        list_bad_patients.add(patient)\n",
    "        continue\n",
    "\n",
    "\n",
    "    path_dst = (dir_processed\n",
    "                / patient\n",
    "                / \"MRI\"\n",
    "                / fr\"{patient}_pre_RT_T1_ventricle_mask.nii.gz\")\n",
    "\n",
    "    dict_config[path_src] = path_dst\n",
    "\n",
    "print(fr\"Number of bad patients after ventricle segmentation step {len(list_bad_patients)}\")\n"
   ],
   "id": "442f18cda10641d4",
   "outputs": [
    {
     "name": "stdout",
     "output_type": "stream",
     "text": [
      "Number of bad patients after ventricle segmentation step 0\n"
     ]
    }
   ],
   "execution_count": 14
  },
  {
   "metadata": {
    "ExecuteTime": {
     "end_time": "2025-03-03T12:09:39.635409Z",
     "start_time": "2025-03-03T12:09:39.364157Z"
    }
   },
   "cell_type": "code",
   "source": [
    "for path_src, path_dst in tqdm(dict_config.items()):\n",
    "    path_dst.parent.mkdir(parents=True, exist_ok=True)\n",
    "\n",
    "    shutil.copyfile(path_src, path_dst)\n"
   ],
   "id": "f06354050b765b6a",
   "outputs": [
    {
     "name": "stderr",
     "output_type": "stream",
     "text": [
      "100%|██████████| 186/186 [00:00<00:00, 700.60it/s]\n"
     ]
    }
   ],
   "execution_count": 15
  },
  {
   "metadata": {},
   "cell_type": "code",
   "outputs": [],
   "execution_count": null,
   "source": "",
   "id": "b6c8709dab29c877"
  }
 ],
 "metadata": {
  "kernelspec": {
   "display_name": "Python 3",
   "language": "python",
   "name": "python3"
  },
  "language_info": {
   "codemirror_mode": {
    "name": "ipython",
    "version": 2
   },
   "file_extension": ".py",
   "mimetype": "text/x-python",
   "name": "python",
   "nbconvert_exporter": "python",
   "pygments_lexer": "ipython2",
   "version": "2.7.6"
  }
 },
 "nbformat": 4,
 "nbformat_minor": 5
}
