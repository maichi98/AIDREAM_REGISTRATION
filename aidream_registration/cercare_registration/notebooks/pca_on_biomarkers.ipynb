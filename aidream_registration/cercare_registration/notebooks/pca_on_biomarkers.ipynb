{
 "cells": [
  {
   "cell_type": "code",
   "id": "initial_id",
   "metadata": {
    "collapsed": true,
    "ExecuteTime": {
     "end_time": "2025-01-09T08:48:43.428974Z",
     "start_time": "2025-01-09T08:48:43.426402Z"
    }
   },
   "source": [
    "from pathlib import Path\n",
    "import pandas as pd\n",
    "import numpy as np\n",
    "import ants\n",
    "import matplotlib.pyplot as plt\n",
    "\n",
    "from src.ants_padding import AntsPadding\n",
    "from src.improved_padding import ImprovedPadding\n",
    "from src.utils import get_mask, compute_js_divergence, compute_kl_divergence\n",
    "from tqdm.auto import tqdm\n"
   ],
   "outputs": [],
   "execution_count": 8
  },
  {
   "metadata": {
    "ExecuteTime": {
     "end_time": "2025-01-09T08:48:43.546853Z",
     "start_time": "2025-01-09T08:48:43.543576Z"
    }
   },
   "cell_type": "code",
   "source": [
    "dir_hard_drive = Path(\"/media/maichi/T7\")\n",
    "list_patients = (dir_hard_drive / \"list_patients.txt\").read_text().split(\"\\n\")\n",
    "list_patients = [list_patients[i] for i in np.argsort([int(patient.strip(\"AIDREAM_\")) for patient in list_patients if patient.startswith(\"AIDREAM_\")])]\n",
    "print(\"Nbr of patients: \", len(list_patients))\n",
    "\n",
    "list_cercare = [\"brainmask\", \"CTH\"]\n"
   ],
   "id": "306547d03e16750f",
   "outputs": [
    {
     "name": "stdout",
     "output_type": "stream",
     "text": [
      "Nbr of patients:  186\n"
     ]
    }
   ],
   "execution_count": 9
  },
  {
   "metadata": {
    "ExecuteTime": {
     "end_time": "2025-01-09T08:48:43.680642Z",
     "start_time": "2025-01-09T08:48:43.679034Z"
    }
   },
   "cell_type": "code",
   "source": [
    "DICT_CERCARE_P = {\n",
    "    \"COV\": 2, \"CTH\": 2, \"Delay\": 2, \"rCBV\": 2,\n",
    "    \"rLeakage\": 1, \"OEF\": 3, \"rCMRO2\": 2\n",
    "}\n"
   ],
   "id": "8a71c3753a71d9f",
   "outputs": [],
   "execution_count": 10
  },
  {
   "metadata": {
    "ExecuteTime": {
     "end_time": "2025-01-09T08:48:43.825527Z",
     "start_time": "2025-01-09T08:48:43.823223Z"
    }
   },
   "cell_type": "code",
   "source": [
    "def get_biomarker(patient: str, biomarker: str):\n",
    "\n",
    "    assert biomarker in DICT_CERCARE_P.keys(), f\"Unknown biomarker: {biomarker} !\"\n",
    "\n",
    "    path_biomarker = dir_hard_drive / \"PERFUSION_DATA/NIFTI\" / patient / \"pre_RT\" / \"CERCARE\" / f\"{patient}_pre_RT_{biomarker}.nii.gz\"\n",
    "    assert path_biomarker.exists(), f\"Missing {biomarker} for {patient} !\"\n",
    "\n",
    "    return ants.image_read(str(path_biomarker))\n"
   ],
   "id": "169c791af5fb3184",
   "outputs": [],
   "execution_count": 11
  },
  {
   "metadata": {
    "ExecuteTime": {
     "end_time": "2025-01-09T08:48:44.415200Z",
     "start_time": "2025-01-09T08:48:44.411785Z"
    }
   },
   "cell_type": "code",
   "source": [
    "def get_histogram(image: ants.ANTsImage, p, bins = None) -> np.ndarray:\n",
    "\n",
    "    mask_image = get_mask(image.numpy())\n",
    "    image_values = image[mask_image == 1].flatten()\n",
    "    image_values = np.round(image_values, p)\n",
    "\n",
    "    if bins is None:\n",
    "        bin_width = 10**-p\n",
    "        min_val = np.floor(np.min(image_values) / bin_width) * bin_width\n",
    "        max_val = np.ceil(np.max(image_values) / bin_width) * bin_width\n",
    "        bins = np.arange(min_val, max_val + bin_width, bin_width)\n",
    "\n",
    "    # Compute the histogram :\n",
    "    hist_image, bins_image = np.histogram(image_values, bins=bins, density=True)\n",
    "\n",
    "    return hist_image, bins_image\n"
   ],
   "id": "a2259772f4a1fe8a",
   "outputs": [],
   "execution_count": 12
  },
  {
   "metadata": {
    "ExecuteTime": {
     "end_time": "2025-01-09T08:48:54.396558Z",
     "start_time": "2025-01-09T08:48:45.087366Z"
    }
   },
   "cell_type": "code",
   "source": [
    "# Determine the min and max values for the all the biomarkers :\n",
    "\n",
    "df_minmax = pd.DataFrame(columns=[\"patient\", \"biomarker\", \"min\", \"max\"])\n",
    "\n",
    "for patient in tqdm(list_patients):\n",
    "\n",
    "    for biomarker in DICT_CERCARE_P.keys():\n",
    "\n",
    "        image = get_biomarker(patient, biomarker)\n",
    "\n",
    "        df_minmax.loc[len(df_minmax)] = [patient, biomarker, image.min(), image.max()]\n",
    "\n"
   ],
   "id": "22ac9c76a67ab743",
   "outputs": [
    {
     "data": {
      "text/plain": [
       "  0%|          | 0/186 [00:00<?, ?it/s]"
      ],
      "application/vnd.jupyter.widget-view+json": {
       "version_major": 2,
       "version_minor": 0,
       "model_id": "095020d2373f43c78e2732e637ac06ed"
      }
     },
     "metadata": {},
     "output_type": "display_data"
    }
   ],
   "execution_count": 13
  },
  {
   "metadata": {
    "ExecuteTime": {
     "end_time": "2025-01-09T08:49:05.469355Z",
     "start_time": "2025-01-09T08:49:05.467576Z"
    }
   },
   "cell_type": "code",
   "source": "df_cth = df_minmax[df_minmax[\"biomarker\"] == \"CTH\"]",
   "id": "230c8ffda6fc0dd0",
   "outputs": [],
   "execution_count": 15
  },
  {
   "metadata": {
    "ExecuteTime": {
     "end_time": "2025-01-09T08:50:10.539203Z",
     "start_time": "2025-01-09T08:50:10.350785Z"
    }
   },
   "cell_type": "code",
   "source": "df_cth.hist()",
   "id": "822f63aad82f6dd0",
   "outputs": [
    {
     "data": {
      "text/plain": [
       "array([[<Axes: title={'center': 'min'}>, <Axes: title={'center': 'max'}>]],\n",
       "      dtype=object)"
      ]
     },
     "execution_count": 19,
     "metadata": {},
     "output_type": "execute_result"
    },
    {
     "data": {
      "text/plain": [
       "<Figure size 640x480 with 2 Axes>"
      ],
      "image/png": "[encoded data removed]"
     },
     "metadata": {},
     "output_type": "display_data"
    }
   ],
   "execution_count": 19
  },
  {
   "metadata": {
    "ExecuteTime": {
     "end_time": "2025-01-09T08:52:30.587354Z",
     "start_time": "2025-01-09T08:52:30.544664Z"
    }
   },
   "cell_type": "code",
   "source": "df_cth[\"max\"].sort_values(ascending=False).reset_index(drop=True).plot()",
   "id": "2fa7d48716cbbb57",
   "outputs": [
    {
     "data": {
      "text/plain": [
       "<Axes: >"
      ]
     },
     "execution_count": 23,
     "metadata": {},
     "output_type": "execute_result"
    },
    {
     "data": {
      "text/plain": [
       "<Figure size 640x480 with 1 Axes>"
      ],
      "image/png": "[encoded data removed]"
     },
     "metadata": {},
     "output_type": "display_data"
    }
   ],
   "execution_count": 23
  },
  {
   "metadata": {},
   "cell_type": "code",
   "outputs": [],
   "execution_count": null,
   "source": "",
   "id": "a333b793471598e6"
  }
 ],
 "metadata": {
  "kernelspec": {
   "display_name": "Python 3",
   "language": "python",
   "name": "python3"
  },
  "language_info": {
   "codemirror_mode": {
    "name": "ipython",
    "version": 2
   },
   "file_extension": ".py",
   "mimetype": "text/x-python",
   "name": "python",
   "nbconvert_exporter": "python",
   "pygments_lexer": "ipython2",
   "version": "2.7.6"
  }
 },
 "nbformat": 4,
 "nbformat_minor": 5
}
