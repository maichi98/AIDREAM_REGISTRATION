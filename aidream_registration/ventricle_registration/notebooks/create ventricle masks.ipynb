{
 "cells": [
  {
   "cell_type": "code",
   "id": "initial_id",
   "metadata": {
    "collapsed": true,
    "ExecuteTime": {
     "end_time": "2025-03-03T12:08:23.388719Z",
     "start_time": "2025-03-03T12:08:22.607308Z"
    }
   },
   "source": [
    "from aidream_registration import constants\n",
    "from aidream_registration.utils.cohort_utils import get_perfusion_patients\n",
    "from aidream_registration.ventricle_registration.ventricle_registration_by_padding import VentricleRegByPadding\n"
   ],
   "outputs": [],
   "execution_count": 1
  },
  {
   "metadata": {
    "ExecuteTime": {
     "end_time": "2025-03-03T12:08:32.016201Z",
     "start_time": "2025-03-03T12:08:32.013784Z"
    }
   },
   "cell_type": "code",
   "source": [
    "list_patients = get_perfusion_patients()\n",
    "print(fr\"Number of patients: {len(list_patients)}\")\n"
   ],
   "id": "d1a5d7c85a2b490b",
   "outputs": [
    {
     "name": "stdout",
     "output_type": "stream",
     "text": [
      "Number of patients: 3\n"
     ]
    }
   ],
   "execution_count": 2
  },
  {
   "metadata": {
    "ExecuteTime": {
     "end_time": "2025-03-03T12:08:33.068904Z",
     "start_time": "2025-03-03T12:08:33.066866Z"
    }
   },
   "cell_type": "code",
   "source": "ventricle_reg = VentricleRegByPadding()",
   "id": "ceda73a469babfa2",
   "outputs": [],
   "execution_count": 3
  },
  {
   "metadata": {
    "ExecuteTime": {
     "end_time": "2025-03-03T12:08:36.336918Z",
     "start_time": "2025-03-03T12:08:34.491492Z"
    }
   },
   "cell_type": "code",
   "source": [
    "for i, patient in enumerate(list_patients):\n",
    "\n",
    "    print(fr\"processing patient {patient} ({i+1}/{len(list_patients)})\")\n",
    "    ventricle_reg.create_ventricle_segmentation(patient, overwrite=True)\n"
   ],
   "id": "6d0312c89d3f16b2",
   "outputs": [
    {
     "name": "stdout",
     "output_type": "stream",
     "text": [
      "processing patient AIDREAM_120 (1/3)\n",
      "Ventricle segmentation created for AIDREAM_120 !\n",
      "processing patient AIDREAM_306 (2/3)\n",
      "Ventricle segmentation created for AIDREAM_306 !\n",
      "processing patient AIDREAM_358 (3/3)\n",
      "Ventricle segmentation created for AIDREAM_358 !\n"
     ]
    }
   ],
   "execution_count": 4
  },
  {
   "metadata": {
    "ExecuteTime": {
     "end_time": "2025-03-03T12:08:38.015108Z",
     "start_time": "2025-03-03T12:08:38.011396Z"
    }
   },
   "cell_type": "code",
   "source": "ventricle_reg",
   "id": "379b6e75b31da49b",
   "outputs": [
    {
     "data": {
      "text/plain": [
       "<aidream_registration.ventricle_registration.ventricle_registration_by_padding.VentricleRegByPadding at 0x73c8aa2a8f10>"
      ]
     },
     "execution_count": 5,
     "metadata": {},
     "output_type": "execute_result"
    }
   ],
   "execution_count": 5
  },
  {
   "metadata": {
    "ExecuteTime": {
     "end_time": "2025-01-27T17:14:09.400239Z",
     "start_time": "2025-01-27T17:14:09.398046Z"
    }
   },
   "cell_type": "code",
   "source": "v",
   "id": "92d87fba16091c02",
   "outputs": [],
   "execution_count": 6
  },
  {
   "metadata": {},
   "cell_type": "code",
   "outputs": [],
   "execution_count": null,
   "source": "",
   "id": "1faff65b7dc60a81"
  }
 ],
 "metadata": {
  "kernelspec": {
   "display_name": "Python 3",
   "language": "python",
   "name": "python3"
  },
  "language_info": {
   "codemirror_mode": {
    "name": "ipython",
    "version": 2
   },
   "file_extension": ".py",
   "mimetype": "text/x-python",
   "name": "python",
   "nbconvert_exporter": "python",
   "pygments_lexer": "ipython2",
   "version": "2.7.6"
  }
 },
 "nbformat": 4,
 "nbformat_minor": 5
}
