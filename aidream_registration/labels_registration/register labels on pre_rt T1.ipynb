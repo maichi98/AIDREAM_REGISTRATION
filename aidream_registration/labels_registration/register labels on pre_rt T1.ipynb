{
 "cells": [
  {
   "cell_type": "code",
   "id": "initial_id",
   "metadata": {
    "collapsed": true,
    "ExecuteTime": {
     "end_time": "2025-03-03T08:28:12.287509Z",
     "start_time": "2025-03-03T08:28:11.431400Z"
    }
   },
   "source": [
    "from aidream_registration import constants\n",
    "import aidream_registration.utils.cohort_utils as cu\n",
    "\n",
    "from aidream_registration.labels_registration.native_label_registration import NativeLabelRegistration\n",
    "from aidream_registration.labels_registration.processed_label_registration import ProcessedLabelRegistration\n"
   ],
   "outputs": [],
   "execution_count": 1
  },
  {
   "metadata": {
    "ExecuteTime": {
     "end_time": "2025-03-03T08:28:12.928582Z",
     "start_time": "2025-03-03T08:28:12.926091Z"
    }
   },
   "cell_type": "code",
   "source": [
    "# the list of perfusion patients :\n",
    "list_patients = cu.get_perfusion_patients()\n",
    "list_patients = [\"AIDREAM_78\", \"AIDREAM_120\", \"AIDREAM_144\", \"AIDREAM_306\", \"AIDREAM_351\", \"AIDREAM_358\"]\n",
    "print(fr\"Number of patients: {len(list_patients)}\")\n"
   ],
   "id": "7cc96c9a610114ef",
   "outputs": [
    {
     "name": "stdout",
     "output_type": "stream",
     "text": [
      "Number of patients: 6\n"
     ]
    }
   ],
   "execution_count": 2
  },
  {
   "metadata": {
    "ExecuteTime": {
     "end_time": "2025-03-03T08:28:13.516150Z",
     "start_time": "2025-03-03T08:28:13.506911Z"
    }
   },
   "cell_type": "code",
   "source": [
    "# the referential table :\n",
    "df_ref = cu.get_referential_table(list_patients)\n",
    "df_ref.head(5)\n"
   ],
   "id": "3389c60308ba1569",
   "outputs": [
    {
     "data": {
      "text/plain": [
       "    AIDREAM_ID     cohort_ID     local_ID perfusion  complete_validation  \\\n",
       "0  AIDREAM_120  MMI-PROB_134  201207696RK       yes                    1   \n",
       "1  AIDREAM_306     new400pat  201317056FU       yes                    1   \n",
       "2  AIDREAM_358     new400pat  201608217HU       yes                    1   \n",
       "\n",
       "   surgery_type         pre_RT_reference pre_RT_TPS  \\\n",
       "0           1.0  GE_repNativAXIALISEDnew         GE   \n",
       "1           1.0  GE_repNativAXIALISEDnew         GE   \n",
       "2           1.0           GE_repNativnew         GE   \n",
       "\n",
       "  valid_pre_RT_segmentation_model valid_pre_RT_perfusion_model  \\\n",
       "0                             yes                          yes   \n",
       "1                             yes                          yes   \n",
       "2                             yes                          yes   \n",
       "\n",
       "         Rechute_reference Rechute_TPS valid_Rechute_segmentation_model  \\\n",
       "0              AC_repATLAS          RS                              yes   \n",
       "1                      NaN          RS                              yes   \n",
       "2  GE_repNativAXIALISEDnew          GE                              yes   \n",
       "\n",
       "  valid_Rechute_perfusion_model FREESURFER STATUS  \n",
       "0                           yes              ASEG  \n",
       "1                           yes         ASEG_AUTO  \n",
       "2                           yes              ASEG  "
      ],
      "text/html": [
       "<div>\n",
       "<style scoped>\n",
       "    .dataframe tbody tr th:only-of-type {\n",
       "        vertical-align: middle;\n",
       "    }\n",
       "\n",
       "    .dataframe tbody tr th {\n",
       "        vertical-align: top;\n",
       "    }\n",
       "\n",
       "    .dataframe thead th {\n",
       "        text-align: right;\n",
       "    }\n",
       "</style>\n",
       "<table border=\"1\" class=\"dataframe\">\n",
       "  <thead>\n",
       "    <tr style=\"text-align: right;\">\n",
       "      <th></th>\n",
       "      <th>AIDREAM_ID</th>\n",
       "      <th>cohort_ID</th>\n",
       "      <th>local_ID</th>\n",
       "      <th>perfusion</th>\n",
       "      <th>complete_validation</th>\n",
       "      <th>surgery_type</th>\n",
       "      <th>pre_RT_reference</th>\n",
       "      <th>pre_RT_TPS</th>\n",
       "      <th>valid_pre_RT_segmentation_model</th>\n",
       "      <th>valid_pre_RT_perfusion_model</th>\n",
       "      <th>Rechute_reference</th>\n",
       "      <th>Rechute_TPS</th>\n",
       "      <th>valid_Rechute_segmentation_model</th>\n",
       "      <th>valid_Rechute_perfusion_model</th>\n",
       "      <th>FREESURFER STATUS</th>\n",
       "    </tr>\n",
       "  </thead>\n",
       "  <tbody>\n",
       "    <tr>\n",
       "      <th>0</th>\n",
       "      <td>AIDREAM_120</td>\n",
       "      <td>MMI-PROB_134</td>\n",
       "      <td>201207696RK</td>\n",
       "      <td>yes</td>\n",
       "      <td>1</td>\n",
       "      <td>1.0</td>\n",
       "      <td>GE_repNativAXIALISEDnew</td>\n",
       "      <td>GE</td>\n",
       "      <td>yes</td>\n",
       "      <td>yes</td>\n",
       "      <td>AC_repATLAS</td>\n",
       "      <td>RS</td>\n",
       "      <td>yes</td>\n",
       "      <td>yes</td>\n",
       "      <td>ASEG</td>\n",
       "    </tr>\n",
       "    <tr>\n",
       "      <th>1</th>\n",
       "      <td>AIDREAM_306</td>\n",
       "      <td>new400pat</td>\n",
       "      <td>201317056FU</td>\n",
       "      <td>yes</td>\n",
       "      <td>1</td>\n",
       "      <td>1.0</td>\n",
       "      <td>GE_repNativAXIALISEDnew</td>\n",
       "      <td>GE</td>\n",
       "      <td>yes</td>\n",
       "      <td>yes</td>\n",
       "      <td>NaN</td>\n",
       "      <td>RS</td>\n",
       "      <td>yes</td>\n",
       "      <td>yes</td>\n",
       "      <td>ASEG_AUTO</td>\n",
       "    </tr>\n",
       "    <tr>\n",
       "      <th>2</th>\n",
       "      <td>AIDREAM_358</td>\n",
       "      <td>new400pat</td>\n",
       "      <td>201608217HU</td>\n",
       "      <td>yes</td>\n",
       "      <td>1</td>\n",
       "      <td>1.0</td>\n",
       "      <td>GE_repNativnew</td>\n",
       "      <td>GE</td>\n",
       "      <td>yes</td>\n",
       "      <td>yes</td>\n",
       "      <td>GE_repNativAXIALISEDnew</td>\n",
       "      <td>GE</td>\n",
       "      <td>yes</td>\n",
       "      <td>yes</td>\n",
       "      <td>ASEG</td>\n",
       "    </tr>\n",
       "  </tbody>\n",
       "</table>\n",
       "</div>"
      ]
     },
     "execution_count": 3,
     "metadata": {},
     "output_type": "execute_result"
    }
   ],
   "execution_count": 3
  },
  {
   "metadata": {
    "ExecuteTime": {
     "end_time": "2025-03-03T08:28:15.580287Z",
     "start_time": "2025-03-03T08:28:15.578525Z"
    }
   },
   "cell_type": "code",
   "source": [
    "# The Native label registerer :\n",
    "native_label_registerer = NativeLabelRegistration(overwrite=True)\n",
    "\n",
    "# The Processed label registerer :\n",
    "processed_label_registerer = ProcessedLabelRegistration(overwrite=True)\n"
   ],
   "id": "a3fc483744c1fba8",
   "outputs": [],
   "execution_count": 4
  },
  {
   "metadata": {},
   "cell_type": "markdown",
   "source": [
    "# 1. First, register pre_RT labels : #"
   ],
   "id": "1a8dacc5f120fc8e"
  },
  {
   "metadata": {
    "ExecuteTime": {
     "end_time": "2025-02-26T15:15:06.063900Z",
     "start_time": "2025-02-26T15:15:06.062179Z"
    }
   },
   "cell_type": "code",
   "source": [
    "dir_workspace = constants.DIR_DEFAULT_HARD_DRIVE / \"AIDREAM DATA\" / \"LABELS DATA\" / \"REGISTERED LABELS ON PRE_RT T1\"\n",
    "dir_workspace.mkdir(parents=True, exist_ok=True)\n",
    "\n",
    "list_pre_rt_labels = [\"L1\", \"L2\", \"L3\", \"L4\", \"L5\"]\n"
   ],
   "id": "f36d6ea3a2415f57",
   "outputs": [],
   "execution_count": 5
  },
  {
   "metadata": {
    "ExecuteTime": {
     "end_time": "2025-02-26T15:15:06.644079Z",
     "start_time": "2025-02-26T15:15:06.639672Z"
    }
   },
   "cell_type": "code",
   "source": [
    "df_ref.groupby(\"pre_RT_reference\").count()"
   ],
   "id": "c4d1f0a9f749d53",
   "outputs": [
    {
     "data": {
      "text/plain": [
       "                         AIDREAM_ID  cohort_ID  local_ID  perfusion  \\\n",
       "pre_RT_reference                                                      \n",
       "GE_repNativAXIALISEDnew           2          2         2          2   \n",
       "GE_repNativnew                    1          1         1          1   \n",
       "\n",
       "                         complete_validation  surgery_type  pre_RT_TPS  \\\n",
       "pre_RT_reference                                                         \n",
       "GE_repNativAXIALISEDnew                    2             2           2   \n",
       "GE_repNativnew                             1             1           1   \n",
       "\n",
       "                         valid_pre_RT_segmentation_model  \\\n",
       "pre_RT_reference                                           \n",
       "GE_repNativAXIALISEDnew                                2   \n",
       "GE_repNativnew                                         1   \n",
       "\n",
       "                         valid_pre_RT_perfusion_model  Rechute_reference  \\\n",
       "pre_RT_reference                                                           \n",
       "GE_repNativAXIALISEDnew                             2                  1   \n",
       "GE_repNativnew                                      1                  1   \n",
       "\n",
       "                         Rechute_TPS  valid_Rechute_segmentation_model  \\\n",
       "pre_RT_reference                                                         \n",
       "GE_repNativAXIALISEDnew            2                                 2   \n",
       "GE_repNativnew                     1                                 1   \n",
       "\n",
       "                         valid_Rechute_perfusion_model  FREESURFER STATUS  \n",
       "pre_RT_reference                                                           \n",
       "GE_repNativAXIALISEDnew                              2                  2  \n",
       "GE_repNativnew                                       1                  1  "
      ],
      "text/html": [
       "<div>\n",
       "<style scoped>\n",
       "    .dataframe tbody tr th:only-of-type {\n",
       "        vertical-align: middle;\n",
       "    }\n",
       "\n",
       "    .dataframe tbody tr th {\n",
       "        vertical-align: top;\n",
       "    }\n",
       "\n",
       "    .dataframe thead th {\n",
       "        text-align: right;\n",
       "    }\n",
       "</style>\n",
       "<table border=\"1\" class=\"dataframe\">\n",
       "  <thead>\n",
       "    <tr style=\"text-align: right;\">\n",
       "      <th></th>\n",
       "      <th>AIDREAM_ID</th>\n",
       "      <th>cohort_ID</th>\n",
       "      <th>local_ID</th>\n",
       "      <th>perfusion</th>\n",
       "      <th>complete_validation</th>\n",
       "      <th>surgery_type</th>\n",
       "      <th>pre_RT_TPS</th>\n",
       "      <th>valid_pre_RT_segmentation_model</th>\n",
       "      <th>valid_pre_RT_perfusion_model</th>\n",
       "      <th>Rechute_reference</th>\n",
       "      <th>Rechute_TPS</th>\n",
       "      <th>valid_Rechute_segmentation_model</th>\n",
       "      <th>valid_Rechute_perfusion_model</th>\n",
       "      <th>FREESURFER STATUS</th>\n",
       "    </tr>\n",
       "    <tr>\n",
       "      <th>pre_RT_reference</th>\n",
       "      <th></th>\n",
       "      <th></th>\n",
       "      <th></th>\n",
       "      <th></th>\n",
       "      <th></th>\n",
       "      <th></th>\n",
       "      <th></th>\n",
       "      <th></th>\n",
       "      <th></th>\n",
       "      <th></th>\n",
       "      <th></th>\n",
       "      <th></th>\n",
       "      <th></th>\n",
       "      <th></th>\n",
       "    </tr>\n",
       "  </thead>\n",
       "  <tbody>\n",
       "    <tr>\n",
       "      <th>GE_repNativAXIALISEDnew</th>\n",
       "      <td>2</td>\n",
       "      <td>2</td>\n",
       "      <td>2</td>\n",
       "      <td>2</td>\n",
       "      <td>2</td>\n",
       "      <td>2</td>\n",
       "      <td>2</td>\n",
       "      <td>2</td>\n",
       "      <td>2</td>\n",
       "      <td>1</td>\n",
       "      <td>2</td>\n",
       "      <td>2</td>\n",
       "      <td>2</td>\n",
       "      <td>2</td>\n",
       "    </tr>\n",
       "    <tr>\n",
       "      <th>GE_repNativnew</th>\n",
       "      <td>1</td>\n",
       "      <td>1</td>\n",
       "      <td>1</td>\n",
       "      <td>1</td>\n",
       "      <td>1</td>\n",
       "      <td>1</td>\n",
       "      <td>1</td>\n",
       "      <td>1</td>\n",
       "      <td>1</td>\n",
       "      <td>1</td>\n",
       "      <td>1</td>\n",
       "      <td>1</td>\n",
       "      <td>1</td>\n",
       "      <td>1</td>\n",
       "    </tr>\n",
       "  </tbody>\n",
       "</table>\n",
       "</div>"
      ]
     },
     "execution_count": 6,
     "metadata": {},
     "output_type": "execute_result"
    }
   ],
   "execution_count": 6
  },
  {
   "metadata": {},
   "cell_type": "markdown",
   "source": "### 1.1. AC_repATLAS patients :",
   "id": "a7c67a7a838d24f5"
  },
  {
   "metadata": {
    "ExecuteTime": {
     "end_time": "2025-02-26T15:15:08.752124Z",
     "start_time": "2025-02-26T15:15:08.749373Z"
    }
   },
   "cell_type": "code",
   "source": [
    "# First, the patients with AC_repATLAS reference :\n",
    "ref = \"AC_repATLAS\"\n",
    "list_patients = df_ref.loc[df_ref[\"pre_RT_reference\"] == ref, \"AIDREAM_ID\"].tolist()\n",
    "\n",
    "print(fr\"Number of patients with {ref} reference: {len(list_patients)}\")\n",
    "\n",
    "for i, patient in enumerate(list_patients):\n",
    "\n",
    "    print(fr\"Processing {i + 1}/{len(list_patients)}: {patient} .........\")\n",
    "\n",
    "    processed_label_registerer.apply_affine_transformation_to_labels(patient=patient,\n",
    "                                                                     stage=\"pre_RT\",\n",
    "                                                                     reference=ref,\n",
    "                                                                     list_labels=list_pre_rt_labels)\n",
    "\n",
    "    processed_label_registerer.apply_syn_transformation_to_labels(patient=patient,\n",
    "                                                                  stage=\"pre_RT\",\n",
    "                                                                  reference=ref,\n",
    "                                                                  list_labels=list_pre_rt_labels)\n"
   ],
   "id": "6cdbad4754b7be38",
   "outputs": [
    {
     "name": "stdout",
     "output_type": "stream",
     "text": [
      "Number of patients with AC_repATLAS reference: 0\n"
     ]
    }
   ],
   "execution_count": 7
  },
  {
   "metadata": {},
   "cell_type": "markdown",
   "source": "### 1.2. AC_repATLAS native patients :",
   "id": "f6623d8b4e987f08"
  },
  {
   "metadata": {
    "ExecuteTime": {
     "end_time": "2025-02-26T15:15:09.758029Z",
     "start_time": "2025-02-26T15:15:09.755672Z"
    }
   },
   "cell_type": "code",
   "source": [
    "# For the AC_repATLAS native patients, we apply native label registration :\n",
    "ref = \"AC_repATLAS native\"\n",
    "list_patients = df_ref.loc[df_ref[\"pre_RT_reference\"] == ref, \"AIDREAM_ID\"].tolist()\n",
    "\n",
    "print(fr\"Number of patients with {ref} reference: {len(list_patients)}\")\n",
    "\n",
    "for i, patient in enumerate(list_patients):\n",
    "\n",
    "    print(fr\"Processing {i + 1}/{len(list_patients)}: {patient} .........\")\n",
    "\n",
    "    native_label_registerer.apply_affine_transformation_to_labels(patient=patient,\n",
    "                                                                  stage=\"pre_RT\",\n",
    "                                                                  reference=ref,\n",
    "                                                                  list_labels=list_pre_rt_labels)\n"
   ],
   "id": "137cf4ae5f12b7ef",
   "outputs": [
    {
     "name": "stdout",
     "output_type": "stream",
     "text": [
      "Number of patients with AC_repATLAS native reference: 0\n"
     ]
    }
   ],
   "execution_count": 8
  },
  {
   "metadata": {},
   "cell_type": "markdown",
   "source": "### 1.3. GE_repNATIV native patients :",
   "id": "5c9a005eeaf73991"
  },
  {
   "metadata": {
    "ExecuteTime": {
     "end_time": "2025-02-26T15:15:11.406734Z",
     "start_time": "2025-02-26T15:15:11.403810Z"
    }
   },
   "cell_type": "code",
   "source": [
    "# For the GE_repNATIV patients, we apply native label registration :\n",
    "ref = \"GE_repNATIV\"\n",
    "list_patients = df_ref.loc[df_ref[\"pre_RT_reference\"] == ref, \"AIDREAM_ID\"].tolist()\n",
    "\n",
    "print(fr\"Number of patients with {ref} reference: {len(list_patients)}\")\n",
    "\n",
    "for i, patient in enumerate(list_patients):\n",
    "\n",
    "    print(fr\"Processing {i + 1}/{len(list_patients)}: {patient} .........\")\n",
    "\n",
    "    native_label_registerer.apply_affine_transformation_to_labels(patient=patient,\n",
    "                                                                  stage=\"pre_RT\",\n",
    "                                                                  reference=ref,\n",
    "                                                                  list_labels=list_pre_rt_labels)\n"
   ],
   "id": "4f62fd30426ae26d",
   "outputs": [
    {
     "name": "stdout",
     "output_type": "stream",
     "text": [
      "Number of patients with GE_repNATIV reference: 0\n"
     ]
    }
   ],
   "execution_count": 9
  },
  {
   "metadata": {},
   "cell_type": "markdown",
   "source": "### 1.4 GE_repNativAXIALISEDnew patients :\n",
   "id": "116eaa640b1d6432"
  },
  {
   "metadata": {
    "ExecuteTime": {
     "end_time": "2025-02-26T15:15:49.480845Z",
     "start_time": "2025-02-26T15:15:13.132210Z"
    }
   },
   "cell_type": "code",
   "source": [
    "ref = \"GE_repNativAXIALISEDnew\"\n",
    "list_patients = df_ref.loc[df_ref[\"pre_RT_reference\"] == ref, \"AIDREAM_ID\"].tolist()\n",
    "\n",
    "print(fr\"Number of patients with {ref} reference: {len(list_patients)}\")\n",
    "\n",
    "for i, patient in enumerate(list_patients):\n",
    "\n",
    "    print(fr\"Processing {i + 1}/{len(list_patients)}: {patient} .........\")\n",
    "\n",
    "    processed_label_registerer.apply_affine_transformation_to_labels(patient=patient,\n",
    "                                                                     stage=\"pre_RT\",\n",
    "                                                                     reference=ref,\n",
    "                                                                     list_labels=list_pre_rt_labels)\n",
    "\n",
    "    processed_label_registerer.apply_syn_transformation_to_labels(patient=patient,\n",
    "                                                                  stage=\"pre_RT\",\n",
    "                                                                  reference=ref,\n",
    "                                                                  list_labels=list_pre_rt_labels)\n",
    "\n"
   ],
   "id": "69044a340585954c",
   "outputs": [
    {
     "name": "stdout",
     "output_type": "stream",
     "text": [
      "Number of patients with GE_repNativAXIALISEDnew reference: 2\n",
      "Processing 1/2: AIDREAM_120 .........\n",
      "Loading AIDREAM_120 ATLAS pre_RT T1...\n",
      "Loading AIDREAM_120 pre_RT source imaging...\n",
      "Registering the source imaging on the ATLAS pre_RT T1...\n",
      "Warping the source imaging using the affine transformation...\n",
      "Patient AIDREAM_120 doesn't have pre_RT L1, saving empty label !\n",
      "Applying affine transformation to L2 for AIDREAM_120 pre_RT ...\n",
      "Applying affine transformation to L3 for AIDREAM_120 pre_RT ...\n",
      "Patient AIDREAM_120 doesn't have pre_RT L4, saving empty label !\n",
      "Applying affine transformation to L5 for AIDREAM_120 pre_RT ...\n",
      "Loading AIDREAM_120 ATLAS pre_RT T1CE...\n",
      "Loading AIDREAM_120 pre_RT Affine registered source imaging...\n",
      "Registering the source imaging on the ATLAS pre_RT T1CE...\n",
      "Warping the source imaging using the SyN transformation...\n",
      "Patient AIDREAM_120 doesn't have pre_RT L1, saving empty label !\n",
      "Applying SyN transformation to L2 for AIDREAM_120 pre_RT ...\n",
      "Applying SyN transformation to L3 for AIDREAM_120 pre_RT ...\n",
      "Patient AIDREAM_120 doesn't have pre_RT L4, saving empty label !\n",
      "Applying SyN transformation to L5 for AIDREAM_120 pre_RT ...\n",
      "Processing 2/2: AIDREAM_306 .........\n",
      "Loading AIDREAM_306 ATLAS pre_RT T1...\n",
      "Loading AIDREAM_306 pre_RT source imaging...\n",
      "Registering the source imaging on the ATLAS pre_RT T1...\n",
      "Warping the source imaging using the affine transformation...\n",
      "Patient AIDREAM_306 doesn't have pre_RT L1, saving empty label !\n",
      "Applying affine transformation to L2 for AIDREAM_306 pre_RT ...\n",
      "Applying affine transformation to L3 for AIDREAM_306 pre_RT ...\n",
      "Patient AIDREAM_306 doesn't have pre_RT L4, saving empty label !\n",
      "Applying affine transformation to L5 for AIDREAM_306 pre_RT ...\n",
      "Loading AIDREAM_306 ATLAS pre_RT T1CE...\n",
      "Loading AIDREAM_306 pre_RT Affine registered source imaging...\n",
      "Registering the source imaging on the ATLAS pre_RT T1CE...\n",
      "Warping the source imaging using the SyN transformation...\n",
      "Patient AIDREAM_306 doesn't have pre_RT L1, saving empty label !\n",
      "Applying SyN transformation to L2 for AIDREAM_306 pre_RT ...\n",
      "Applying SyN transformation to L3 for AIDREAM_306 pre_RT ...\n",
      "Patient AIDREAM_306 doesn't have pre_RT L4, saving empty label !\n",
      "Applying SyN transformation to L5 for AIDREAM_306 pre_RT ...\n"
     ]
    }
   ],
   "execution_count": 10
  },
  {
   "metadata": {},
   "cell_type": "markdown",
   "source": "### 1.5. GE_repNativnew patients :",
   "id": "c5ef415861cead88"
  },
  {
   "metadata": {
    "ExecuteTime": {
     "end_time": "2025-02-26T15:16:07.455743Z",
     "start_time": "2025-02-26T15:15:49.484606Z"
    }
   },
   "cell_type": "code",
   "source": [
    "ref = \"GE_repNativnew\"\n",
    "list_patients = df_ref.loc[df_ref[\"pre_RT_reference\"] == ref, \"AIDREAM_ID\"].tolist()\n",
    "\n",
    "print(fr\"Number of patients with {ref} reference: {len(list_patients)}\")\n",
    "\n",
    "for i, patient in enumerate(list_patients):\n",
    "\n",
    "    print(fr\"Processing {i + 1}/{len(list_patients)}: {patient} .........\")\n",
    "\n",
    "    processed_label_registerer.apply_affine_transformation_to_labels(patient=patient,\n",
    "                                                                     stage=\"pre_RT\",\n",
    "                                                                     reference=ref,\n",
    "                                                                     list_labels=list_pre_rt_labels)\n",
    "\n",
    "    processed_label_registerer.apply_syn_transformation_to_labels(patient=patient,\n",
    "                                                                  stage=\"pre_RT\",\n",
    "                                                                  reference=ref,\n",
    "                                                                  list_labels=list_pre_rt_labels)\n"
   ],
   "id": "7a604c5d6a7b0310",
   "outputs": [
    {
     "name": "stdout",
     "output_type": "stream",
     "text": [
      "Number of patients with GE_repNativnew reference: 1\n",
      "Processing 1/1: AIDREAM_358 .........\n",
      "Loading AIDREAM_358 ATLAS pre_RT T1...\n",
      "Loading AIDREAM_358 pre_RT source imaging...\n",
      "Registering the source imaging on the ATLAS pre_RT T1...\n",
      "Warping the source imaging using the affine transformation...\n",
      "Applying affine transformation to L1 for AIDREAM_358 pre_RT ...\n",
      "Applying affine transformation to L2 for AIDREAM_358 pre_RT ...\n",
      "Applying affine transformation to L3 for AIDREAM_358 pre_RT ...\n",
      "Applying affine transformation to L4 for AIDREAM_358 pre_RT ...\n",
      "Applying affine transformation to L5 for AIDREAM_358 pre_RT ...\n",
      "Loading AIDREAM_358 ATLAS pre_RT T1CE...\n",
      "Loading AIDREAM_358 pre_RT Affine registered source imaging...\n",
      "Registering the source imaging on the ATLAS pre_RT T1CE...\n",
      "Warping the source imaging using the SyN transformation...\n",
      "Applying SyN transformation to L1 for AIDREAM_358 pre_RT ...\n",
      "Applying SyN transformation to L2 for AIDREAM_358 pre_RT ...\n",
      "Applying SyN transformation to L3 for AIDREAM_358 pre_RT ...\n",
      "Applying SyN transformation to L4 for AIDREAM_358 pre_RT ...\n",
      "Applying SyN transformation to L5 for AIDREAM_358 pre_RT ...\n"
     ]
    }
   ],
   "execution_count": 11
  },
  {
   "metadata": {},
   "cell_type": "markdown",
   "source": "### 1.6. JBD : Quel repère ? Pas de crâne, jcomprends pas  patients :",
   "id": "e084dd40295c20aa"
  },
  {
   "metadata": {
    "ExecuteTime": {
     "end_time": "2025-02-26T15:16:25.360855Z",
     "start_time": "2025-02-26T15:16:25.357984Z"
    }
   },
   "cell_type": "code",
   "source": [
    "ref = \"JBD : Quel repère ? Pas de crâne, jcomprends pas\"\n",
    "list_patients = df_ref.loc[df_ref[\"pre_RT_reference\"] == ref, \"AIDREAM_ID\"].tolist()\n",
    "\n",
    "ref = \"JBD\"\n",
    "\n",
    "print(fr\"Number of patients with {ref} reference: {len(list_patients)}\")\n",
    "\n",
    "for i, patient in enumerate(list_patients):\n",
    "\n",
    "    print(fr\"Processing {i + 1}/{len(list_patients)}: {patient} .........\")\n",
    "\n",
    "    processed_label_registerer.apply_affine_transformation_to_labels(patient=patient,\n",
    "                                                                     stage=\"pre_RT\",\n",
    "                                                                     reference=ref,\n",
    "                                                                     list_labels=list_pre_rt_labels)\n",
    "\n",
    "    processed_label_registerer.apply_syn_transformation_to_labels(patient=patient,\n",
    "                                                                  stage=\"pre_RT\",\n",
    "                                                                  reference=ref,\n",
    "                                                                  list_labels=list_pre_rt_labels)\n"
   ],
   "id": "ffc0d5a12ed0b75f",
   "outputs": [
    {
     "name": "stdout",
     "output_type": "stream",
     "text": [
      "Number of patients with JBD reference: 0\n"
     ]
    }
   ],
   "execution_count": 12
  },
  {
   "metadata": {},
   "cell_type": "markdown",
   "source": "### 1.7 repère natif patients :",
   "id": "b94bf2af84d18b8e"
  },
  {
   "metadata": {
    "ExecuteTime": {
     "end_time": "2025-02-26T15:16:27.786132Z",
     "start_time": "2025-02-26T15:16:27.783491Z"
    }
   },
   "cell_type": "code",
   "source": [
    "ref = \"Repère natif\"\n",
    "list_patients = df_ref.loc[df_ref[\"pre_RT_reference\"] == ref, \"AIDREAM_ID\"].tolist()\n",
    "\n",
    "ref = \"Repere natif\"\n",
    "print(fr\"Number of patients with {ref} reference: {len(list_patients)}\")\n",
    "\n",
    "for i, patient in enumerate(list_patients):\n",
    "\n",
    "    print(fr\"Processing {i + 1}/{len(list_patients)}: {patient} .........\")\n",
    "\n",
    "    native_label_registerer.apply_affine_transformation_to_labels(patient=patient,\n",
    "                                                                  stage=\"pre_RT\",\n",
    "                                                                  reference=ref,\n",
    "                                                                  list_labels=list_pre_rt_labels)\n"
   ],
   "id": "ff5f829b3838e9de",
   "outputs": [
    {
     "name": "stdout",
     "output_type": "stream",
     "text": [
      "Number of patients with Repere natif reference: 0\n"
     ]
    }
   ],
   "execution_count": 13
  },
  {
   "metadata": {},
   "cell_type": "markdown",
   "source": "### 1.8. skullstripaxialized RS recalé sur GE patients :",
   "id": "5d07070010e6dd41"
  },
  {
   "metadata": {
    "ExecuteTime": {
     "end_time": "2025-02-26T15:16:29.628340Z",
     "start_time": "2025-02-26T15:16:29.625523Z"
    }
   },
   "cell_type": "code",
   "source": [
    "ref = \"skullstripaxialized RS recalé sur GE\"\n",
    "list_patients = df_ref.loc[df_ref[\"pre_RT_reference\"] == ref, \"AIDREAM_ID\"].tolist()\n",
    "\n",
    "ref = \"skullstripaxialized RS recale sur GE\"\n",
    "\n",
    "print(fr\"Number of patients with {ref} reference: {len(list_patients)}\")\n",
    "\n",
    "for i, patient in enumerate(list_patients):\n",
    "\n",
    "    print(fr\"Processing {i + 1}/{len(list_patients)}: {patient} .........\")\n",
    "\n",
    "    processed_label_registerer.apply_affine_transformation_to_labels(patient=patient,\n",
    "                                                                     stage=\"pre_RT\",\n",
    "                                                                     reference=ref,\n",
    "                                                                     list_labels=list_pre_rt_labels)\n",
    "\n",
    "    processed_label_registerer.apply_syn_transformation_to_labels(patient=patient,\n",
    "                                                                  stage=\"pre_RT\",\n",
    "                                                                  reference=ref,\n",
    "                                                                  list_labels=list_pre_rt_labels)\n"
   ],
   "id": "1ade2c798426d546",
   "outputs": [
    {
     "name": "stdout",
     "output_type": "stream",
     "text": [
      "Number of patients with skullstripaxialized RS recale sur GE reference: 0\n"
     ]
    }
   ],
   "execution_count": 14
  },
  {
   "metadata": {},
   "cell_type": "markdown",
   "source": "# 2. Second, register Rechute labels :",
   "id": "bae2e34aa5b1d244"
  },
  {
   "metadata": {
    "ExecuteTime": {
     "end_time": "2025-03-03T08:28:25.108850Z",
     "start_time": "2025-03-03T08:28:25.107208Z"
    }
   },
   "cell_type": "code",
   "source": [
    "dir_workspace = constants.DIR_DEFAULT_HARD_DRIVE / \"AIDREAM DATA\" / \"LABELS DATA\" / \"REGISTERED LABELS ON PRE_RT T1\"\n",
    "dir_workspace.mkdir(parents=True, exist_ok=True)\n",
    "\n",
    "list_rechute_labels = [\"L1R\", \"L2R\", \"L3R\", \"L4R\", \"L5R\"]\n"
   ],
   "id": "bc8f1060bc8ead39",
   "outputs": [],
   "execution_count": 5
  },
  {
   "metadata": {
    "ExecuteTime": {
     "end_time": "2025-03-03T08:28:41.855479Z",
     "start_time": "2025-03-03T08:28:41.853617Z"
    }
   },
   "cell_type": "code",
   "source": [
    "list_patients = cu.get_perfusion_patients()\n",
    "list_patients = [\"AIDREAM_342\"]\n",
    "\n",
    "print(fr\"Number of patients: {len(list_patients)}\")\n"
   ],
   "id": "ccde7e3a97713061",
   "outputs": [
    {
     "name": "stdout",
     "output_type": "stream",
     "text": [
      "Number of patients: 1\n"
     ]
    }
   ],
   "execution_count": 6
  },
  {
   "metadata": {
    "ExecuteTime": {
     "end_time": "2025-03-03T08:28:42.951513Z",
     "start_time": "2025-03-03T08:28:42.948253Z"
    }
   },
   "cell_type": "code",
   "source": "df_ref = cu.get_referential_table(list_patients)",
   "id": "d2596a2ed57c6cd5",
   "outputs": [],
   "execution_count": 7
  },
  {
   "metadata": {
    "ExecuteTime": {
     "end_time": "2025-03-03T08:28:43.569770Z",
     "start_time": "2025-03-03T08:28:43.565012Z"
    }
   },
   "cell_type": "code",
   "source": "df_ref.groupby(\"Rechute_reference\").count()\n",
   "id": "937076e0c23db047",
   "outputs": [
    {
     "data": {
      "text/plain": [
       "                         AIDREAM_ID  cohort_ID  local_ID  perfusion  \\\n",
       "Rechute_reference                                                     \n",
       "GE_repNativAXIALISEDnew           1          1         1          1   \n",
       "\n",
       "                         complete_validation  surgery_type  pre_RT_reference  \\\n",
       "Rechute_reference                                                              \n",
       "GE_repNativAXIALISEDnew                    1             1                 1   \n",
       "\n",
       "                         pre_RT_TPS  valid_pre_RT_segmentation_model  \\\n",
       "Rechute_reference                                                      \n",
       "GE_repNativAXIALISEDnew           1                                1   \n",
       "\n",
       "                         valid_pre_RT_perfusion_model  Rechute_TPS  \\\n",
       "Rechute_reference                                                    \n",
       "GE_repNativAXIALISEDnew                             1            1   \n",
       "\n",
       "                         valid_Rechute_segmentation_model  \\\n",
       "Rechute_reference                                           \n",
       "GE_repNativAXIALISEDnew                                 1   \n",
       "\n",
       "                         valid_Rechute_perfusion_model  FREESURFER STATUS  \n",
       "Rechute_reference                                                          \n",
       "GE_repNativAXIALISEDnew                              1                  1  "
      ],
      "text/html": [
       "<div>\n",
       "<style scoped>\n",
       "    .dataframe tbody tr th:only-of-type {\n",
       "        vertical-align: middle;\n",
       "    }\n",
       "\n",
       "    .dataframe tbody tr th {\n",
       "        vertical-align: top;\n",
       "    }\n",
       "\n",
       "    .dataframe thead th {\n",
       "        text-align: right;\n",
       "    }\n",
       "</style>\n",
       "<table border=\"1\" class=\"dataframe\">\n",
       "  <thead>\n",
       "    <tr style=\"text-align: right;\">\n",
       "      <th></th>\n",
       "      <th>AIDREAM_ID</th>\n",
       "      <th>cohort_ID</th>\n",
       "      <th>local_ID</th>\n",
       "      <th>perfusion</th>\n",
       "      <th>complete_validation</th>\n",
       "      <th>surgery_type</th>\n",
       "      <th>pre_RT_reference</th>\n",
       "      <th>pre_RT_TPS</th>\n",
       "      <th>valid_pre_RT_segmentation_model</th>\n",
       "      <th>valid_pre_RT_perfusion_model</th>\n",
       "      <th>Rechute_TPS</th>\n",
       "      <th>valid_Rechute_segmentation_model</th>\n",
       "      <th>valid_Rechute_perfusion_model</th>\n",
       "      <th>FREESURFER STATUS</th>\n",
       "    </tr>\n",
       "    <tr>\n",
       "      <th>Rechute_reference</th>\n",
       "      <th></th>\n",
       "      <th></th>\n",
       "      <th></th>\n",
       "      <th></th>\n",
       "      <th></th>\n",
       "      <th></th>\n",
       "      <th></th>\n",
       "      <th></th>\n",
       "      <th></th>\n",
       "      <th></th>\n",
       "      <th></th>\n",
       "      <th></th>\n",
       "      <th></th>\n",
       "      <th></th>\n",
       "    </tr>\n",
       "  </thead>\n",
       "  <tbody>\n",
       "    <tr>\n",
       "      <th>GE_repNativAXIALISEDnew</th>\n",
       "      <td>1</td>\n",
       "      <td>1</td>\n",
       "      <td>1</td>\n",
       "      <td>1</td>\n",
       "      <td>1</td>\n",
       "      <td>1</td>\n",
       "      <td>1</td>\n",
       "      <td>1</td>\n",
       "      <td>1</td>\n",
       "      <td>1</td>\n",
       "      <td>1</td>\n",
       "      <td>1</td>\n",
       "      <td>1</td>\n",
       "      <td>1</td>\n",
       "    </tr>\n",
       "  </tbody>\n",
       "</table>\n",
       "</div>"
      ]
     },
     "execution_count": 8,
     "metadata": {},
     "output_type": "execute_result"
    }
   ],
   "execution_count": 8
  },
  {
   "metadata": {
    "ExecuteTime": {
     "end_time": "2025-03-03T08:28:44.891941Z",
     "start_time": "2025-03-03T08:28:44.890471Z"
    }
   },
   "cell_type": "code",
   "source": "# df_ref.loc[df_ref[\"AIDREAM_ID\"].isin([\"AIDREAM_145\", \"AIDREAM_61\", \"AIDREAM_306\", \"AIDREAM_307\", \"AIDREAM_308\", \"AIDREAM_348\"])]",
   "id": "e9fec861b4533b84",
   "outputs": [],
   "execution_count": 9
  },
  {
   "metadata": {},
   "cell_type": "markdown",
   "source": "### 2.1. AC_repATLAS patients :",
   "id": "3d9e3e52808f437b"
  },
  {
   "metadata": {
    "ExecuteTime": {
     "end_time": "2025-03-03T08:28:47.556423Z",
     "start_time": "2025-03-03T08:28:47.552854Z"
    }
   },
   "cell_type": "code",
   "source": [
    "# First, the patients with AC_repATLAS reference :\n",
    "ref = \"AC_repATLAS\"\n",
    "list_patients = df_ref.loc[df_ref[\"Rechute_reference\"] == ref, \"AIDREAM_ID\"].tolist()\n",
    "\n",
    "print(fr\"Number of patients with {ref} reference: {len(list_patients)}\")\n",
    "\n",
    "for i, patient in enumerate(list_patients):\n",
    "\n",
    "    print(fr\"Processing {i + 1}/{len(list_patients)}: {patient} .........\")\n",
    "\n",
    "    processed_label_registerer.apply_affine_transformation_to_labels(patient=patient,\n",
    "                                                                     stage=\"Rechute\",\n",
    "                                                                     reference=ref,\n",
    "                                                                     list_labels=list_rechute_labels)\n",
    "\n",
    "    processed_label_registerer.apply_syn_transformation_to_labels(patient=patient,\n",
    "                                                                  stage=\"Rechute\",\n",
    "                                                                  reference=ref,\n",
    "                                                                  list_labels=list_rechute_labels)\n"
   ],
   "id": "71f8dcabd60d385c",
   "outputs": [
    {
     "name": "stdout",
     "output_type": "stream",
     "text": [
      "Number of patients with AC_repATLAS reference: 0\n"
     ]
    }
   ],
   "execution_count": 10
  },
  {
   "metadata": {},
   "cell_type": "markdown",
   "source": "### 2.2. GE_repNativAXIALISEDnew patients :",
   "id": "361dfb58baeaba7"
  },
  {
   "metadata": {
    "ExecuteTime": {
     "end_time": "2025-03-03T08:29:10.361408Z",
     "start_time": "2025-03-03T08:28:49.387945Z"
    }
   },
   "cell_type": "code",
   "source": [
    "# First, the patients with AC_repATLAS reference :\n",
    "ref = \"GE_repNativAXIALISEDnew\"\n",
    "list_patients = df_ref.loc[df_ref[\"Rechute_reference\"] == ref, \"AIDREAM_ID\"].tolist()\n",
    "\n",
    "print(fr\"Number of patients with {ref} reference: {len(list_patients)}\")\n",
    "\n",
    "for i, patient in enumerate(list_patients):\n",
    "\n",
    "    print(fr\"Processing {i + 1}/{len(list_patients)}: {patient} .........\")\n",
    "\n",
    "    processed_label_registerer.apply_affine_transformation_to_labels(patient=patient,\n",
    "                                                                     stage=\"Rechute\",\n",
    "                                                                     reference=ref,\n",
    "                                                                     list_labels=list_rechute_labels)\n",
    "\n",
    "    processed_label_registerer.apply_syn_transformation_to_labels(patient=patient,\n",
    "                                                                  stage=\"Rechute\",\n",
    "                                                                  reference=ref,\n",
    "                                                                  list_labels=list_rechute_labels)"
   ],
   "id": "78fea9679b7c22c6",
   "outputs": [
    {
     "name": "stdout",
     "output_type": "stream",
     "text": [
      "Number of patients with GE_repNativAXIALISEDnew reference: 1\n",
      "Processing 1/1: AIDREAM_342 .........\n",
      "Loading AIDREAM_342 ATLAS pre_RT T1...\n",
      "Loading AIDREAM_342 Rechute source imaging...\n",
      "Registering the source imaging on the ATLAS pre_RT T1...\n",
      "Warping the source imaging using the affine transformation...\n",
      "Applying affine transformation to L1R for AIDREAM_342 Rechute ...\n",
      "Applying affine transformation to L2R for AIDREAM_342 Rechute ...\n",
      "Applying affine transformation to L3R for AIDREAM_342 Rechute ...\n",
      "Patient AIDREAM_342 doesn't have Rechute L4R, saving empty label !\n",
      "Patient AIDREAM_342 doesn't have Rechute L5R, saving empty label !\n",
      "Loading AIDREAM_342 ATLAS pre_RT T1CE...\n",
      "Loading AIDREAM_342 Rechute Affine registered source imaging...\n",
      "Registering the source imaging on the ATLAS pre_RT T1CE...\n",
      "Warping the source imaging using the SyN transformation...\n",
      "Applying SyN transformation to L1R for AIDREAM_342 Rechute ...\n",
      "Applying SyN transformation to L2R for AIDREAM_342 Rechute ...\n",
      "Applying SyN transformation to L3R for AIDREAM_342 Rechute ...\n",
      "Patient AIDREAM_342 doesn't have Rechute L4R, saving empty label !\n",
      "Patient AIDREAM_342 doesn't have Rechute L5R, saving empty label !\n"
     ]
    }
   ],
   "execution_count": 11
  },
  {
   "metadata": {},
   "cell_type": "markdown",
   "source": "### 2.3. Repère natif patients :",
   "id": "eff5a40b67fbed5f"
  },
  {
   "metadata": {
    "ExecuteTime": {
     "end_time": "2025-03-03T08:29:24.454426Z",
     "start_time": "2025-03-03T08:29:24.451922Z"
    }
   },
   "cell_type": "code",
   "source": [
    "ref = \"Repère natif\"\n",
    "list_patients = df_ref.loc[df_ref[\"Rechute_reference\"] == ref, \"AIDREAM_ID\"].tolist()\n",
    "\n",
    "ref = \"Repere natif\"\n",
    "print(fr\"Number of patients with {ref} reference: {len(list_patients)}\")\n",
    "\n",
    "for i, patient in enumerate(list_patients):\n",
    "\n",
    "    print(fr\"Processing {i + 1}/{len(list_patients)}: {patient} .........\")\n",
    "\n",
    "    native_label_registerer.apply_affine_transformation_to_labels(patient=patient,\n",
    "                                                                  stage=\"Rechute\",\n",
    "                                                                  reference=ref,\n",
    "                                                                  list_labels=list_rechute_labels)\n"
   ],
   "id": "5462c3fb311386bd",
   "outputs": [
    {
     "name": "stdout",
     "output_type": "stream",
     "text": [
      "Number of patients with Repere natif reference: 0\n"
     ]
    }
   ],
   "execution_count": 12
  },
  {
   "metadata": {},
   "cell_type": "markdown",
   "source": "## 2.4. skullstripaxialized RS recalé sur GE patients :",
   "id": "2e24870b6bb40b5d"
  },
  {
   "metadata": {
    "ExecuteTime": {
     "end_time": "2025-03-03T08:29:26.210047Z",
     "start_time": "2025-03-03T08:29:26.207532Z"
    }
   },
   "cell_type": "code",
   "source": [
    "ref = \"skullstripaxialized RS recalé sur GE\"\n",
    "\n",
    "list_patients = df_ref.loc[df_ref[\"Rechute_reference\"] == ref, \"AIDREAM_ID\"].tolist()\n",
    "\n",
    "print(fr\"Number of patients with {ref} reference: {len(list_patients)}\")\n",
    "\n",
    "ref = \"skullstripaxialized RS recale sur GE\"\n",
    "\n",
    "for i, patient in enumerate(list_patients):\n",
    "\n",
    "    print(fr\"Processing {i + 1}/{len(list_patients)}: {patient} .........\")\n",
    "\n",
    "    processed_label_registerer.apply_affine_transformation_to_labels(patient=patient,\n",
    "                                                                     stage=\"Rechute\",\n",
    "                                                                     reference=ref,\n",
    "                                                                     list_labels=list_rechute_labels)\n",
    "\n",
    "    processed_label_registerer.apply_syn_transformation_to_labels(patient=patient,\n",
    "                                                                  stage=\"Rechute\",\n",
    "                                                                  reference=ref,\n",
    "                                                                  list_labels=list_rechute_labels)\n",
    "\n"
   ],
   "id": "2f39b6077168a107",
   "outputs": [
    {
     "name": "stdout",
     "output_type": "stream",
     "text": [
      "Number of patients with skullstripaxialized RS recalé sur GE reference: 0\n"
     ]
    }
   ],
   "execution_count": 13
  },
  {
   "metadata": {},
   "cell_type": "markdown",
   "source": "## 2.4. NaN patients :",
   "id": "70909141ee1adbcc"
  },
  {
   "metadata": {
    "ExecuteTime": {
     "end_time": "2025-03-03T08:29:27.687884Z",
     "start_time": "2025-03-03T08:29:27.685324Z"
    }
   },
   "cell_type": "code",
   "source": [
    "ref = \"NaN\"\n",
    "\n",
    "list_patients = df_ref.loc[df_ref[\"Rechute_reference\"].isna(), \"AIDREAM_ID\"].tolist()\n",
    "\n",
    "print(fr\"Number of patients with {ref} reference: {len(list_patients)}\")\n",
    "\n",
    "for i, patient in enumerate(list_patients):\n",
    "\n",
    "    print(fr\"Processing {i + 1}/{len(list_patients)}: {patient} .........\")\n",
    "\n",
    "    native_label_registerer.apply_affine_transformation_to_labels(patient=patient,\n",
    "                                                                  stage=\"Rechute\",\n",
    "                                                                  reference=ref,\n",
    "                                                                  list_labels=list_rechute_labels)\n"
   ],
   "id": "16890819753c9b1d",
   "outputs": [
    {
     "name": "stdout",
     "output_type": "stream",
     "text": [
      "Number of patients with NaN reference: 0\n"
     ]
    }
   ],
   "execution_count": 14
  }
 ],
 "metadata": {
  "kernelspec": {
   "display_name": "Python 3",
   "language": "python",
   "name": "python3"
  },
  "language_info": {
   "codemirror_mode": {
    "name": "ipython",
    "version": 2
   },
   "file_extension": ".py",
   "mimetype": "text/x-python",
   "name": "python",
   "nbconvert_exporter": "python",
   "pygments_lexer": "ipython2",
   "version": "2.7.6"
  }
 },
 "nbformat": 4,
 "nbformat_minor": 5
}
