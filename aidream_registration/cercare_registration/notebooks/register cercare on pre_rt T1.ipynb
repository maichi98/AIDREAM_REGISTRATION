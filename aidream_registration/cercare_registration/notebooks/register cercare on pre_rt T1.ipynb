{
 "cells": [
  {
   "cell_type": "code",
   "id": "initial_id",
   "metadata": {
    "collapsed": true,
    "ExecuteTime": {
     "end_time": "2025-02-26T14:36:59.714672Z",
     "start_time": "2025-02-26T14:36:59.533116Z"
    }
   },
   "source": [
    "from aidream_registration import constants\n",
    "import aidream_registration.utils.cohort_utils as cu\n",
    "\n",
    "from aidream_registration.cercare_registration.cercare_registration_by_padding import CercareRegByPadding\n"
   ],
   "outputs": [],
   "execution_count": 1
  },
  {
   "metadata": {
    "ExecuteTime": {
     "end_time": "2025-02-26T14:39:53.381466Z",
     "start_time": "2025-02-26T14:39:53.379043Z"
    }
   },
   "cell_type": "code",
   "source": [
    "# the list of perfusion patients :\n",
    "list_patients = cu.get_perfusion_patients()\n",
    "print(fr\"Number of patients: {len(list_patients)}\")\n",
    "\n",
    "list_patients = [\n",
    "    patient\n",
    "    for patient in [\"AIDREAM_78\", \"AIDREAM_120\", \"AIDREAM_144\", \"AIDREAM_306\", \"AIDREAM_351\", \"AIDREAM_358\"]\n",
    "    if patient in list_patients\n",
    "]\n",
    "print(fr\"Number of patients: {len(list_patients)}\")\n"
   ],
   "id": "42b45194578e5b79",
   "outputs": [
    {
     "name": "stdout",
     "output_type": "stream",
     "text": [
      "Number of patients: 186\n",
      "Number of patients: 3\n"
     ]
    }
   ],
   "execution_count": 4
  },
  {
   "metadata": {
    "ExecuteTime": {
     "end_time": "2025-02-26T14:55:46.332131Z",
     "start_time": "2025-02-26T14:51:43.330458Z"
    }
   },
   "cell_type": "code",
   "source": [
    "# Register the CERCARE maps on the pre-RT T1 images by padding the CERCARE maps :\n",
    "cercare_registerer = CercareRegByPadding()\n",
    "\n",
    "for i, patient in enumerate(list_patients):\n",
    "    print(fr\"Processing patient {patient} ({i+1}/{len(list_patients)})\")\n",
    "\n",
    "    # register each biomarker using all available interpolators\n",
    "    for biomarker in set(constants.LIST_CERCARE_MAPS) - {\"brainmask\"}:\n",
    "        for interpolator in constants.LIST_INTERPOLATORS:\n",
    "            print(fr\"Registering {biomarker} using {interpolator} interpolator\")\n",
    "            cercare_registerer.register_cercare(patient=patient,\n",
    "                                                biomarker=biomarker,\n",
    "                                                interpolator=interpolator,\n",
    "                                                overwrite=True)\n",
    "\n",
    "    # register the brainmask using the genericLabel interpolator\n",
    "    print(fr\"Registering brainmask using genericLinear interpolator\")\n",
    "    cercare_registerer.register_cercare(patient=patient,\n",
    "                                        biomarker=\"brainmask\",\n",
    "                                        interpolator=\"genericLabel\",\n",
    "                                        overwrite=True)\n"
   ],
   "id": "51eeabb9e7113940",
   "outputs": [
    {
     "name": "stdout",
     "output_type": "stream",
     "text": [
      "Processing patient AIDREAM_120 (1/3)\n",
      "Registering CTH using linear interpolator\n",
      "Registering CTH for AIDREAM_120 successful !\n",
      "Registering CTH using bSpline interpolator\n",
      "Registering CTH for AIDREAM_120 successful !\n",
      "Registering CTH using lanczosWindowedSinc interpolator\n",
      "Registering CTH for AIDREAM_120 successful !\n",
      "Registering CTH using nearestNeighbor interpolator\n",
      "Registering CTH for AIDREAM_120 successful !\n",
      "Registering CTH using genericLabel interpolator\n",
      "Registering CTH for AIDREAM_120 successful !\n",
      "Registering rCMRO2 using linear interpolator\n",
      "Registering rCMRO2 for AIDREAM_120 successful !\n",
      "Registering rCMRO2 using bSpline interpolator\n",
      "Registering rCMRO2 for AIDREAM_120 successful !\n",
      "Registering rCMRO2 using lanczosWindowedSinc interpolator\n",
      "Registering rCMRO2 for AIDREAM_120 successful !\n",
      "Registering rCMRO2 using nearestNeighbor interpolator\n",
      "Registering rCMRO2 for AIDREAM_120 successful !\n",
      "Registering rCMRO2 using genericLabel interpolator\n",
      "Registering rCMRO2 for AIDREAM_120 successful !\n",
      "Registering Delay using linear interpolator\n",
      "Registering Delay for AIDREAM_120 successful !\n",
      "Registering Delay using bSpline interpolator\n",
      "Registering Delay for AIDREAM_120 successful !\n",
      "Registering Delay using lanczosWindowedSinc interpolator\n",
      "Registering Delay for AIDREAM_120 successful !\n",
      "Registering Delay using nearestNeighbor interpolator\n",
      "Registering Delay for AIDREAM_120 successful !\n",
      "Registering Delay using genericLabel interpolator\n",
      "Registering Delay for AIDREAM_120 successful !\n",
      "Registering rCBV using linear interpolator\n",
      "Registering rCBV for AIDREAM_120 successful !\n",
      "Registering rCBV using bSpline interpolator\n",
      "Registering rCBV for AIDREAM_120 successful !\n",
      "Registering rCBV using lanczosWindowedSinc interpolator\n",
      "Registering rCBV for AIDREAM_120 successful !\n",
      "Registering rCBV using nearestNeighbor interpolator\n",
      "Registering rCBV for AIDREAM_120 successful !\n",
      "Registering rCBV using genericLabel interpolator\n",
      "Registering rCBV for AIDREAM_120 successful !\n",
      "Registering rLeakage using linear interpolator\n",
      "Registering rLeakage for AIDREAM_120 successful !\n",
      "Registering rLeakage using bSpline interpolator\n",
      "Registering rLeakage for AIDREAM_120 successful !\n",
      "Registering rLeakage using lanczosWindowedSinc interpolator\n",
      "Registering rLeakage for AIDREAM_120 successful !\n",
      "Registering rLeakage using nearestNeighbor interpolator\n",
      "Registering rLeakage for AIDREAM_120 successful !\n",
      "Registering rLeakage using genericLabel interpolator\n",
      "Registering rLeakage for AIDREAM_120 successful !\n",
      "Registering OEF using linear interpolator\n",
      "Registering OEF for AIDREAM_120 successful !\n",
      "Registering OEF using bSpline interpolator\n",
      "Registering OEF for AIDREAM_120 successful !\n",
      "Registering OEF using lanczosWindowedSinc interpolator\n",
      "Registering OEF for AIDREAM_120 successful !\n",
      "Registering OEF using nearestNeighbor interpolator\n",
      "Registering OEF for AIDREAM_120 successful !\n",
      "Registering OEF using genericLabel interpolator\n",
      "Registering OEF for AIDREAM_120 successful !\n",
      "Registering COV using linear interpolator\n",
      "Registering COV for AIDREAM_120 successful !\n",
      "Registering COV using bSpline interpolator\n",
      "Registering COV for AIDREAM_120 successful !\n",
      "Registering COV using lanczosWindowedSinc interpolator\n",
      "Registering COV for AIDREAM_120 successful !\n",
      "Registering COV using nearestNeighbor interpolator\n",
      "Registering COV for AIDREAM_120 successful !\n",
      "Registering COV using genericLabel interpolator\n",
      "Registering COV for AIDREAM_120 successful !\n",
      "Registering brainmask using genericLinear interpolator\n",
      "Registering brainmask for AIDREAM_120 successful !\n",
      "Processing patient AIDREAM_306 (2/3)\n",
      "Registering CTH using linear interpolator\n",
      "Registering CTH for AIDREAM_306 successful !\n",
      "Registering CTH using bSpline interpolator\n",
      "Registering CTH for AIDREAM_306 successful !\n",
      "Registering CTH using lanczosWindowedSinc interpolator\n",
      "Registering CTH for AIDREAM_306 successful !\n",
      "Registering CTH using nearestNeighbor interpolator\n",
      "Registering CTH for AIDREAM_306 successful !\n",
      "Registering CTH using genericLabel interpolator\n",
      "Registering CTH for AIDREAM_306 successful !\n",
      "Registering rCMRO2 using linear interpolator\n",
      "Registering rCMRO2 for AIDREAM_306 successful !\n",
      "Registering rCMRO2 using bSpline interpolator\n",
      "Registering rCMRO2 for AIDREAM_306 successful !\n",
      "Registering rCMRO2 using lanczosWindowedSinc interpolator\n",
      "Registering rCMRO2 for AIDREAM_306 successful !\n",
      "Registering rCMRO2 using nearestNeighbor interpolator\n",
      "Registering rCMRO2 for AIDREAM_306 successful !\n",
      "Registering rCMRO2 using genericLabel interpolator\n",
      "Registering rCMRO2 for AIDREAM_306 successful !\n",
      "Registering Delay using linear interpolator\n",
      "Registering Delay for AIDREAM_306 successful !\n",
      "Registering Delay using bSpline interpolator\n",
      "Registering Delay for AIDREAM_306 successful !\n",
      "Registering Delay using lanczosWindowedSinc interpolator\n",
      "Registering Delay for AIDREAM_306 successful !\n",
      "Registering Delay using nearestNeighbor interpolator\n",
      "Registering Delay for AIDREAM_306 successful !\n",
      "Registering Delay using genericLabel interpolator\n",
      "Registering Delay for AIDREAM_306 successful !\n",
      "Registering rCBV using linear interpolator\n",
      "Registering rCBV for AIDREAM_306 successful !\n",
      "Registering rCBV using bSpline interpolator\n",
      "Registering rCBV for AIDREAM_306 successful !\n",
      "Registering rCBV using lanczosWindowedSinc interpolator\n",
      "Registering rCBV for AIDREAM_306 successful !\n",
      "Registering rCBV using nearestNeighbor interpolator\n",
      "Registering rCBV for AIDREAM_306 successful !\n",
      "Registering rCBV using genericLabel interpolator\n",
      "Registering rCBV for AIDREAM_306 successful !\n",
      "Registering rLeakage using linear interpolator\n",
      "Registering rLeakage for AIDREAM_306 successful !\n",
      "Registering rLeakage using bSpline interpolator\n",
      "Registering rLeakage for AIDREAM_306 successful !\n",
      "Registering rLeakage using lanczosWindowedSinc interpolator\n",
      "Registering rLeakage for AIDREAM_306 successful !\n",
      "Registering rLeakage using nearestNeighbor interpolator\n",
      "Registering rLeakage for AIDREAM_306 successful !\n",
      "Registering rLeakage using genericLabel interpolator\n",
      "Registering rLeakage for AIDREAM_306 successful !\n",
      "Registering OEF using linear interpolator\n",
      "Registering OEF for AIDREAM_306 successful !\n",
      "Registering OEF using bSpline interpolator\n",
      "Registering OEF for AIDREAM_306 successful !\n",
      "Registering OEF using lanczosWindowedSinc interpolator\n",
      "Registering OEF for AIDREAM_306 successful !\n",
      "Registering OEF using nearestNeighbor interpolator\n",
      "Registering OEF for AIDREAM_306 successful !\n",
      "Registering OEF using genericLabel interpolator\n",
      "Registering OEF for AIDREAM_306 successful !\n",
      "Registering COV using linear interpolator\n",
      "Registering COV for AIDREAM_306 successful !\n",
      "Registering COV using bSpline interpolator\n",
      "Registering COV for AIDREAM_306 successful !\n",
      "Registering COV using lanczosWindowedSinc interpolator\n",
      "Registering COV for AIDREAM_306 successful !\n",
      "Registering COV using nearestNeighbor interpolator\n",
      "Registering COV for AIDREAM_306 successful !\n",
      "Registering COV using genericLabel interpolator\n",
      "Registering COV for AIDREAM_306 successful !\n",
      "Registering brainmask using genericLinear interpolator\n",
      "Registering brainmask for AIDREAM_306 successful !\n",
      "Processing patient AIDREAM_358 (3/3)\n",
      "Registering CTH using linear interpolator\n",
      "Registering CTH for AIDREAM_358 successful !\n",
      "Registering CTH using bSpline interpolator\n",
      "Registering CTH for AIDREAM_358 successful !\n",
      "Registering CTH using lanczosWindowedSinc interpolator\n",
      "Registering CTH for AIDREAM_358 successful !\n",
      "Registering CTH using nearestNeighbor interpolator\n",
      "Registering CTH for AIDREAM_358 successful !\n",
      "Registering CTH using genericLabel interpolator\n",
      "Registering CTH for AIDREAM_358 successful !\n",
      "Registering rCMRO2 using linear interpolator\n",
      "Registering rCMRO2 for AIDREAM_358 successful !\n",
      "Registering rCMRO2 using bSpline interpolator\n",
      "Registering rCMRO2 for AIDREAM_358 successful !\n",
      "Registering rCMRO2 using lanczosWindowedSinc interpolator\n",
      "Registering rCMRO2 for AIDREAM_358 successful !\n",
      "Registering rCMRO2 using nearestNeighbor interpolator\n",
      "Registering rCMRO2 for AIDREAM_358 successful !\n",
      "Registering rCMRO2 using genericLabel interpolator\n",
      "Registering rCMRO2 for AIDREAM_358 successful !\n",
      "Registering Delay using linear interpolator\n",
      "Registering Delay for AIDREAM_358 successful !\n",
      "Registering Delay using bSpline interpolator\n",
      "Registering Delay for AIDREAM_358 successful !\n",
      "Registering Delay using lanczosWindowedSinc interpolator\n",
      "Registering Delay for AIDREAM_358 successful !\n",
      "Registering Delay using nearestNeighbor interpolator\n",
      "Registering Delay for AIDREAM_358 successful !\n",
      "Registering Delay using genericLabel interpolator\n",
      "Registering Delay for AIDREAM_358 successful !\n",
      "Registering rCBV using linear interpolator\n",
      "Registering rCBV for AIDREAM_358 successful !\n",
      "Registering rCBV using bSpline interpolator\n",
      "Registering rCBV for AIDREAM_358 successful !\n",
      "Registering rCBV using lanczosWindowedSinc interpolator\n",
      "Registering rCBV for AIDREAM_358 successful !\n",
      "Registering rCBV using nearestNeighbor interpolator\n",
      "Registering rCBV for AIDREAM_358 successful !\n",
      "Registering rCBV using genericLabel interpolator\n",
      "Registering rCBV for AIDREAM_358 successful !\n",
      "Registering rLeakage using linear interpolator\n",
      "Registering rLeakage for AIDREAM_358 successful !\n",
      "Registering rLeakage using bSpline interpolator\n",
      "Registering rLeakage for AIDREAM_358 successful !\n",
      "Registering rLeakage using lanczosWindowedSinc interpolator\n",
      "Registering rLeakage for AIDREAM_358 successful !\n",
      "Registering rLeakage using nearestNeighbor interpolator\n",
      "Registering rLeakage for AIDREAM_358 successful !\n",
      "Registering rLeakage using genericLabel interpolator\n",
      "Registering rLeakage for AIDREAM_358 successful !\n",
      "Registering OEF using linear interpolator\n",
      "Registering OEF for AIDREAM_358 successful !\n",
      "Registering OEF using bSpline interpolator\n",
      "Registering OEF for AIDREAM_358 successful !\n",
      "Registering OEF using lanczosWindowedSinc interpolator\n",
      "Registering OEF for AIDREAM_358 successful !\n",
      "Registering OEF using nearestNeighbor interpolator\n",
      "Registering OEF for AIDREAM_358 successful !\n",
      "Registering OEF using genericLabel interpolator\n",
      "Registering OEF for AIDREAM_358 successful !\n",
      "Registering COV using linear interpolator\n",
      "Registering COV for AIDREAM_358 successful !\n",
      "Registering COV using bSpline interpolator\n",
      "Registering COV for AIDREAM_358 successful !\n",
      "Registering COV using lanczosWindowedSinc interpolator\n",
      "Registering COV for AIDREAM_358 successful !\n",
      "Registering COV using nearestNeighbor interpolator\n",
      "Registering COV for AIDREAM_358 successful !\n",
      "Registering COV using genericLabel interpolator\n",
      "Registering COV for AIDREAM_358 successful !\n",
      "Registering brainmask using genericLinear interpolator\n",
      "Registering brainmask for AIDREAM_358 successful !\n"
     ]
    }
   ],
   "execution_count": 14
  },
  {
   "metadata": {
    "ExecuteTime": {
     "end_time": "2025-02-26T14:57:13.740809Z",
     "start_time": "2025-02-26T14:57:13.738832Z"
    }
   },
   "cell_type": "code",
   "source": [
    "print(\"y\")\n",
    "\n"
   ],
   "id": "c7a4a995d3eb00b",
   "outputs": [
    {
     "name": "stdout",
     "output_type": "stream",
     "text": [
      "y\n"
     ]
    }
   ],
   "execution_count": 15
  },
  {
   "metadata": {
    "ExecuteTime": {
     "end_time": "2025-02-26T14:42:44.014555Z",
     "start_time": "2025-02-26T14:42:44.012202Z"
    }
   },
   "cell_type": "code",
   "source": [
    "a = 100\n",
    "\n",
    "fr\"\\test\\test\\test\""
   ],
   "id": "d7348ccffa6806eb",
   "outputs": [
    {
     "data": {
      "text/plain": [
       "'\\\\test\\\\test\\\\test'"
      ]
     },
     "execution_count": 12,
     "metadata": {},
     "output_type": "execute_result"
    }
   ],
   "execution_count": 12
  },
  {
   "metadata": {},
   "cell_type": "code",
   "outputs": [],
   "execution_count": null,
   "source": "\"",
   "id": "35f7bd227fba1199"
  }
 ],
 "metadata": {
  "kernelspec": {
   "display_name": "Python 3",
   "language": "python",
   "name": "python3"
  },
  "language_info": {
   "codemirror_mode": {
    "name": "ipython",
    "version": 2
   },
   "file_extension": ".py",
   "mimetype": "text/x-python",
   "name": "python",
   "nbconvert_exporter": "python",
   "pygments_lexer": "ipython2",
   "version": "2.7.6"
  }
 },
 "nbformat": 4,
 "nbformat_minor": 5
}
