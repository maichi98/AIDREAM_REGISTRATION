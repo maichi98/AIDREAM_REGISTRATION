{
 "cells": [
  {
   "metadata": {
    "ExecuteTime": {
     "end_time": "2025-01-19T19:40:33.495437300Z",
     "start_time": "2025-01-19T19:40:33.490819300Z"
    }
   },
   "cell_type": "code",
   "source": [
    "import pandas as pd\n",
    "import SimpleITK as sitk\n",
    "\n",
    "from aidream_registration import constants\n",
    "from aidream_registration.dataloaders import AtlasImagingNiftiLoader\n",
    "from aidream_registration.utils.cohort_utils import get_perfusion_patients\n",
    "from sklearn.utils import resample\n",
    "\n",
    "from torch.optim.lr_scheduler import ReduceLROnPlateau\n",
    "\n",
    "import torch\n",
    "import torch.nn as nn\n",
    "import torch.optim as optim\n",
    "from torch.utils.data import DataLoader, TensorDataset, Dataset\n",
    "from sklearn.model_selection import train_test_split\n",
    "\n",
    "\n",
    "import numpy as np\n",
    "import ants\n"
   ],
   "id": "549063a71e52ee69",
   "outputs": [],
   "execution_count": 18
  },
  {
   "metadata": {
    "ExecuteTime": {
     "end_time": "2025-01-19T19:20:46.170835200Z",
     "start_time": "2025-01-19T19:20:46.092484100Z"
    }
   },
   "cell_type": "code",
   "source": [
    "torch.cuda.empty_cache()\n",
    "torch.cuda.is_available()"
   ],
   "id": "fe8f70e697ee66b3",
   "outputs": [
    {
     "data": {
      "text/plain": "True"
     },
     "execution_count": 2,
     "metadata": {},
     "output_type": "execute_result"
    }
   ],
   "execution_count": 2
  },
  {
   "metadata": {
    "ExecuteTime": {
     "end_time": "2025-01-19T19:20:46.178118600Z",
     "start_time": "2025-01-19T19:20:46.166833900Z"
    }
   },
   "cell_type": "code",
   "source": [
    "list_patients = get_perfusion_patients()\n",
    "print(\"Number of patients:\", len(list_patients))\n"
   ],
   "id": "87b405eef8b2932",
   "outputs": [
    {
     "name": "stdout",
     "output_type": "stream",
     "text": [
      "Number of patients: 186\n"
     ]
    }
   ],
   "execution_count": 3
  },
  {
   "metadata": {
    "ExecuteTime": {
     "end_time": "2025-01-19T19:20:46.188181900Z",
     "start_time": "2025-01-19T19:20:46.179115400Z"
    }
   },
   "cell_type": "code",
   "source": [
    "# Load the atlas imaging nifti loader :\n",
    "atlas_loader = AtlasImagingNiftiLoader(source_mri=\"PIPELINE_SS\")\n"
   ],
   "id": "54d7e445203caad7",
   "outputs": [],
   "execution_count": 4
  },
  {
   "metadata": {
    "ExecuteTime": {
     "end_time": "2025-01-19T19:40:22.569207Z",
     "start_time": "2025-01-19T19:40:22.310321200Z"
    }
   },
   "cell_type": "code",
   "source": [
    "# First, load the hammersmith atlas, and create a mask :\n",
    "path_hammersmith = constants.DIR_DATA / \"hammersmith\" / \"T1w_ICBM_skullstripped.nii.gz\"\n",
    "ants_hammersmith = ants.image_read(str(path_hammersmith))\n",
    "\n",
    "sitk_hammersmith = sitk.ReadImage(str(path_hammersmith))\n",
    "mask_hammersmith = ants_hammersmith > 0\n",
    "print(f\"Hammersmith mask volume: {mask_hammersmith.sum() / 1e3:.2f} cm3\")\n"
   ],
   "id": "9910f78f82892064",
   "outputs": [
    {
     "name": "stdout",
     "output_type": "stream",
     "text": [
      "Hammersmith mask volume: 1886.57 cm3\n"
     ]
    }
   ],
   "execution_count": 17
  },
  {
   "metadata": {
    "ExecuteTime": {
     "end_time": "2025-01-19T19:20:47.625835200Z",
     "start_time": "2025-01-19T19:20:46.352981800Z"
    }
   },
   "cell_type": "code",
   "source": [
    "# Load all segmentations in a dictionary :\n",
    "dict_segmentations = {\n",
    "    path_seg.name.removesuffix(\".nii.gz\"): ants.image_read(str(path_seg)) > 0\n",
    "    for path_seg in (constants.DIR_DATA / \"hammersmith\").glob(\"*.nii.gz\")\n",
    "    if path_seg.name != \"T1w_ICBM_skullstripped.nii.gz\"\n",
    "}\n",
    "\n",
    "print(\"Number of segmentations:\", len(dict_segmentations))\n",
    "\n",
    "for segmentation, mask_segmentation in dict_segmentations.items():\n",
    "    print(fr\"{segmentation} volume: {mask_segmentation.sum() / 1e3:.2f} cm3\")\n"
   ],
   "id": "1ac898ad7dab4e50",
   "outputs": [
    {
     "name": "stdout",
     "output_type": "stream",
     "text": [
      "Number of segmentations: 21\n",
      "Brainstem volume: 26.94 cm3\n",
      "Corpus_callosum volume: 21.05 cm3\n",
      "L.frontal_lobe volume: 225.46 cm3\n",
      "L.Grey_nuclei volume: 18.22 cm3\n",
      "L.Limbic_lobe volume: 24.96 cm3\n",
      "L.Occipital_lobe volume: 75.31 cm3\n",
      "L.Parietal_lobe volume: 142.35 cm3\n",
      "L.Post_fossea volume: 90.63 cm3\n",
      "L.Temporal_lobe volume: 115.72 cm3\n",
      "L.Ventricles volume: 6.72 cm3\n",
      "L_insula volume: 16.62 cm3\n",
      "R.frontal_lobe volume: 227.50 cm3\n",
      "R.Grey_nuclei volume: 18.20 cm3\n",
      "R.Limbic_lobe volume: 24.28 cm3\n",
      "R.Occipital_lobe volume: 76.46 cm3\n",
      "R.Parietal_lobe volume: 141.59 cm3\n",
      "R.Post_fossea volume: 88.57 cm3\n",
      "R.Temporal_lobe volume: 121.76 cm3\n",
      "R.Ventricles volume: 6.11 cm3\n",
      "R_insula volume: 16.48 cm3\n",
      "third_ventricle volume: 0.63 cm3\n"
     ]
    }
   ],
   "execution_count": 6
  },
  {
   "metadata": {
    "ExecuteTime": {
     "end_time": "2025-01-19T19:20:47.670178600Z",
     "start_time": "2025-01-19T19:20:47.626835500Z"
    }
   },
   "cell_type": "code",
   "source": [
    "# Create mask_1 for the ventricle voxels :\n",
    "mask_1 = dict_segmentations[\"L.Ventricles\"] + dict_segmentations[\"R.Ventricles\"] + dict_segmentations[\"third_ventricle\"]\n",
    "mask_1 = mask_1 > 0\n",
    "\n",
    "print(f\"Ventricles volume: {mask_1.sum() / 1e3:.2f} cm3\")\n"
   ],
   "id": "99a8038587b31876",
   "outputs": [
    {
     "name": "stdout",
     "output_type": "stream",
     "text": [
      "Ventricles volume: 13.47 cm3\n"
     ]
    }
   ],
   "execution_count": 7
  },
  {
   "cell_type": "code",
   "outputs": [
    {
     "name": "stdout",
     "output_type": "stream",
     "text": [
      "Brain volume: 1472.11 cm3\n"
     ]
    }
   ],
   "source": [
    "# Create mask82 for the segmented voxels that are not ventricles :\n",
    "mask_2 = None\n",
    "for seg, mask_segmentation in dict_segmentations.items():\n",
    "\n",
    "    if seg not in [\"L.Ventricles\", \"R.Ventricles\", \"third_ventricle\"]:\n",
    "        if mask_2 is None:\n",
    "            mask_2 = mask_segmentation\n",
    "        else:\n",
    "            mask_2 += mask_segmentation\n",
    "\n",
    "mask_2 = mask_2 > 0\n",
    "\n",
    "print(f\"Brain volume: {mask_2.sum() / 1e3:.2f} cm3\")\n",
    "\n",
    "mask_2.to_file(str(constants.DIR_DATA / \"hammersmith\" / \"custom\" / \"mask_2.nii.gz\"))\n"
   ],
   "metadata": {
    "collapsed": false
   },
   "id": "37946bfbf6c89482",
   "execution_count": 100
  },
  {
   "cell_type": "code",
   "outputs": [],
   "source": [
    "# Apply region growing to the mask_1 to complete the ventricles :\n",
    "import SimpleITK as sitk\n",
    "\n",
    "left_ventricle = sitk.ReadImage(str(constants.DIR_DATA / \"hammersmith\" / \"L.Ventricles.nii.gz\"))\n",
    "right_ventricle = sitk.ReadImage(str(constants.DIR_DATA / \"hammersmith\" / \"R.Ventricles.nii.gz\"))\n",
    "third_ventricle = sitk.ReadImage(str(constants.DIR_DATA / \"hammersmith\" / \"third_ventricle.nii.gz\"))\n",
    "\n",
    "# Convert the masks to an integer type (e.g., 8-bit unsigned integer)\n",
    "left_ventricle = sitk.Cast(left_ventricle, sitk.sitkUInt8)\n",
    "right_ventricle = sitk.Cast(right_ventricle, sitk.sitkUInt8)\n",
    "third_ventricle = sitk.Cast(third_ventricle, sitk.sitkUInt8)\n"
   ],
   "metadata": {
    "collapsed": false,
    "ExecuteTime": {
     "end_time": "2025-01-19T19:57:05.635861400Z",
     "start_time": "2025-01-19T19:57:05.574055900Z"
    }
   },
   "id": "3ea4b267963bb524",
   "execution_count": 34
  },
  {
   "cell_type": "code",
   "outputs": [],
   "source": [
    "def clean_mask(mask_ventricle):\n",
    "    \n",
    "    mask_ventricle = sitk.Cast(mask_ventricle > 0, sitk.sitkUInt8)\n",
    "    cleaned_mask = sitk.RelabelComponent(sitk.ConnectedComponent(mask_ventricle), sortByObjectSize=True) == 1\n",
    "    \n",
    "    return cleaned_mask\n"
   ],
   "metadata": {
    "collapsed": false,
    "ExecuteTime": {
     "end_time": "2025-01-19T20:50:44.345956Z",
     "start_time": "2025-01-19T20:50:44.340764400Z"
    }
   },
   "id": "c6c6baf85fb4540f",
   "execution_count": 127
  },
  {
   "cell_type": "code",
   "outputs": [],
   "source": [
    "cleaned_left = clean_mask(left_ventricle)\n",
    "sitk.WriteImage(cleaned_left, str(constants.DIR_DATA / \"hammersmith\" / \"NEW\" / \"L.Ventricles_cleaned.nii.gz\"))\n"
   ],
   "metadata": {
    "collapsed": false,
    "ExecuteTime": {
     "end_time": "2025-01-19T20:53:00.508954400Z",
     "start_time": "2025-01-19T20:53:00.451562600Z"
    }
   },
   "id": "e25f4908835ff2d5",
   "execution_count": 131
  },
  {
   "cell_type": "code",
   "outputs": [],
   "source": [
    "import random\n",
    "def select_seed(mask_ventricle):\n",
    "    \n",
    "    mask_array = sitk.GetArrayFromImage(mask_ventricle)    \n",
    "    # Get the indices of the mask \n",
    "    indices = np.argwhere(mask_array > 0)            \n",
    "    seed = random.choice(indices)\n",
    "    # reordering the seed\n",
    "    seed = (int(seed[2]), int(seed[1]), int(seed[0]))\n",
    "    return seed\n"
   ],
   "metadata": {
    "collapsed": false,
    "ExecuteTime": {
     "end_time": "2025-01-19T20:53:00.602182900Z",
     "start_time": "2025-01-19T20:53:00.599643Z"
    }
   },
   "id": "80d015cfa7252ce1",
   "execution_count": 132
  },
  {
   "cell_type": "code",
   "outputs": [],
   "source": [
    "def grow_region(mask_ventricle, n_seeds=100, dilate=4):    \n",
    "    \n",
    "    print(\"Dilating mask...\")\n",
    "    dilated_mask_ventricle = sitk.BinaryDilate(mask_ventricle, [dilate] * mask_ventricle.GetDimension())\n",
    "    \n",
    "    print(\"Computing thresholds...\")\n",
    "    \n",
    "    mask_array = sitk.GetArrayFromImage(mask_ventricle)\n",
    "    hammersmith_array = sitk.GetArrayFromImage(sitk_hammersmith)\n",
    "    intensities = hammersmith_array[mask_array > 0]\n",
    "    \n",
    "    mean_intensity = np.mean(intensities)\n",
    "    std_intensity = np.std(intensities)\n",
    "    \n",
    "    print(\n",
    "        f\"Mean intensity: {mean_intensity:.2f}\",\n",
    "        f\"Standard deviation: {std_intensity:.2f}\",\n",
    "    )\n",
    "    lower_threshold = mean_intensity - 2 * std_intensity\n",
    "    upper_threshold = mean_intensity + 2 * std_intensity\n",
    "    \n",
    "    print(\n",
    "        f\"Lower threshold: {lower_threshold:.2f}\",\n",
    "        f\"Upper threshold: {upper_threshold:.2f}\"\n",
    "    )\n",
    "    \n",
    "    # print(\"Selecting seeds...\")\n",
    "    seeds = tuple(map(int, mask_array))\n",
    "    \n",
    "    print(\"Growing region...\")\n",
    "    region_grown = sitk.ConnectedThreshold(sitk_hammersmith, seedList=seeds, lower=lower_threshold, upper=upper_threshold)\n",
    "    \n",
    "    return region_grown\n",
    "    "
   ],
   "metadata": {
    "collapsed": false,
    "ExecuteTime": {
     "end_time": "2025-01-19T20:59:26.268075100Z",
     "start_time": "2025-01-19T20:59:26.261559500Z"
    }
   },
   "id": "e9b8ab2013559824",
   "execution_count": 147
  },
  {
   "cell_type": "code",
   "outputs": [
    {
     "name": "stdout",
     "output_type": "stream",
     "text": [
      "Dilating mask...\n",
      "Computing thresholds...\n",
      "Mean intensity: 29.68 Standard deviation: 6.53\n",
      "Lower threshold: 16.62 Upper threshold: 42.74\n"
     ]
    },
    {
     "ename": "TypeError",
     "evalue": "only length-1 arrays can be converted to Python scalars",
     "output_type": "error",
     "traceback": [
      "\u001B[1;31m---------------------------------------------------------------------------\u001B[0m",
      "\u001B[1;31mTypeError\u001B[0m                                 Traceback (most recent call last)",
      "Cell \u001B[1;32mIn[148], line 1\u001B[0m\n\u001B[1;32m----> 1\u001B[0m region_grown_left \u001B[38;5;241m=\u001B[39m grow_region(cleaned_left, n_seeds\u001B[38;5;241m=\u001B[39m\u001B[38;5;241m1000\u001B[39m, dilate\u001B[38;5;241m=\u001B[39m\u001B[38;5;241m4\u001B[39m)\n\u001B[0;32m      2\u001B[0m sitk\u001B[38;5;241m.\u001B[39mWriteImage(region_grown_left, \u001B[38;5;28mstr\u001B[39m(constants\u001B[38;5;241m.\u001B[39mDIR_DATA \u001B[38;5;241m/\u001B[39m \u001B[38;5;124m\"\u001B[39m\u001B[38;5;124mhammersmith\u001B[39m\u001B[38;5;124m\"\u001B[39m \u001B[38;5;241m/\u001B[39m \u001B[38;5;124m\"\u001B[39m\u001B[38;5;124mNEW\u001B[39m\u001B[38;5;124m\"\u001B[39m \u001B[38;5;241m/\u001B[39m \u001B[38;5;124m\"\u001B[39m\u001B[38;5;124mL.Ventricles_region_grown.nii.gz\u001B[39m\u001B[38;5;124m\"\u001B[39m))\n",
      "Cell \u001B[1;32mIn[147], line 28\u001B[0m, in \u001B[0;36mgrow_region\u001B[1;34m(mask_ventricle, n_seeds, dilate)\u001B[0m\n\u001B[0;32m     22\u001B[0m \u001B[38;5;28mprint\u001B[39m(\n\u001B[0;32m     23\u001B[0m     \u001B[38;5;124mf\u001B[39m\u001B[38;5;124m\"\u001B[39m\u001B[38;5;124mLower threshold: \u001B[39m\u001B[38;5;132;01m{\u001B[39;00mlower_threshold\u001B[38;5;132;01m:\u001B[39;00m\u001B[38;5;124m.2f\u001B[39m\u001B[38;5;132;01m}\u001B[39;00m\u001B[38;5;124m\"\u001B[39m,\n\u001B[0;32m     24\u001B[0m     \u001B[38;5;124mf\u001B[39m\u001B[38;5;124m\"\u001B[39m\u001B[38;5;124mUpper threshold: \u001B[39m\u001B[38;5;132;01m{\u001B[39;00mupper_threshold\u001B[38;5;132;01m:\u001B[39;00m\u001B[38;5;124m.2f\u001B[39m\u001B[38;5;132;01m}\u001B[39;00m\u001B[38;5;124m\"\u001B[39m\n\u001B[0;32m     25\u001B[0m )\n\u001B[0;32m     27\u001B[0m \u001B[38;5;66;03m# print(\"Selecting seeds...\")\u001B[39;00m\n\u001B[1;32m---> 28\u001B[0m seeds \u001B[38;5;241m=\u001B[39m \u001B[38;5;28mtuple\u001B[39m(\u001B[38;5;28mmap\u001B[39m(\u001B[38;5;28mint\u001B[39m, mask_array))\n\u001B[0;32m     30\u001B[0m \u001B[38;5;28mprint\u001B[39m(\u001B[38;5;124m\"\u001B[39m\u001B[38;5;124mGrowing region...\u001B[39m\u001B[38;5;124m\"\u001B[39m)\n\u001B[0;32m     31\u001B[0m region_grown \u001B[38;5;241m=\u001B[39m sitk\u001B[38;5;241m.\u001B[39mConnectedThreshold(sitk_hammersmith, seedList\u001B[38;5;241m=\u001B[39mseeds, lower\u001B[38;5;241m=\u001B[39mlower_threshold, upper\u001B[38;5;241m=\u001B[39mupper_threshold)\n",
      "\u001B[1;31mTypeError\u001B[0m: only length-1 arrays can be converted to Python scalars"
     ]
    }
   ],
   "source": [
    "region_grown_left = grow_region(cleaned_left, n_seeds=1000, dilate=4)\n",
    "sitk.WriteImage(region_grown_left, str(constants.DIR_DATA / \"hammersmith\" / \"NEW\" / \"L.Ventricles_region_grown.nii.gz\"))\n",
    "        "
   ],
   "metadata": {
    "collapsed": false,
    "ExecuteTime": {
     "end_time": "2025-01-19T20:59:26.955383600Z",
     "start_time": "2025-01-19T20:59:26.760997500Z"
    }
   },
   "id": "bdf5c1c900cdf77b",
   "execution_count": 148
  },
  {
   "cell_type": "code",
   "outputs": [],
   "source": [
    "mask_array = sitk.GetArrayFromImage(left_ventricle)"
   ],
   "metadata": {
    "collapsed": false,
    "ExecuteTime": {
     "end_time": "2025-01-19T21:00:11.564228900Z",
     "start_time": "2025-01-19T21:00:11.558594Z"
    }
   },
   "id": "8deb3ea4966e39e9",
   "execution_count": 152
  },
  {
   "cell_type": "code",
   "outputs": [
    {
     "data": {
      "text/plain": "array([1, 1, 1, ..., 1, 1, 1], dtype=uint8)"
     },
     "execution_count": 153,
     "metadata": {},
     "output_type": "execute_result"
    }
   ],
   "source": [
    "mask"
   ],
   "metadata": {
    "collapsed": false,
    "ExecuteTime": {
     "end_time": "2025-01-19T21:00:16.858475500Z",
     "start_time": "2025-01-19T21:00:16.834004100Z"
    }
   },
   "id": "6fb89229be6a5a58",
   "execution_count": 153
  }
 ],
 "metadata": {
  "kernelspec": {
   "display_name": "Python 3",
   "language": "python",
   "name": "python3"
  },
  "language_info": {
   "codemirror_mode": {
    "name": "ipython",
    "version": 2
   },
   "file_extension": ".py",
   "mimetype": "text/x-python",
   "name": "python",
   "nbconvert_exporter": "python",
   "pygments_lexer": "ipython2",
   "version": "2.7.6"
  }
 },
 "nbformat": 4,
 "nbformat_minor": 5
}
