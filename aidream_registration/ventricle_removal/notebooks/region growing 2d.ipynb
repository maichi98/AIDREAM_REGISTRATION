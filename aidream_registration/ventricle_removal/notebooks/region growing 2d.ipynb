{
 "cells": [
  {
   "metadata": {
    "ExecuteTime": {
     "end_time": "2025-01-20T08:37:05.889101Z",
     "start_time": "2025-01-20T08:37:05.886715Z"
    }
   },
   "cell_type": "code",
   "source": [
    "import pandas as pd\n",
    "import numpy as np\n",
    "import ants\n",
    "\n",
    "from aidream_registration import constants\n",
    "from aidream_registration.dataloaders import AtlasImagingNiftiLoader\n",
    "from aidream_registration.utils.cohort_utils import get_perfusion_patients"
   ],
   "id": "d8b7eebf0ab4c5b4",
   "outputs": [],
   "execution_count": 11
  },
  {
   "metadata": {
    "ExecuteTime": {
     "end_time": "2025-01-20T08:37:06.093344Z",
     "start_time": "2025-01-20T08:37:06.010392Z"
    }
   },
   "cell_type": "code",
   "source": [
    "# First, load the hammersmith atlas, and create a mask :\n",
    "path_hammersmith = constants.DIR_DATA / \"hammersmith\" / \"T1w_ICBM_skullstripped.nii.gz\"\n",
    "ants_hammersmith = ants.image_read(str(path_hammersmith))\n",
    "\n",
    "mask_hammersmith = ants_hammersmith > 0\n",
    "print(f\"Hammersmith mask volume: {mask_hammersmith.sum() / 1e3:.2f} cm3\")\n"
   ],
   "id": "2bf08da5b99af08b",
   "outputs": [
    {
     "name": "stdout",
     "output_type": "stream",
     "text": [
      "Hammersmith mask volume: 1886.57 cm3\n"
     ]
    }
   ],
   "execution_count": 12
  },
  {
   "metadata": {
    "ExecuteTime": {
     "end_time": "2025-01-20T08:37:06.643075Z",
     "start_time": "2025-01-20T08:37:06.197028Z"
    }
   },
   "cell_type": "code",
   "source": [
    "# Load all segmentations in a dictionary :\n",
    "dict_segmentations = {\n",
    "    path_seg.name.removesuffix(\".nii.gz\"): ants.image_read(str(path_seg)) > 0\n",
    "    for path_seg in (constants.DIR_DATA / \"hammersmith\").glob(\"*.nii.gz\")\n",
    "    if path_seg.name != \"T1w_ICBM_skullstripped.nii.gz\"\n",
    "}\n",
    "\n",
    "print(\"Number of segmentations:\", len(dict_segmentations))\n",
    "\n",
    "for segmentation, mask_segmentation in dict_segmentations.items():\n",
    "    print(fr\"{segmentation} volume: {mask_segmentation.sum() / 1e3:.2f} cm3\")\n"
   ],
   "id": "6fe8de42a23ed487",
   "outputs": [
    {
     "name": "stdout",
     "output_type": "stream",
     "text": [
      "Number of segmentations: 21\n",
      "L.Ventricles volume: 6.72 cm3\n",
      "R_insula volume: 16.48 cm3\n",
      "R.Ventricles volume: 6.11 cm3\n",
      "L.Temporal_lobe volume: 115.72 cm3\n",
      "R.Occipital_lobe volume: 76.46 cm3\n",
      "L.Grey_nuclei volume: 18.22 cm3\n",
      "R.Grey_nuclei volume: 18.20 cm3\n",
      "R.Limbic_lobe volume: 24.28 cm3\n",
      "Brainstem volume: 26.94 cm3\n",
      "L.frontal_lobe volume: 225.46 cm3\n",
      "third_ventricle volume: 0.63 cm3\n",
      "L.Post_fossea volume: 90.63 cm3\n",
      "L.Parietal_lobe volume: 142.35 cm3\n",
      "Corpus_callosum volume: 21.05 cm3\n",
      "R.Temporal_lobe volume: 121.76 cm3\n",
      "L.Occipital_lobe volume: 75.31 cm3\n",
      "R.frontal_lobe volume: 227.50 cm3\n",
      "R.Post_fossea volume: 88.57 cm3\n",
      "R.Parietal_lobe volume: 141.59 cm3\n",
      "L.Limbic_lobe volume: 24.96 cm3\n",
      "L_insula volume: 16.62 cm3\n"
     ]
    }
   ],
   "execution_count": 13
  },
  {
   "metadata": {
    "ExecuteTime": {
     "end_time": "2025-01-20T07:53:19.337635Z",
     "start_time": "2025-01-20T07:53:19.321340Z"
    }
   },
   "cell_type": "code",
   "source": [
    "# Create mask_1 for the ventricle voxels :\n",
    "mask_1 = dict_segmentations[\"L.Ventricles\"] + dict_segmentations[\"R.Ventricles\"] + dict_segmentations[\"third_ventricle\"]\n",
    "mask_1 = mask_1 > 0\n",
    "\n",
    "print(f\"Ventricles volume: {mask_1.sum() / 1e3:.2f} cm3\")\n"
   ],
   "id": "f02c16e65581cdc9",
   "outputs": [
    {
     "name": "stdout",
     "output_type": "stream",
     "text": [
      "Ventricles volume: 13.47 cm3\n"
     ]
    }
   ],
   "execution_count": 6
  },
  {
   "metadata": {
    "ExecuteTime": {
     "end_time": "2025-01-20T07:53:45.189891Z",
     "start_time": "2025-01-20T07:53:45.113248Z"
    }
   },
   "cell_type": "code",
   "source": [
    "# Create mask82 for the segmented voxels that are not ventricles :\n",
    "mask_2 = None\n",
    "for seg, mask_segmentation in dict_segmentations.items():\n",
    "\n",
    "    if seg not in [\"L.Ventricles\", \"R.Ventricles\", \"third_ventricle\"]:\n",
    "        if mask_2 is None:\n",
    "            mask_2 = mask_segmentation\n",
    "        else:\n",
    "            mask_2 += mask_segmentation\n",
    "\n",
    "mask_2 = mask_2 > 0\n",
    "\n",
    "print(f\"Brain volume: {mask_2.sum() / 1e3:.2f} cm3\")\n",
    "\n",
    "mask_2.to_file(str(constants.DIR_DATA / \"hammersmith\" / \"custom\" / \"mask_2.nii.gz\"))\n"
   ],
   "id": "98f7444f8d93ba66",
   "outputs": [
    {
     "name": "stdout",
     "output_type": "stream",
     "text": [
      "Brain volume: 1472.11 cm3\n"
     ]
    }
   ],
   "execution_count": 7
  },
  {
   "metadata": {},
   "cell_type": "code",
   "outputs": [],
   "execution_count": null,
   "source": [
    "# Create two bounding boxes for the ventricles , a small one and a big one :\n",
    "\n",
    "seg_idx = np.array(np.nonzero(mask_1.numpy()))\n",
    "\n",
    "bbox_min, bbox_max = np.min(seg_idx, axis=1), np.max(seg_idx, axis=1)\n",
    "\n",
    "bbox_min_1, bbox_max_1 = bbox_min - 3, bbox_max + 3\n",
    "bbox_min_2, bbox_max_2 = bbox_min - 8, bbox_max + 8\n",
    "\n",
    "np_bbox_1 = np.zeros(mask_1.shape)\n",
    "np_bbox_1[bbox_min_1[0]: bbox_max_1[0], bbox_min_1[1]: bbox_max_1[1], bbox_min_1[2]: bbox_max_1[2]] = 1\n",
    "\n",
    "np_bbox_2 = np.zeros(mask_1.shape)\n",
    "np_bbox_2[bbox_min_2[0]: bbox_max_2[0], bbox_min_2[1]: bbox_max_2[1], bbox_min_2[2]: bbox_max_2[2]] = 1\n",
    "\n",
    "mask_small = (ants.from_numpy(np_bbox_1, origin=mask_1.origin, spacing=mask_1.spacing, direction=mask_1.direction) > 0) * mask_hammersmith\n",
    "mask_big = (ants.from_numpy(np_bbox_2, origin=mask_1.origin, spacing=mask_1.spacing, direction=mask_1.direction) > 0) * mask_hammersmith\n"
   ],
   "id": "3be6341ecca37a20"
  }
 ],
 "metadata": {
  "kernelspec": {
   "display_name": "Python 3",
   "language": "python",
   "name": "python3"
  },
  "language_info": {
   "codemirror_mode": {
    "name": "ipython",
    "version": 2
   },
   "file_extension": ".py",
   "mimetype": "text/x-python",
   "name": "python",
   "nbconvert_exporter": "python",
   "pygments_lexer": "ipython2",
   "version": "2.7.6"
  }
 },
 "nbformat": 4,
 "nbformat_minor": 5
}
